{
 "cells": [
  {
   "cell_type": "code",
   "execution_count": 1,
   "metadata": {},
   "outputs": [],
   "source": [
    "import numpy as np\n",
    "import os\n",
    "import pandas as pd \n",
    "import matplotlib.pyplot as plt\n",
    "\n",
    "os.chdir('/Users/matthiasboeker/Desktop/Master_Thesis/Schizophrenia_Depression_Project')\n",
    "from Modules.func.support_functions import *"
   ]
  },
  {
   "cell_type": "code",
   "execution_count": 2,
   "metadata": {},
   "outputs": [],
   "source": [
    "shizophrenia_p, shizophrenia_c = load_data()\n",
    "#Reshape \n",
    "shizophrenia_p = [np.array(X).reshape(len(X), 1) for X in shizophrenia_p]\n",
    "shizophrenia_c = [np.array(X).reshape(len(X), 1) for X in shizophrenia_c]"
   ]
  },
  {
   "cell_type": "markdown",
   "metadata": {},
   "source": [
    "## Feature Extraction "
   ]
  },
  {
   "cell_type": "markdown",
   "metadata": {},
   "source": [
    "### Extract average activity and variablitiy "
   ]
  },
  {
   "cell_type": "code",
   "execution_count": 3,
   "metadata": {},
   "outputs": [],
   "source": [
    "means_p = np.array([np.mean(shizophrenia_p[i]) for i in range(0,len(shizophrenia_p))])\n",
    "means_c = np.array([np.mean(shizophrenia_c[i]) for i in range(0,len(shizophrenia_c))])\n",
    "var_p = np.array([np.var(shizophrenia_p[i]) for i in range(0,len(shizophrenia_p))])\n",
    "var_c = np.array([np.var(shizophrenia_c[i]) for i in range(0,len(shizophrenia_c))])"
   ]
  },
  {
   "cell_type": "markdown",
   "metadata": {},
   "source": [
    "### Extract 24h daily structure "
   ]
  },
  {
   "cell_type": "code",
   "execution_count": 4,
   "metadata": {},
   "outputs": [],
   "source": [
    "days_c = [np.array([shizophrenia_c[l][i*(60*24):(i+1)*(60*24)] for i in range(0,int(len(shizophrenia_c[l])/(60*24))-1)]) for l in range(0,len(shizophrenia_c))]\n",
    "days_p = [np.array([shizophrenia_p[l][i*(60*24):(i+1)*(60*24)] for i in range(0,int(len(shizophrenia_p[l])/(60*24))-1)]) for l in range(0,len(shizophrenia_p))]\n",
    "# Day mean and standard deviation\n",
    "day_mean_p = [np.mean(days_p[i], axis=0) for i in range(0,len(days_p))]\n",
    "day_mean_c = [np.mean(days_c[i], axis=0) for i in range(0,len(days_c))]\n",
    "prop_z_p = [np.mean([(days_p[i][j]==0).sum()/len(days_p[i][j]) for j in range(0,len(days_p[i]))]) for i in range(0,len(days_p))]\n",
    "prop_z_c = [np.mean([(days_c[i][j]==0).sum()/len(days_c[i][j]) for j in range(0,len(days_c[i]))]) for i in range(0,len(days_c))]"
   ]
  },
  {
   "cell_type": "markdown",
   "metadata": {},
   "source": [
    "### Extract 12h structure 9-21 day"
   ]
  },
  {
   "cell_type": "code",
   "execution_count": 5,
   "metadata": {},
   "outputs": [],
   "source": [
    "daily_c = [np.array([shizophrenia_c[l][i*(60*12):(i+1)*(60*12)] for i in range(0,int(len(shizophrenia_c[l])/(60*12))-1,2)]) for l in range(0,len(shizophrenia_c))]\n",
    "daily_p = [np.array([shizophrenia_p[l][i*(60*12):(i+1)*(60*12)] for i in range(0,int(len(shizophrenia_p[l])/(60*12))-1, 2)]) for l in range(0,len(shizophrenia_p))]\n",
    "# Daily mean and standard deviation\n",
    "daily_mean_p = [np.mean(daily_p[i], axis=0) for i in range(0,len(daily_p))]\n",
    "daily_mean_c = [np.mean(daily_c[i], axis=0) for i in range(0,len(daily_c))]\n",
    "daily_std_p = [np.std(daily_p[i], axis=0) for i in range(0,len(daily_p))]\n",
    "daily_std_c = [np.std(daily_c[i], axis=0) for i in range(0,len(daily_c))]"
   ]
  },
  {
   "cell_type": "markdown",
   "metadata": {},
   "source": [
    "### Extract 12h structure 21-9 night\n"
   ]
  },
  {
   "cell_type": "code",
   "execution_count": 6,
   "metadata": {},
   "outputs": [],
   "source": [
    "night_c = [np.array([shizophrenia_c[l][i*(60*12):(i+1)*(60*12)] for i in range(1,int(len(shizophrenia_c[l])/(60*12))-1,2)]) for l in range(0,len(shizophrenia_c))]\n",
    "night_p = [np.array([shizophrenia_p[l][i*(60*12):(i+1)*(60*12)] for i in range(1,int(len(shizophrenia_p[l])/(60*12))-1, 2)]) for l in range(0,len(shizophrenia_p))]\n",
    "# Nightly mean and standard deviation\n",
    "night_mean_p = [np.mean(night_p[i], axis=0) for i in range(0,len(night_p))]\n",
    "night_mean_c = [np.mean(night_c[i], axis=0) for i in range(0,len(night_c))]\n",
    "night_std_p = [np.std(night_p[i], axis=0) for i in range(0,len(night_p))]\n",
    "night_std_c = [np.std(night_c[i], axis=0) for i in range(0,len(night_c))]"
   ]
  },
  {
   "cell_type": "markdown",
   "metadata": {},
   "source": [
    "### Intradaily Variability "
   ]
  },
  {
   "cell_type": "code",
   "execution_count": 7,
   "metadata": {},
   "outputs": [],
   "source": [
    "#Squared Differenciate\n",
    "shizophrenia_c_nom = [(np.diff(shizophrenia_c[l],axis=0)[1:]**2).sum()*len(shizophrenia_c[l]) for l in range(0,len(shizophrenia_c))]\n",
    "shizophrenia_p_nom = [(np.diff(shizophrenia_p[l],axis=0)[1:]**2).sum()*len(shizophrenia_p[l]) for l in range(0,len(shizophrenia_p))]"
   ]
  },
  {
   "cell_type": "code",
   "execution_count": 8,
   "metadata": {},
   "outputs": [],
   "source": [
    "IV_c = [shizophrenia_c_nom[l]/((len(shizophrenia_c[l])-1)*var_c[l]) for l in range(0,len(shizophrenia_c))]\n",
    "IV_p = [shizophrenia_p_nom[l]/((len(shizophrenia_p[l])-1)*var_p[l]) for l in range(0,len(shizophrenia_p))]"
   ]
  },
  {
   "cell_type": "markdown",
   "metadata": {},
   "source": [
    "### Interday Stability"
   ]
  },
  {
   "cell_type": "code",
   "execution_count": 9,
   "metadata": {},
   "outputs": [],
   "source": [
    "# Get the hourly means\n",
    "hourly_mean_p = [np.array([np.mean(day_mean_p[l][i*(60):(i+1)*(60)]) for i in range(0,int(len(day_mean_p[l])/60))]) for l in range(0,len(day_mean_p))]\n",
    "hourly_mean_c = [np.array([np.mean(day_mean_c[l][i*(60):(i+1)*(60)]) for i in range(0,int(len(day_mean_c[l])/60))]) for l in range(0,len(day_mean_c))]\n",
    "\n"
   ]
  },
  {
   "cell_type": "code",
   "execution_count": 10,
   "metadata": {},
   "outputs": [],
   "source": [
    "IS_p = [len(shizophrenia_p[i])*((hourly_mean_p[i]-means_p[i])**2).sum()/(day_mean_p[i].shape[0]*var_p[i]) for i in range(0,len(shizophrenia_p))]   \n",
    "IS_c = [len(shizophrenia_c[i])*((hourly_mean_c[i]-means_c[i])**2).sum()/(day_mean_c[i].shape[0]*var_c[i]) for i in range(0,len(shizophrenia_c))]"
   ]
  },
  {
   "cell_type": "markdown",
   "metadata": {},
   "source": [
    "### Autocorrelation "
   ]
  },
  {
   "cell_type": "code",
   "execution_count": 58,
   "metadata": {},
   "outputs": [],
   "source": [
    "def autocorr(x):\n",
    "    result = np.correlate(x, x)\n",
    "    return result[result.size // 2:]"
   ]
  },
  {
   "cell_type": "code",
   "execution_count": 66,
   "metadata": {},
   "outputs": [],
   "source": [
    "ar_p = np.squeeze(np.array([autocorr(shizophrenia_p[i][:,0]) for i in range(0,len(shizophrenia_p))]).reshape(1,-1))\n",
    "ar_c = np.squeeze(np.array([autocorr(shizophrenia_c[i][:,0]) for i in range(0,len(shizophrenia_c))]).reshape(1,-1))\n"
   ]
  },
  {
   "cell_type": "code",
   "execution_count": 268,
   "metadata": {},
   "outputs": [],
   "source": [
    "from statsmodels.tsa.stattools import acf, pacf\n",
    "lags = acf(shizophrenia_p[10], nlags=1500)"
   ]
  },
  {
   "cell_type": "markdown",
   "metadata": {},
   "source": [
    "### Root Mean Square of successive differences"
   ]
  },
  {
   "cell_type": "code",
   "execution_count": 37,
   "metadata": {},
   "outputs": [],
   "source": [
    "rmssd_p = np.array([np.sqrt((np.diff(shizophrenia_p[i],axis=0)**2).sum()/(len(shizophrenia_p[i])-1)) for i in range(0,len(shizophrenia_p))])\n",
    "rmssd_c = np.array([np.sqrt((np.diff(shizophrenia_c[i],axis=0)**2).sum()/(len(shizophrenia_c[i])-1)) for i in range(0,len(shizophrenia_c))])"
   ]
  },
  {
   "cell_type": "markdown",
   "metadata": {},
   "source": [
    "### Creating Feature Matrix"
   ]
  },
  {
   "cell_type": "code",
   "execution_count": 447,
   "metadata": {},
   "outputs": [],
   "source": [
    "feat_p  = {'Mean': means_p, 'Variance': var_p,'f.prop':prop_z_p ,'IV':  IV_p,'IS':  IS_p, 'AR':  ar_p,'RMSSD': rmssd_p ,'label': np.repeat(1, len(var_p))}\n",
    "feat_df_p = pd.DataFrame(data=feat_p)\n",
    "\n",
    "feat_c  = {'Mean': means_c, 'Variance': var_c,'f.prop':prop_z_c ,'IV':  IV_c, 'IS':  IS_c, 'AR':  ar_c,'RMSSD': rmssd_c , 'label': np.repeat(0, len(var_c))}\n",
    "feat_df_c = pd.DataFrame(data=feat_c)\n",
    "\n",
    "feat = pd.concat([feat_df_p, feat_df_c], axis=0, sort=False)\n",
    "feat = feat.reset_index()\n"
   ]
  },
  {
   "cell_type": "code",
   "execution_count": 134,
   "metadata": {},
   "outputs": [
    {
     "data": {
      "image/png": "[encoded data removed]",
      "text/plain": [
       "<matplotlib.figure.Figure at 0x11acf5c18>"
      ]
     },
     "metadata": {
      "needs_background": "light"
     },
     "output_type": "display_data"
    }
   ],
   "source": [
    "from sklearn.decomposition import PCA, KernelPCA\n",
    "from sklearn.preprocessing import StandardScaler\n",
    "X = feat.drop(['label','index', 'f.prop'], axis=1)\n",
    "y = feat['label']\n",
    "\n",
    "scaler = StandardScaler()\n",
    "X = pd.DataFrame(scaler.fit_transform(X), columns= X.columns.values)\n",
    "# pca of features spaces \n",
    "pca = KernelPCA(n_components=2, kernel='linear')\n",
    "principalComponents_all = pca.fit_transform(X)\n",
    "\n",
    "\n",
    "fig = plt.figure(figsize=(8,5))\n",
    "color = ['darkorange' if x>0 else 'navy' for x in y]\n",
    "shape = ['d' if k>0 else 'd' for k in y]\n",
    "for x, l, c, m in zip(principalComponents_all[:,0], principalComponents_all[:,1], color, shape):\n",
    "    plt.scatter(x, l, alpha=0.8, c=c,marker=m)  \n",
    "    plt.title('Features')\n"
   ]
  },
  {
   "cell_type": "markdown",
   "metadata": {},
   "source": [
    "### Correlation Matrix"
   ]
  },
  {
   "cell_type": "code",
   "execution_count": 454,
   "metadata": {},
   "outputs": [
    {
     "data": {
      "text/plain": [
       "<matplotlib.axes._subplots.AxesSubplot at 0x12c1a2cf8>"
      ]
     },
     "execution_count": 454,
     "metadata": {},
     "output_type": "execute_result"
    },
    {
     "data": {
      "image/png": "[encoded data removed]",
      "text/plain": [
       "<matplotlib.figure.Figure at 0x12c137f60>"
      ]
     },
     "metadata": {
      "needs_background": "light"
     },
     "output_type": "display_data"
    }
   ],
   "source": [
    "import seaborn as sns\n",
    "X = feat.drop(['label','index', 'f.prop'], axis=1)\n",
    "y = feat['label']\n",
    "corr = X.corr()\n",
    "sns.heatmap(corr, \n",
    "        xticklabels=corr.columns,\n",
    "        yticklabels=corr.columns, annot=True, cmap=\"rocket\")"
   ]
  },
  {
   "cell_type": "code",
   "execution_count": null,
   "metadata": {},
   "outputs": [],
   "source": []
  },
  {
   "cell_type": "markdown",
   "metadata": {},
   "source": [
    "## Logistic Regression with L1 Reg"
   ]
  },
  {
   "cell_type": "code",
   "execution_count": 459,
   "metadata": {},
   "outputs": [],
   "source": [
    "# Logisitc Regression\n",
    "from sklearn.linear_model import LogisticRegression \n",
    "from sklearn.model_selection import train_test_split\n",
    "from sklearn.model_selection import StratifiedKFold\n",
    "X = feat.drop(['label','index','f.prop'], axis=1)\n",
    "y = feat['label']\n",
    "#Standardize the data \n",
    "scaler = StandardScaler()\n",
    "X = pd.DataFrame(scaler.fit_transform(X), columns= X.columns.values)\n",
    "X_train,  X_test, y_train, y_test = train_test_split(X,y,test_size=0.1,random_state=0,  shuffle=True)\n",
    "class_weight = 'balanced'\n",
    "penalty = 'l1'\n",
    "C= [50,10, 5, 1, 0.8, 0.5, 0.3, 0.1, 0.08, 0.05, 0.03, 0.01]\n",
    "n_jobs =1\n",
    "solver='liblinear'\n",
    "coefs = []\n",
    "areaUnderROC = []\n",
    "average_precision = []\n",
    "for c in C: \n",
    "    logReg = LogisticRegression(C=c,random_state=133,penalty = penalty, solver=solver, n_jobs=n_jobs,fit_intercept=True )\n",
    "\n",
    "    trainingScores = []\n",
    "    cvScores = []\n",
    "    \n",
    "    predictionsBasedOnKFolds = pd.DataFrame(data=[],index=y_train.index,columns=[0,1])\n",
    "\n",
    "    for train_index, test_index in k_fold.split(X_train,y_train):\n",
    "        X_train_fold, X_cv_fold = X_train.iloc[train_index,:], X_train.iloc[test_index,:]\n",
    "        y_train_fold, y_cv_fold = y_train.iloc[train_index],y_train.iloc[test_index]\n",
    "\n",
    "        logReg.fit(X_train_fold, y_train_fold)\n",
    "        loglossTraining = log_loss(y_train_fold,logReg.predict_proba(X_train_fold)[:,1])\n",
    "    \n",
    "\n",
    "        trainingScores.append(loglossTraining)\n",
    "\n",
    "        predictionsBasedOnKFolds.loc[X_cv_fold.index,:] = logReg.predict_proba(X_cv_fold)\n",
    "        loglossCV = log_loss(y_cv_fold, predictionsBasedOnKFolds.loc[X_cv_fold.index,1])\n",
    "        cvScores.append(loglossCV)\n",
    "        preds = pd.concat([y_train,predictionsBasedOnKFolds.loc[:,1]], axis=1)\n",
    "        preds.columns = ['trueLabel','prediction']\n",
    "        predictionsBasedOnKFoldsLogisticRegression = preds.copy()\n",
    "    fpr, tpr, thresholds = roc_curve(preds['trueLabel'],preds['prediction'])\n",
    "    average_precision.append(average_precision_score(preds['trueLabel'],\n",
    "                                            preds['prediction']))\n",
    "    areaUnderROC.append(auc(fpr, tpr))\n",
    "    \n",
    "    coefs.append(logReg.coef_)\n",
    "    \n",
    "coefs = pd.DataFrame(np.squeeze(np.asarray(coefs)), columns = X.columns)  \n",
    "coefs['C'] = C\n",
    "\n",
    "res = np.concatenate((np.array(areaUnderROC,ndmin=2),np.array(average_precision,ndmin=2)),axis=0)\n",
    "res = res.reshape(12,2)\n",
    "pred_res = pd.DataFrame(res, columns = ['AUC', 'Avg_Precision']) "
   ]
  },
  {
   "cell_type": "markdown",
   "metadata": {},
   "source": [
    "### Performance Plot for different C parameters"
   ]
  },
  {
   "cell_type": "code",
   "execution_count": 460,
   "metadata": {},
   "outputs": [
    {
     "data": {
      "text/html": [
       "<div>\n",
       "<style scoped>\n",
       "    .dataframe tbody tr th:only-of-type {\n",
       "        vertical-align: middle;\n",
       "    }\n",
       "\n",
       "    .dataframe tbody tr th {\n",
       "        vertical-align: top;\n",
       "    }\n",
       "\n",
       "    .dataframe thead th {\n",
       "        text-align: right;\n",
       "    }\n",
       "</style>\n",
       "<table border=\"1\" class=\"dataframe\">\n",
       "  <thead>\n",
       "    <tr style=\"text-align: right;\">\n",
       "      <th></th>\n",
       "      <th>AUC</th>\n",
       "      <th>Avg_Precision</th>\n",
       "    </tr>\n",
       "  </thead>\n",
       "  <tbody>\n",
       "    <tr>\n",
       "      <th>0</th>\n",
       "      <td>0.916071</td>\n",
       "      <td>0.919643</td>\n",
       "    </tr>\n",
       "    <tr>\n",
       "      <th>1</th>\n",
       "      <td>0.921429</td>\n",
       "      <td>0.923214</td>\n",
       "    </tr>\n",
       "    <tr>\n",
       "      <th>2</th>\n",
       "      <td>0.921429</td>\n",
       "      <td>0.919643</td>\n",
       "    </tr>\n",
       "    <tr>\n",
       "      <th>3</th>\n",
       "      <td>0.917857</td>\n",
       "      <td>0.898214</td>\n",
       "    </tr>\n",
       "    <tr>\n",
       "      <th>4</th>\n",
       "      <td>0.873214</td>\n",
       "      <td>0.500000</td>\n",
       "    </tr>\n",
       "    <tr>\n",
       "      <th>5</th>\n",
       "      <td>0.500000</td>\n",
       "      <td>0.500000</td>\n",
       "    </tr>\n",
       "    <tr>\n",
       "      <th>6</th>\n",
       "      <td>0.927114</td>\n",
       "      <td>0.932767</td>\n",
       "    </tr>\n",
       "    <tr>\n",
       "      <th>7</th>\n",
       "      <td>0.931824</td>\n",
       "      <td>0.928379</td>\n",
       "    </tr>\n",
       "    <tr>\n",
       "      <th>8</th>\n",
       "      <td>0.927421</td>\n",
       "      <td>0.923347</td>\n",
       "    </tr>\n",
       "    <tr>\n",
       "      <th>9</th>\n",
       "      <td>0.916656</td>\n",
       "      <td>0.886183</td>\n",
       "    </tr>\n",
       "    <tr>\n",
       "      <th>10</th>\n",
       "      <td>0.844406</td>\n",
       "      <td>0.416667</td>\n",
       "    </tr>\n",
       "    <tr>\n",
       "      <th>11</th>\n",
       "      <td>0.416667</td>\n",
       "      <td>0.416667</td>\n",
       "    </tr>\n",
       "  </tbody>\n",
       "</table>\n",
       "</div>"
      ],
      "text/plain": [
       "         AUC  Avg_Precision\n",
       "0   0.916071       0.919643\n",
       "1   0.921429       0.923214\n",
       "2   0.921429       0.919643\n",
       "3   0.917857       0.898214\n",
       "4   0.873214       0.500000\n",
       "5   0.500000       0.500000\n",
       "6   0.927114       0.932767\n",
       "7   0.931824       0.928379\n",
       "8   0.927421       0.923347\n",
       "9   0.916656       0.886183\n",
       "10  0.844406       0.416667\n",
       "11  0.416667       0.416667"
      ]
     },
     "execution_count": 460,
     "metadata": {},
     "output_type": "execute_result"
    }
   ],
   "source": [
    "pred_res"
   ]
  },
  {
   "cell_type": "code",
   "execution_count": 475,
   "metadata": {},
   "outputs": [
    {
     "name": "stdout",
     "output_type": "stream",
     "text": [
      "Max AUC at C:  0.1\n",
      "Max Average Precision at C:  0.3\n"
     ]
    },
    {
     "data": {
      "image/png": "[encoded data removed]",
      "text/plain": [
       "<matplotlib.figure.Figure at 0x12d6c7c50>"
      ]
     },
     "metadata": {
      "needs_background": "light"
     },
     "output_type": "display_data"
    }
   ],
   "source": [
    "fig = plt.figure()\n",
    "plt.plot(pred_res['AUC'], ls='-.', color='blue')\n",
    "plt.plot(pred_res['Avg_Precision'], ls='--',color='darkgreen' )\n",
    "plt.xticks(range(0,len(C)),C)\n",
    "plt.legend(title='', loc='upper left', bbox_to_anchor=(1.05, 1))\n",
    "plt.xlabel('C parameter')\n",
    "plt.ylabel('Predicition Score')\n",
    "print('Max AUC at C: ',C[np.argmax(pred_res['AUC'])])\n",
    "print('Max Average Precision at C: ',C[np.argmax(pred_res['Avg_Precision'])])"
   ]
  },
  {
   "cell_type": "markdown",
   "metadata": {},
   "source": [
    "### L1 Regularization Plot Coefficients "
   ]
  },
  {
   "cell_type": "code",
   "execution_count": 430,
   "metadata": {},
   "outputs": [
    {
     "data": {
      "text/plain": [
       "Text(0,0.5,'Coefficient value')"
      ]
     },
     "execution_count": 430,
     "metadata": {},
     "output_type": "execute_result"
    },
    {
     "data": {
      "image/png": "[encoded data removed]",
      "text/plain": [
       "<matplotlib.figure.Figure at 0x12b0b04a8>"
      ]
     },
     "metadata": {
      "needs_background": "light"
     },
     "output_type": "display_data"
    }
   ],
   "source": [
    "coefs_plot = coefs.drop(['C'], axis=1)\n",
    "coefs_plot.plot()                 \n",
    "plt.xticks(range(0,len(C)),C)\n",
    "plt.legend(title='', loc='upper left', bbox_to_anchor=(1.05, 1))\n",
    "plt.xlabel('C parameter')\n",
    "plt.ylabel('Coefficient value')"
   ]
  },
  {
   "cell_type": "code",
   "execution_count": 431,
   "metadata": {},
   "outputs": [
    {
     "data": {
      "text/plain": [
       "Text(0,0.5,'Coefficient value')"
      ]
     },
     "execution_count": 431,
     "metadata": {},
     "output_type": "execute_result"
    },
    {
     "data": {
      "image/png": "[encoded data removed]",
      "text/plain": [
       "<matplotlib.figure.Figure at 0x12b24f908>"
      ]
     },
     "metadata": {
      "needs_background": "light"
     },
     "output_type": "display_data"
    }
   ],
   "source": [
    "zoom = coefs.iloc[5:,:].reset_index(drop=True)\n",
    "zoom.plot()\n",
    "plt.xticks(range(0,len(C[5:])),C[5:])\n",
    "plt.legend(title='', loc='upper left', bbox_to_anchor=(1.05, 1))\n",
    "plt.xlabel('C parameter')\n",
    "plt.ylabel('Coefficient value')"
   ]
  },
  {
   "cell_type": "code",
   "execution_count": 418,
   "metadata": {
    "scrolled": true
   },
   "outputs": [
    {
     "data": {
      "text/html": [
       "<div>\n",
       "<style scoped>\n",
       "    .dataframe tbody tr th:only-of-type {\n",
       "        vertical-align: middle;\n",
       "    }\n",
       "\n",
       "    .dataframe tbody tr th {\n",
       "        vertical-align: top;\n",
       "    }\n",
       "\n",
       "    .dataframe thead th {\n",
       "        text-align: right;\n",
       "    }\n",
       "</style>\n",
       "<table border=\"1\" class=\"dataframe\">\n",
       "  <thead>\n",
       "    <tr style=\"text-align: right;\">\n",
       "      <th></th>\n",
       "      <th>Mean</th>\n",
       "      <th>Variance</th>\n",
       "      <th>IV</th>\n",
       "      <th>IS</th>\n",
       "      <th>AR</th>\n",
       "      <th>RMSSD</th>\n",
       "      <th>C</th>\n",
       "    </tr>\n",
       "  </thead>\n",
       "  <tbody>\n",
       "    <tr>\n",
       "      <th>0</th>\n",
       "      <td>3.326861</td>\n",
       "      <td>6.621356</td>\n",
       "      <td>3.621100</td>\n",
       "      <td>1.747152</td>\n",
       "      <td>-5.253233</td>\n",
       "      <td>-7.954884</td>\n",
       "      <td>50.00</td>\n",
       "    </tr>\n",
       "    <tr>\n",
       "      <th>1</th>\n",
       "      <td>0.000000</td>\n",
       "      <td>0.000000</td>\n",
       "      <td>1.422064</td>\n",
       "      <td>1.587529</td>\n",
       "      <td>-0.850947</td>\n",
       "      <td>-2.851779</td>\n",
       "      <td>10.00</td>\n",
       "    </tr>\n",
       "    <tr>\n",
       "      <th>2</th>\n",
       "      <td>0.000000</td>\n",
       "      <td>0.000000</td>\n",
       "      <td>1.304775</td>\n",
       "      <td>1.397248</td>\n",
       "      <td>-0.693832</td>\n",
       "      <td>-2.743926</td>\n",
       "      <td>5.00</td>\n",
       "    </tr>\n",
       "    <tr>\n",
       "      <th>3</th>\n",
       "      <td>0.000000</td>\n",
       "      <td>0.000000</td>\n",
       "      <td>0.834411</td>\n",
       "      <td>0.585060</td>\n",
       "      <td>0.000000</td>\n",
       "      <td>-2.338600</td>\n",
       "      <td>1.00</td>\n",
       "    </tr>\n",
       "    <tr>\n",
       "      <th>4</th>\n",
       "      <td>0.000000</td>\n",
       "      <td>0.000000</td>\n",
       "      <td>0.760537</td>\n",
       "      <td>0.483431</td>\n",
       "      <td>0.000000</td>\n",
       "      <td>-2.179461</td>\n",
       "      <td>0.80</td>\n",
       "    </tr>\n",
       "    <tr>\n",
       "      <th>5</th>\n",
       "      <td>0.000000</td>\n",
       "      <td>0.000000</td>\n",
       "      <td>0.601523</td>\n",
       "      <td>0.267610</td>\n",
       "      <td>0.000000</td>\n",
       "      <td>-1.838850</td>\n",
       "      <td>0.50</td>\n",
       "    </tr>\n",
       "    <tr>\n",
       "      <th>6</th>\n",
       "      <td>0.000000</td>\n",
       "      <td>0.000000</td>\n",
       "      <td>0.418293</td>\n",
       "      <td>0.025786</td>\n",
       "      <td>0.000000</td>\n",
       "      <td>-1.454787</td>\n",
       "      <td>0.30</td>\n",
       "    </tr>\n",
       "    <tr>\n",
       "      <th>7</th>\n",
       "      <td>-0.267732</td>\n",
       "      <td>0.000000</td>\n",
       "      <td>0.000000</td>\n",
       "      <td>0.000000</td>\n",
       "      <td>0.000000</td>\n",
       "      <td>-0.264023</td>\n",
       "      <td>0.10</td>\n",
       "    </tr>\n",
       "    <tr>\n",
       "      <th>8</th>\n",
       "      <td>-0.243390</td>\n",
       "      <td>0.000000</td>\n",
       "      <td>0.000000</td>\n",
       "      <td>0.000000</td>\n",
       "      <td>0.000000</td>\n",
       "      <td>-0.015826</td>\n",
       "      <td>0.08</td>\n",
       "    </tr>\n",
       "    <tr>\n",
       "      <th>9</th>\n",
       "      <td>0.000000</td>\n",
       "      <td>0.000000</td>\n",
       "      <td>0.000000</td>\n",
       "      <td>0.000000</td>\n",
       "      <td>0.000000</td>\n",
       "      <td>0.000000</td>\n",
       "      <td>0.05</td>\n",
       "    </tr>\n",
       "    <tr>\n",
       "      <th>10</th>\n",
       "      <td>0.000000</td>\n",
       "      <td>0.000000</td>\n",
       "      <td>0.000000</td>\n",
       "      <td>0.000000</td>\n",
       "      <td>0.000000</td>\n",
       "      <td>0.000000</td>\n",
       "      <td>0.03</td>\n",
       "    </tr>\n",
       "    <tr>\n",
       "      <th>11</th>\n",
       "      <td>0.000000</td>\n",
       "      <td>0.000000</td>\n",
       "      <td>0.000000</td>\n",
       "      <td>0.000000</td>\n",
       "      <td>0.000000</td>\n",
       "      <td>0.000000</td>\n",
       "      <td>0.01</td>\n",
       "    </tr>\n",
       "  </tbody>\n",
       "</table>\n",
       "</div>"
      ],
      "text/plain": [
       "        Mean  Variance        IV        IS        AR     RMSSD      C\n",
       "0   3.326861  6.621356  3.621100  1.747152 -5.253233 -7.954884  50.00\n",
       "1   0.000000  0.000000  1.422064  1.587529 -0.850947 -2.851779  10.00\n",
       "2   0.000000  0.000000  1.304775  1.397248 -0.693832 -2.743926   5.00\n",
       "3   0.000000  0.000000  0.834411  0.585060  0.000000 -2.338600   1.00\n",
       "4   0.000000  0.000000  0.760537  0.483431  0.000000 -2.179461   0.80\n",
       "5   0.000000  0.000000  0.601523  0.267610  0.000000 -1.838850   0.50\n",
       "6   0.000000  0.000000  0.418293  0.025786  0.000000 -1.454787   0.30\n",
       "7  -0.267732  0.000000  0.000000  0.000000  0.000000 -0.264023   0.10\n",
       "8  -0.243390  0.000000  0.000000  0.000000  0.000000 -0.015826   0.08\n",
       "9   0.000000  0.000000  0.000000  0.000000  0.000000  0.000000   0.05\n",
       "10  0.000000  0.000000  0.000000  0.000000  0.000000  0.000000   0.03\n",
       "11  0.000000  0.000000  0.000000  0.000000  0.000000  0.000000   0.01"
      ]
     },
     "execution_count": 418,
     "metadata": {},
     "output_type": "execute_result"
    }
   ],
   "source": [
    "coefs"
   ]
  },
  {
   "cell_type": "code",
   "execution_count": 432,
   "metadata": {},
   "outputs": [
    {
     "name": "stdout",
     "output_type": "stream",
     "text": [
      "Optimization terminated successfully.\n",
      "         Current function value: 0.381288\n",
      "         Iterations 7\n",
      "                           Logit Regression Results                           \n",
      "==============================================================================\n",
      "Dep. Variable:                  label   No. Observations:                   54\n",
      "Model:                          Logit   Df Residuals:                       52\n",
      "Method:                           MLE   Df Model:                            1\n",
      "Date:                Sat, 31 Oct 2020   Pseudo R-squ.:                  0.4359\n",
      "Time:                        17:12:52   Log-Likelihood:                -20.590\n",
      "converged:                       True   LL-Null:                       -36.499\n",
      "Covariance Type:            nonrobust   LLR p-value:                 1.693e-08\n",
      "==============================================================================\n",
      "                 coef    std err          z      P>|z|      [0.025      0.975]\n",
      "------------------------------------------------------------------------------\n",
      "const          4.9701      1.385      3.589      0.000       2.256       7.685\n",
      "Mean          -0.0259      0.007     -3.762      0.000      -0.039      -0.012\n",
      "==============================================================================\n",
      "Optimization terminated successfully.\n",
      "         Current function value: 0.511899\n",
      "         Iterations 6\n",
      "                           Logit Regression Results                           \n",
      "==============================================================================\n",
      "Dep. Variable:                  label   No. Observations:                   54\n",
      "Model:                          Logit   Df Residuals:                       52\n",
      "Method:                           MLE   Df Model:                            1\n",
      "Date:                Sat, 31 Oct 2020   Pseudo R-squ.:                  0.2426\n",
      "Time:                        17:12:52   Log-Likelihood:                -27.643\n",
      "converged:                       True   LL-Null:                       -36.499\n",
      "Covariance Type:            nonrobust   LLR p-value:                 2.570e-05\n",
      "==============================================================================\n",
      "                 coef    std err          z      P>|z|      [0.025      0.975]\n",
      "------------------------------------------------------------------------------\n",
      "const         -6.1089      1.785     -3.423      0.001      -9.607      -2.611\n",
      "IV             0.0006      0.000      3.268      0.001       0.000       0.001\n",
      "==============================================================================\n",
      "Optimization terminated successfully.\n",
      "         Current function value: 0.671418\n",
      "         Iterations 4\n",
      "                           Logit Regression Results                           \n",
      "==============================================================================\n",
      "Dep. Variable:                  label   No. Observations:                   54\n",
      "Model:                          Logit   Df Residuals:                       52\n",
      "Method:                           MLE   Df Model:                            1\n",
      "Date:                Sat, 31 Oct 2020   Pseudo R-squ.:                0.006633\n",
      "Time:                        17:12:52   Log-Likelihood:                -36.257\n",
      "converged:                       True   LL-Null:                       -36.499\n",
      "Covariance Type:            nonrobust   LLR p-value:                    0.4865\n",
      "==============================================================================\n",
      "                 coef    std err          z      P>|z|      [0.025      0.975]\n",
      "------------------------------------------------------------------------------\n",
      "const         -0.8445      0.735     -1.149      0.251      -2.285       0.597\n",
      "IS             0.0090      0.013      0.694      0.488      -0.016       0.034\n",
      "==============================================================================\n",
      "Optimization terminated successfully.\n",
      "         Current function value: 0.408287\n",
      "         Iterations 7\n",
      "                           Logit Regression Results                           \n",
      "==============================================================================\n",
      "Dep. Variable:                  label   No. Observations:                   54\n",
      "Model:                          Logit   Df Residuals:                       52\n",
      "Method:                           MLE   Df Model:                            1\n",
      "Date:                Sat, 31 Oct 2020   Pseudo R-squ.:                  0.3959\n",
      "Time:                        17:12:52   Log-Likelihood:                -22.047\n",
      "converged:                       True   LL-Null:                       -36.499\n",
      "Covariance Type:            nonrobust   LLR p-value:                 7.612e-08\n",
      "==============================================================================\n",
      "                 coef    std err          z      P>|z|      [0.025      0.975]\n",
      "------------------------------------------------------------------------------\n",
      "const          6.8224      1.892      3.606      0.000       3.114      10.530\n",
      "RMSSD         -0.0311      0.008     -3.783      0.000      -0.047      -0.015\n",
      "==============================================================================\n"
     ]
    },
    {
     "name": "stderr",
     "output_type": "stream",
     "text": [
      "/Library/Frameworks/Python.framework/Versions/3.6/lib/python3.6/site-packages/numpy/core/fromnumeric.py:2389: FutureWarning: Method .ptp is deprecated and will be removed in a future version. Use numpy.ptp instead.\n",
      "  return ptp(axis=axis, out=out, **kwargs)\n"
     ]
    }
   ],
   "source": [
    "X = feat.drop(['label','index','f.prop', 'Variance', 'AR'], axis=1)\n",
    "y = feat['label']\n",
    "\n",
    "#Standardize the data \n",
    "scaler = StandardScaler()\n",
    "for f in X.columns:\n",
    "    #X = pd.DataFrame(scaler.fit_transform(X), columns= X.columns.values)\n",
    "    dat = tools.add_constant(X[f])\n",
    "    log_reg = sm.Logit(y, dat).fit()\n",
    "    print(log_reg.summary())\n",
    "  "
   ]
  },
  {
   "cell_type": "code",
   "execution_count": null,
   "metadata": {},
   "outputs": [],
   "source": []
  },
  {
   "cell_type": "code",
   "execution_count": null,
   "metadata": {},
   "outputs": [],
   "source": []
  },
  {
   "cell_type": "markdown",
   "metadata": {},
   "source": [
    "### Single SKlearn Log Regression RMSSD"
   ]
  },
  {
   "cell_type": "code",
   "execution_count": 438,
   "metadata": {},
   "outputs": [
    {
     "name": "stdout",
     "output_type": "stream",
     "text": [
      "Index(['RMSSD'], dtype='object')\n"
     ]
    },
    {
     "data": {
      "image/png": "[encoded data removed]",
      "text/plain": [
       "<matplotlib.figure.Figure at 0x12b34f1d0>"
      ]
     },
     "metadata": {
      "needs_background": "light"
     },
     "output_type": "display_data"
    },
    {
     "data": {
      "image/png": "[encoded data removed]",
      "text/plain": [
       "<matplotlib.figure.Figure at 0x1204ce780>"
      ]
     },
     "metadata": {
      "needs_background": "light"
     },
     "output_type": "display_data"
    }
   ],
   "source": [
    "from sklearn.linear_model import LogisticRegression \n",
    "from sklearn.model_selection import train_test_split\n",
    "from sklearn.model_selection import StratifiedKFold\n",
    "from sklearn.metrics import precision_recall_curve, average_precision_score, log_loss\n",
    "from sklearn.metrics import roc_curve, auc, roc_auc_score, confusion_matrix\n",
    "X = feat.drop(['label','index','f.prop', 'Variance', 'AR','Mean','IV','IS' ], axis=1)\n",
    "y = feat['label']\n",
    "print(X.columns)\n",
    "X_train,  X_test, y_train, y_test = train_test_split(X,y,test_size=0.1,random_state=0,  shuffle=True)\n",
    "k_fold = StratifiedKFold(n_splits=10, shuffle=True, random_state=123)\n",
    "\n",
    "\n",
    "# Logisitc Regression\n",
    "class_weight = 'balanced'\n",
    "penalty = 'l1'\n",
    "C=1\n",
    "n_jobs =1\n",
    "solver='liblinear'\n",
    "logReg = LogisticRegression(C=C,random_state=133,penalty = penalty, solver=solver, n_jobs=n_jobs, fit_intercept=True )\n",
    "\n",
    "trainingScores = []\n",
    "cvScores = []\n",
    "predictionsBasedOnKFolds = pd.DataFrame(data=[],index=y_train.index,columns=[0,1])\n",
    "\n",
    "for train_index, test_index in k_fold.split(X_train,y_train):\n",
    "    X_train_fold, X_cv_fold = X_train.iloc[train_index,:], X_train.iloc[test_index,:]\n",
    "    y_train_fold, y_cv_fold = y_train.iloc[train_index],y_train.iloc[test_index]\n",
    "\n",
    "    logReg.fit(X_train_fold, y_train_fold)\n",
    "    loglossTraining = log_loss(y_train_fold,logReg.predict_proba(X_train_fold)[:,1])\n",
    "    \n",
    "\n",
    "    trainingScores.append(loglossTraining)\n",
    "\n",
    "    predictionsBasedOnKFolds.loc[X_cv_fold.index,:] = logReg.predict_proba(X_cv_fold)\n",
    "    loglossCV = log_loss(y_cv_fold, predictionsBasedOnKFolds.loc[X_cv_fold.index,1])\n",
    "    cvScores.append(loglossCV)\n",
    "\n",
    "\n",
    "preds = pd.concat([y_train,predictionsBasedOnKFolds.loc[:,1]], axis=1)\n",
    "preds.columns = ['trueLabel','prediction']\n",
    "predictionsBasedOnKFoldsLogisticRegression = preds.copy()\n",
    "\n",
    "\n",
    "precision, recall, thresholds = precision_recall_curve(preds['trueLabel'],preds['prediction'])\n",
    "\n",
    "\n",
    "average_precision = average_precision_score(preds['trueLabel'],\n",
    "                                            preds['prediction'])\n",
    "\n",
    "plt.step(recall, precision, color='k', alpha=0.7, where='post')\n",
    "plt.fill_between(recall, precision, step='post', alpha=0.3, color='k')\n",
    "\n",
    "plt.xlabel('Recall')\n",
    "plt.ylabel('Precision')\n",
    "plt.ylim([0.0, 1.05])\n",
    "plt.xlim([0.0, 1.0])\n",
    "\n",
    "plt.title('PRC: Average Precision = {0:0.2f}'.format(\n",
    "          average_precision))\n",
    "\n",
    "fpr, tpr, thresholds = roc_curve(preds['trueLabel'],preds['prediction'])\n",
    "\n",
    "areaUnderROC = auc(fpr, tpr)\n",
    "\n",
    "plt.figure()\n",
    "plt.plot(fpr, tpr, color='r', lw=2, label='ROC curve')\n",
    "plt.plot([0, 1], [0, 1], color='k', lw=2, linestyle='--')\n",
    "plt.xlim([0.0, 1.0])\n",
    "plt.ylim([0.0, 1.05])\n",
    "plt.xlabel('FPR')\n",
    "plt.ylabel('TPR')\n",
    "plt.title('ROC: AUC = {0:0.2f}'.format(areaUnderROC))\n",
    "plt.legend(loc=\"lower right\")\n",
    "plt.show()"
   ]
  },
  {
   "cell_type": "markdown",
   "metadata": {},
   "source": [
    "### Single SKlearn Log Regression IV"
   ]
  },
  {
   "cell_type": "code",
   "execution_count": 439,
   "metadata": {},
   "outputs": [
    {
     "name": "stdout",
     "output_type": "stream",
     "text": [
      "Index(['IV'], dtype='object')\n"
     ]
    },
    {
     "data": {
      "image/png": "[encoded data removed]",
      "text/plain": [
       "<matplotlib.figure.Figure at 0x120827be0>"
      ]
     },
     "metadata": {
      "needs_background": "light"
     },
     "output_type": "display_data"
    },
    {
     "data": {
      "image/png": "[encoded data removed]",
      "text/plain": [
       "<matplotlib.figure.Figure at 0x12b5d2470>"
      ]
     },
     "metadata": {
      "needs_background": "light"
     },
     "output_type": "display_data"
    }
   ],
   "source": [
    "from sklearn.linear_model import LogisticRegression \n",
    "from sklearn.model_selection import train_test_split\n",
    "from sklearn.model_selection import StratifiedKFold\n",
    "from sklearn.metrics import precision_recall_curve, average_precision_score, log_loss\n",
    "from sklearn.metrics import roc_curve, auc, roc_auc_score, confusion_matrix\n",
    "X = feat.drop(['label','index','f.prop', 'Variance', 'AR','Mean','RMSSD','IS' ], axis=1)\n",
    "y = feat['label']\n",
    "X_train,  X_test, y_train, y_test = train_test_split(X,y,test_size=0.1,random_state=0,  shuffle=True)\n",
    "k_fold = StratifiedKFold(n_splits=10, shuffle=True, random_state=123)\n",
    "print(X.columns)\n",
    "\n",
    "# Logisitc Regression\n",
    "class_weight = 'balanced'\n",
    "penalty = 'l1'\n",
    "C=1\n",
    "n_jobs =1\n",
    "solver='liblinear'\n",
    "logReg = LogisticRegression(C=C,random_state=133,penalty = penalty, solver=solver, n_jobs=n_jobs, fit_intercept=True )\n",
    "\n",
    "trainingScores = []\n",
    "cvScores = []\n",
    "predictionsBasedOnKFolds = pd.DataFrame(data=[],index=y_train.index,columns=[0,1])\n",
    "\n",
    "for train_index, test_index in k_fold.split(X_train,y_train):\n",
    "    X_train_fold, X_cv_fold = X_train.iloc[train_index,:], X_train.iloc[test_index,:]\n",
    "    y_train_fold, y_cv_fold = y_train.iloc[train_index],y_train.iloc[test_index]\n",
    "\n",
    "    logReg.fit(X_train_fold, y_train_fold)\n",
    "    loglossTraining = log_loss(y_train_fold,logReg.predict_proba(X_train_fold)[:,1])\n",
    "    \n",
    "\n",
    "    trainingScores.append(loglossTraining)\n",
    "\n",
    "    predictionsBasedOnKFolds.loc[X_cv_fold.index,:] = logReg.predict_proba(X_cv_fold)\n",
    "    loglossCV = log_loss(y_cv_fold, predictionsBasedOnKFolds.loc[X_cv_fold.index,1])\n",
    "    cvScores.append(loglossCV)\n",
    "\n",
    "\n",
    "preds = pd.concat([y_train,predictionsBasedOnKFolds.loc[:,1]], axis=1)\n",
    "preds.columns = ['trueLabel','prediction']\n",
    "predictionsBasedOnKFoldsLogisticRegression = preds.copy()\n",
    "\n",
    "\n",
    "precision, recall, thresholds = precision_recall_curve(preds['trueLabel'],preds['prediction'])\n",
    "\n",
    "\n",
    "average_precision = average_precision_score(preds['trueLabel'],\n",
    "                                            preds['prediction'])\n",
    "\n",
    "plt.step(recall, precision, color='k', alpha=0.7, where='post')\n",
    "plt.fill_between(recall, precision, step='post', alpha=0.3, color='k')\n",
    "\n",
    "plt.xlabel('Recall')\n",
    "plt.ylabel('Precision')\n",
    "plt.ylim([0.0, 1.05])\n",
    "plt.xlim([0.0, 1.0])\n",
    "\n",
    "plt.title('PRC: Average Precision = {0:0.2f}'.format(\n",
    "          average_precision))\n",
    "\n",
    "fpr, tpr, thresholds = roc_curve(preds['trueLabel'],preds['prediction'])\n",
    "\n",
    "areaUnderROC = auc(fpr, tpr)\n",
    "\n",
    "plt.figure()\n",
    "plt.plot(fpr, tpr, color='r', lw=2, label='ROC curve')\n",
    "plt.plot([0, 1], [0, 1], color='k', lw=2, linestyle='--')\n",
    "plt.xlim([0.0, 1.0])\n",
    "plt.ylim([0.0, 1.05])\n",
    "plt.xlabel('FPR')\n",
    "plt.ylabel('TPR')\n",
    "plt.title('ROC: AUC = {0:0.2f}'.format(areaUnderROC))\n",
    "plt.legend(loc=\"lower right\")\n",
    "plt.show()"
   ]
  },
  {
   "cell_type": "markdown",
   "metadata": {},
   "source": [
    "### Single SKlearn Log Regression Mean"
   ]
  },
  {
   "cell_type": "code",
   "execution_count": 478,
   "metadata": {},
   "outputs": [
    {
     "name": "stdout",
     "output_type": "stream",
     "text": [
      "Index(['Mean', 'IV'], dtype='object')\n"
     ]
    },
    {
     "data": {
      "image/png": "[encoded data removed]",
      "text/plain": [
       "<matplotlib.figure.Figure at 0x12cb6e2e8>"
      ]
     },
     "metadata": {
      "needs_background": "light"
     },
     "output_type": "display_data"
    },
    {
     "data": {
      "image/png": "[encoded data removed]",
      "text/plain": [
       "<matplotlib.figure.Figure at 0x12e522cc0>"
      ]
     },
     "metadata": {
      "needs_background": "light"
     },
     "output_type": "display_data"
    }
   ],
   "source": [
    "from sklearn.linear_model import LogisticRegression \n",
    "from sklearn.model_selection import train_test_split\n",
    "from sklearn.model_selection import StratifiedKFold\n",
    "from sklearn.metrics import precision_recall_curve, average_precision_score, log_loss\n",
    "from sklearn.metrics import roc_curve, auc, roc_auc_score, confusion_matrix\n",
    "X = feat.drop(['label','index','f.prop', 'Variance', 'AR','IS','IV' ], axis=1)\n",
    "y = feat['label']\n",
    "X_train,  X_test, y_train, y_test = train_test_split(X,y,test_size=0.1,random_state=0,  shuffle=True)\n",
    "k_fold = StratifiedKFold(n_splits=10, shuffle=True, random_state=123)\n",
    "print(X.columns)\n",
    "\n",
    "# Logisitc Regression\n",
    "class_weight = 'balanced'\n",
    "penalty = 'l1'\n",
    "C=1\n",
    "n_jobs =1\n",
    "solver='liblinear'\n",
    "logReg = LogisticRegression(C=C,random_state=133,penalty = penalty, solver=solver, n_jobs=n_jobs, fit_intercept=True )\n",
    "\n",
    "trainingScores = []\n",
    "cvScores = []\n",
    "predictionsBasedOnKFolds = pd.DataFrame(data=[],index=y_train.index,columns=[0,1])\n",
    "\n",
    "for train_index, test_index in k_fold.split(X_train,y_train):\n",
    "    X_train_fold, X_cv_fold = X_train.iloc[train_index,:], X_train.iloc[test_index,:]\n",
    "    y_train_fold, y_cv_fold = y_train.iloc[train_index],y_train.iloc[test_index]\n",
    "\n",
    "    logReg.fit(X_train_fold, y_train_fold)\n",
    "    loglossTraining = log_loss(y_train_fold,logReg.predict_proba(X_train_fold)[:,1])\n",
    "    \n",
    "\n",
    "    trainingScores.append(loglossTraining)\n",
    "\n",
    "    predictionsBasedOnKFolds.loc[X_cv_fold.index,:] = logReg.predict_proba(X_cv_fold)\n",
    "    loglossCV = log_loss(y_cv_fold, predictionsBasedOnKFolds.loc[X_cv_fold.index,1])\n",
    "    cvScores.append(loglossCV)\n",
    "\n",
    "\n",
    "preds = pd.concat([y_train,predictionsBasedOnKFolds.loc[:,1]], axis=1)\n",
    "preds.columns = ['trueLabel','prediction']\n",
    "predictionsBasedOnKFoldsLogisticRegression = preds.copy()\n",
    "\n",
    "\n",
    "precision, recall, thresholds = precision_recall_curve(preds['trueLabel'],preds['prediction'])\n",
    "\n",
    "\n",
    "average_precision = average_precision_score(preds['trueLabel'],\n",
    "                                            preds['prediction'])\n",
    "\n",
    "plt.step(recall, precision, color='k', alpha=0.7, where='post')\n",
    "plt.fill_between(recall, precision, step='post', alpha=0.3, color='k')\n",
    "\n",
    "plt.xlabel('Recall')\n",
    "plt.ylabel('Precision')\n",
    "plt.ylim([0.0, 1.05])\n",
    "plt.xlim([0.0, 1.0])\n",
    "\n",
    "plt.title('PRC: Average Precision = {0:0.2f}'.format(\n",
    "          average_precision))\n",
    "\n",
    "fpr, tpr, thresholds = roc_curve(preds['trueLabel'],preds['prediction'])\n",
    "\n",
    "areaUnderROC = auc(fpr, tpr)\n",
    "\n",
    "plt.figure()\n",
    "plt.plot(fpr, tpr, color='r', lw=2, label='ROC curve')\n",
    "plt.plot([0, 1], [0, 1], color='k', lw=2, linestyle='--')\n",
    "plt.xlim([0.0, 1.0])\n",
    "plt.ylim([0.0, 1.05])\n",
    "plt.xlabel('FPR')\n",
    "plt.ylabel('TPR')\n",
    "plt.title('ROC: AUC = {0:0.2f}'.format(areaUnderROC))\n",
    "plt.legend(loc=\"lower right\")\n",
    "plt.show()"
   ]
  },
  {
   "cell_type": "code",
   "execution_count": 445,
   "metadata": {},
   "outputs": [
    {
     "name": "stdout",
     "output_type": "stream",
     "text": [
      "Optimization terminated successfully.\n",
      "         Current function value: 0.344491\n",
      "         Iterations 7\n",
      "                           Logit Regression Results                           \n",
      "==============================================================================\n",
      "Dep. Variable:                  label   No. Observations:                   54\n",
      "Model:                          Logit   Df Residuals:                       51\n",
      "Method:                           MLE   Df Model:                            2\n",
      "Date:                Sat, 31 Oct 2020   Pseudo R-squ.:                  0.4903\n",
      "Time:                        17:21:45   Log-Likelihood:                -18.603\n",
      "converged:                       True   LL-Null:                       -36.499\n",
      "Covariance Type:            nonrobust   LLR p-value:                 1.690e-08\n",
      "==============================================================================\n",
      "                 coef    std err          z      P>|z|      [0.025      0.975]\n",
      "------------------------------------------------------------------------------\n",
      "const          0.7780      2.488      0.313      0.754      -4.098       5.654\n",
      "Mean          -0.0225      0.007     -3.146      0.002      -0.037      -0.008\n",
      "IV             0.0004      0.000      1.821      0.069    -2.7e-05       0.001\n",
      "==============================================================================\n",
      "Optimization terminated successfully.\n",
      "         Current function value: 0.379908\n",
      "         Iterations 7\n",
      "                           Logit Regression Results                           \n",
      "==============================================================================\n",
      "Dep. Variable:                  label   No. Observations:                   54\n",
      "Model:                          Logit   Df Residuals:                       51\n",
      "Method:                           MLE   Df Model:                            2\n",
      "Date:                Sat, 31 Oct 2020   Pseudo R-squ.:                  0.4379\n",
      "Time:                        17:21:45   Log-Likelihood:                -20.515\n",
      "converged:                       True   LL-Null:                       -36.499\n",
      "Covariance Type:            nonrobust   LLR p-value:                 1.144e-07\n",
      "==============================================================================\n",
      "                 coef    std err          z      P>|z|      [0.025      0.975]\n",
      "------------------------------------------------------------------------------\n",
      "const          5.4840      1.958      2.801      0.005       1.647       9.321\n",
      "Mean          -0.0216      0.013     -1.656      0.098      -0.047       0.004\n",
      "RMSSD         -0.0061      0.016     -0.384      0.701      -0.037       0.025\n",
      "==============================================================================\n"
     ]
    }
   ],
   "source": [
    "X = feat.drop(['label','index','f.prop', 'Variance', 'AR', 'IS'], axis=1)\n",
    "y = feat['label']\n",
    "feat = ['IV', 'RMSSD']\n",
    "#Standardize the data \n",
    "scaler = StandardScaler()\n",
    "for f in feat:\n",
    "    #X = pd.DataFrame(scaler.fit_transform(X), columns= X.columns.values)\n",
    "    dat = tools.add_constant(X[['Mean', f]])\n",
    "    log_reg = sm.Logit(y, dat).fit()\n",
    "    print(log_reg.summary())\n",
    "  "
   ]
  },
  {
   "cell_type": "code",
   "execution_count": 477,
   "metadata": {},
   "outputs": [
    {
     "name": "stderr",
     "output_type": "stream",
     "text": [
      "/Library/Frameworks/Python.framework/Versions/3.6/lib/python3.6/site-packages/numpy/core/fromnumeric.py:2389: FutureWarning: Method .ptp is deprecated and will be removed in a future version. Use numpy.ptp instead.\n",
      "  return ptp(axis=axis, out=out, **kwargs)\n"
     ]
    },
    {
     "name": "stdout",
     "output_type": "stream",
     "text": [
      "Optimization terminated successfully.\n",
      "         Current function value: 0.306715\n",
      "         Iterations 8\n",
      "                           Logit Regression Results                           \n",
      "==============================================================================\n",
      "Dep. Variable:                  label   No. Observations:                   54\n",
      "Model:                          Logit   Df Residuals:                       50\n",
      "Method:                           MLE   Df Model:                            3\n",
      "Date:                Mon, 02 Nov 2020   Pseudo R-squ.:                  0.5462\n",
      "Time:                        17:54:06   Log-Likelihood:                -16.563\n",
      "converged:                       True   LL-Null:                       -36.499\n",
      "Covariance Type:            nonrobust   LLR p-value:                 1.134e-08\n",
      "==============================================================================\n",
      "                 coef    std err          z      P>|z|      [0.025      0.975]\n",
      "------------------------------------------------------------------------------\n",
      "const          0.7133      2.603      0.274      0.784      -4.388       5.815\n",
      "Mean           0.0113      0.018      0.634      0.526      -0.024       0.046\n",
      "IV             0.0007      0.000      2.309      0.021       0.000       0.001\n",
      "RMSSD         -0.0456      0.025     -1.821      0.069      -0.095       0.003\n",
      "==============================================================================\n"
     ]
    }
   ],
   "source": [
    "X = feat.drop(['label','index','f.prop', 'Variance', 'AR', 'IS'], axis=1)\n",
    "y = feat['label']\n",
    "#X = pd.DataFrame(scaler.fit_transform(X), columns= X.columns.values)\n",
    "dat = tools.add_constant(X)\n",
    "log_reg = sm.Logit(y, dat).fit()\n",
    "print(log_reg.summary())\n",
    "  "
   ]
  },
  {
   "cell_type": "code",
   "execution_count": null,
   "metadata": {},
   "outputs": [],
   "source": [
    "print('Precision:', np.mean(precision))\n",
    "print('Recall:', np.mean(recall))\n",
    "\n",
    "confusion_matrix(y_test, logReg.predict(X_test))\n",
    "\n",
    "average_precision = average_precision_score(y_test,logReg.predict(X_test))\n",
    "\n",
    "\n",
    "print('Average Precision Test:',average_precision )\n",
    "precision, recall, thresholds = precision_recall_curve(y_test,logReg.predict(X_test))\n",
    "plt.step(recall, precision, color='k', alpha=0.7, where='post')\n",
    "plt.fill_between(recall, precision, step='post', alpha=0.3, color='k')\n",
    "\n",
    "plt.xlabel('Recall')\n",
    "plt.ylabel('Precision')\n",
    "plt.ylim([0.0, 1.05])\n",
    "plt.xlim([0.0, 1.0])\n",
    "\n",
    "plt.title('PRC: Average Precision Test = {0:0.2f}'.format(\n",
    "          average_precision))\n"
   ]
  }
 ],
 "metadata": {
  "kernelspec": {
   "display_name": "Python 3",
   "language": "python",
   "name": "python3"
  },
  "language_info": {
   "codemirror_mode": {
    "name": "ipython",
    "version": 3
   },
   "file_extension": ".py",
   "mimetype": "text/x-python",
   "name": "python",
   "nbconvert_exporter": "python",
   "pygments_lexer": "ipython3",
   "version": "3.6.0"
  }
 },
 "nbformat": 4,
 "nbformat_minor": 2
}
