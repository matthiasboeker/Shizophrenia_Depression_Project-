{
 "cells": [
  {
   "cell_type": "code",
   "execution_count": 1,
   "metadata": {},
   "outputs": [],
   "source": [
    "import numpy as np\n",
    "import os\n",
    "import pandas as pd \n",
    "import matplotlib.pyplot as plt\n",
    "\n",
    "os.chdir('/Users/matthiasboeker/Desktop/Master_Thesis/Schizophrenia_Depression_Project')\n",
    "from Modules.func.support_functions import *"
   ]
  },
  {
   "cell_type": "code",
   "execution_count": 2,
   "metadata": {},
   "outputs": [],
   "source": [
    "shizophrenia_p, shizophrenia_c = load_data()\n",
    "#Reshape \n",
    "shizophrenia_p = [np.array(X).reshape(len(X), 1) for X in shizophrenia_p]\n",
    "shizophrenia_c = [np.array(X).reshape(len(X), 1) for X in shizophrenia_c]"
   ]
  },
  {
   "cell_type": "markdown",
   "metadata": {},
   "source": [
    "## Feature Extraction "
   ]
  },
  {
   "cell_type": "markdown",
   "metadata": {},
   "source": [
    "### Extract average activity and variablitiy "
   ]
  },
  {
   "cell_type": "code",
   "execution_count": 3,
   "metadata": {},
   "outputs": [],
   "source": [
    "means_p = np.array([np.mean(shizophrenia_p[i]) for i in range(0,len(shizophrenia_p))])\n",
    "means_c = np.array([np.mean(shizophrenia_c[i]) for i in range(0,len(shizophrenia_c))])\n",
    "var_p = np.array([np.var(shizophrenia_p[i]) for i in range(0,len(shizophrenia_p))])\n",
    "var_c = np.array([np.var(shizophrenia_c[i]) for i in range(0,len(shizophrenia_c))])"
   ]
  },
  {
   "cell_type": "markdown",
   "metadata": {},
   "source": [
    "### Extract 24h daily structure "
   ]
  },
  {
   "cell_type": "code",
   "execution_count": 4,
   "metadata": {},
   "outputs": [],
   "source": [
    "days_c = [np.array([shizophrenia_c[l][i*(60*24):(i+1)*(60*24)] for i in range(0,int(len(shizophrenia_c[l])/(60*24))-1)]) for l in range(0,len(shizophrenia_c))]\n",
    "days_p = [np.array([shizophrenia_p[l][i*(60*24):(i+1)*(60*24)] for i in range(0,int(len(shizophrenia_p[l])/(60*24))-1)]) for l in range(0,len(shizophrenia_p))]\n",
    "# Day mean and standard deviation\n",
    "day_mean_p = [np.mean(days_p[i], axis=0) for i in range(0,len(days_p))]\n",
    "day_mean_c = [np.mean(days_c[i], axis=0) for i in range(0,len(days_c))]\n",
    "prop_z_p = [np.mean([(days_p[i][j]==0).sum()/len(days_p[i][j]) for j in range(0,len(days_p[i]))]) for i in range(0,len(days_p))]\n",
    "prop_z_c = [np.mean([(days_c[i][j]==0).sum()/len(days_c[i][j]) for j in range(0,len(days_c[i]))]) for i in range(0,len(days_c))]"
   ]
  },
  {
   "cell_type": "markdown",
   "metadata": {},
   "source": [
    "### Extract 12h structure 9-21 day"
   ]
  },
  {
   "cell_type": "code",
   "execution_count": 5,
   "metadata": {},
   "outputs": [],
   "source": [
    "daily_c = [np.array([shizophrenia_c[l][i*(60*12):(i+1)*(60*12)] for i in range(0,int(len(shizophrenia_c[l])/(60*12))-1,2)]) for l in range(0,len(shizophrenia_c))]\n",
    "daily_p = [np.array([shizophrenia_p[l][i*(60*12):(i+1)*(60*12)] for i in range(0,int(len(shizophrenia_p[l])/(60*12))-1, 2)]) for l in range(0,len(shizophrenia_p))]\n",
    "# Daily mean and standard deviation\n",
    "daily_mean_p = [np.mean(daily_p[i], axis=0) for i in range(0,len(daily_p))]\n",
    "daily_mean_c = [np.mean(daily_c[i], axis=0) for i in range(0,len(daily_c))]\n",
    "daily_std_p = [np.std(daily_p[i], axis=0) for i in range(0,len(daily_p))]\n",
    "daily_std_c = [np.std(daily_c[i], axis=0) for i in range(0,len(daily_c))]"
   ]
  },
  {
   "cell_type": "markdown",
   "metadata": {},
   "source": [
    "### Extract 12h structure 21-9 night\n"
   ]
  },
  {
   "cell_type": "code",
   "execution_count": 6,
   "metadata": {},
   "outputs": [],
   "source": [
    "night_c = [np.array([shizophrenia_c[l][i*(60*12):(i+1)*(60*12)] for i in range(1,int(len(shizophrenia_c[l])/(60*12))-1,2)]) for l in range(0,len(shizophrenia_c))]\n",
    "night_p = [np.array([shizophrenia_p[l][i*(60*12):(i+1)*(60*12)] for i in range(1,int(len(shizophrenia_p[l])/(60*12))-1, 2)]) for l in range(0,len(shizophrenia_p))]\n",
    "# Nightly mean and standard deviation\n",
    "night_mean_p = [np.mean(night_p[i], axis=0) for i in range(0,len(night_p))]\n",
    "night_mean_c = [np.mean(night_c[i], axis=0) for i in range(0,len(night_c))]\n",
    "night_std_p = [np.std(night_p[i], axis=0) for i in range(0,len(night_p))]\n",
    "night_std_c = [np.std(night_c[i], axis=0) for i in range(0,len(night_c))]"
   ]
  },
  {
   "cell_type": "markdown",
   "metadata": {},
   "source": [
    "### Intradaily Variability "
   ]
  },
  {
   "cell_type": "code",
   "execution_count": 7,
   "metadata": {},
   "outputs": [],
   "source": [
    "#Squared Differenciate\n",
    "shizophrenia_c_nom = [(np.diff(shizophrenia_c[l],axis=0)[1:]**2).sum()*len(shizophrenia_c[l]) for l in range(0,len(shizophrenia_c))]\n",
    "shizophrenia_p_nom = [(np.diff(shizophrenia_p[l],axis=0)[1:]**2).sum()*len(shizophrenia_p[l]) for l in range(0,len(shizophrenia_p))]"
   ]
  },
  {
   "cell_type": "code",
   "execution_count": 8,
   "metadata": {},
   "outputs": [],
   "source": [
    "IV_c = [shizophrenia_c_nom[l]/((len(shizophrenia_c[l])-1)*var_c[l]) for l in range(0,len(shizophrenia_c))]\n",
    "IV_p = [shizophrenia_p_nom[l]/((len(shizophrenia_p[l])-1)*var_p[l]) for l in range(0,len(shizophrenia_p))]"
   ]
  },
  {
   "cell_type": "markdown",
   "metadata": {},
   "source": [
    "### Interday Stability"
   ]
  },
  {
   "cell_type": "code",
   "execution_count": 9,
   "metadata": {},
   "outputs": [],
   "source": [
    "# Get the hourly means\n",
    "hourly_mean_p = [np.array([np.mean(day_mean_p[l][i*(60):(i+1)*(60)]) for i in range(0,int(len(day_mean_p[l])/60))]) for l in range(0,len(day_mean_p))]\n",
    "hourly_mean_c = [np.array([np.mean(day_mean_c[l][i*(60):(i+1)*(60)]) for i in range(0,int(len(day_mean_c[l])/60))]) for l in range(0,len(day_mean_c))]\n",
    "\n"
   ]
  },
  {
   "cell_type": "code",
   "execution_count": 10,
   "metadata": {},
   "outputs": [],
   "source": [
    "IS_p = [len(shizophrenia_p[i])*((hourly_mean_p[i]-means_p[i])**2).sum()/(day_mean_p[i].shape[0]*var_p[i]) for i in range(0,len(shizophrenia_p))]   \n",
    "IS_c = [len(shizophrenia_c[i])*((hourly_mean_c[i]-means_c[i])**2).sum()/(day_mean_c[i].shape[0]*var_c[i]) for i in range(0,len(shizophrenia_c))]"
   ]
  },
  {
   "cell_type": "markdown",
   "metadata": {},
   "source": [
    "### Autocorrelation "
   ]
  },
  {
   "cell_type": "code",
   "execution_count": 11,
   "metadata": {},
   "outputs": [],
   "source": [
    "def autocorr(x):\n",
    "    result = np.correlate(x, x)\n",
    "    return result[result.size // 2:]"
   ]
  },
  {
   "cell_type": "code",
   "execution_count": 12,
   "metadata": {},
   "outputs": [],
   "source": [
    "ar_p = np.squeeze(np.array([autocorr(shizophrenia_p[i][:,0]) for i in range(0,len(shizophrenia_p))]).reshape(1,-1))\n",
    "ar_c = np.squeeze(np.array([autocorr(shizophrenia_c[i][:,0]) for i in range(0,len(shizophrenia_c))]).reshape(1,-1))\n"
   ]
  },
  {
   "cell_type": "code",
   "execution_count": 13,
   "metadata": {},
   "outputs": [
    {
     "name": "stderr",
     "output_type": "stream",
     "text": [
      "/Library/Frameworks/Python.framework/Versions/3.6/lib/python3.6/site-packages/statsmodels/tsa/stattools.py:593: FutureWarning: fft=True will become the default in a future version of statsmodels. To suppress this warning, explicitly set fft=False.\n",
      "  FutureWarning\n"
     ]
    }
   ],
   "source": [
    "from statsmodels.tsa.stattools import acf, pacf\n",
    "lags = acf(shizophrenia_p[10], nlags=1500)"
   ]
  },
  {
   "cell_type": "markdown",
   "metadata": {},
   "source": [
    "### Root Mean Square of successive differences"
   ]
  },
  {
   "cell_type": "code",
   "execution_count": 14,
   "metadata": {},
   "outputs": [],
   "source": [
    "rmssd_p = np.array([np.sqrt((np.diff(shizophrenia_p[i],axis=0)**2).sum()/(len(shizophrenia_p[i])-1)) for i in range(0,len(shizophrenia_p))])\n",
    "rmssd_c = np.array([np.sqrt((np.diff(shizophrenia_c[i],axis=0)**2).sum()/(len(shizophrenia_c[i])-1)) for i in range(0,len(shizophrenia_c))])"
   ]
  },
  {
   "cell_type": "markdown",
   "metadata": {},
   "source": [
    "### Creating Feature Matrix"
   ]
  },
  {
   "cell_type": "code",
   "execution_count": 15,
   "metadata": {},
   "outputs": [],
   "source": [
    "feat_p  = {'Mean': means_p, 'Variance': var_p,'f.prop':prop_z_p ,'IV':  IV_p,'IS':  IS_p, 'AR':  ar_p,'RMSSD': rmssd_p ,'label': np.repeat(1, len(var_p))}\n",
    "feat_df_p = pd.DataFrame(data=feat_p)\n",
    "\n",
    "feat_c  = {'Mean': means_c, 'Variance': var_c,'f.prop':prop_z_c ,'IV':  IV_c, 'IS':  IS_c, 'AR':  ar_c,'RMSSD': rmssd_c , 'label': np.repeat(0, len(var_c))}\n",
    "feat_df_c = pd.DataFrame(data=feat_c)\n",
    "\n",
    "feat = pd.concat([feat_df_p, feat_df_c], axis=0, sort=False)\n",
    "feat = feat.reset_index()\n"
   ]
  },
  {
   "cell_type": "code",
   "execution_count": 16,
   "metadata": {},
   "outputs": [
    {
     "data": {
      "image/png": "[encoded data removed]",
      "text/plain": [
       "<matplotlib.figure.Figure at 0x11ff335c0>"
      ]
     },
     "metadata": {
      "needs_background": "light"
     },
     "output_type": "display_data"
    }
   ],
   "source": [
    "fig = plt.figure(figsize=(8,5))\n",
    "color = ['darkorange' if x>0 else 'navy' for x in feat['label']]\n",
    "shape = ['d' if k>0 else 'd' for k in feat['label']]\n",
    "for x, l, c, m in zip( feat['Mean'],  feat['RMSSD'], color, shape):\n",
    "    plt.scatter(x, l, alpha=0.8, c=c,marker=m)  \n",
    "    plt.xlabel('mean')\n",
    "    plt.ylabel('IV')\n",
    "    plt.title('Link components')"
   ]
  },
  {
   "cell_type": "code",
   "execution_count": 17,
   "metadata": {},
   "outputs": [
    {
     "data": {
      "image/png": "[encoded data removed]",
      "text/plain": [
       "<matplotlib.figure.Figure at 0x11d8b1898>"
      ]
     },
     "metadata": {
      "needs_background": "light"
     },
     "output_type": "display_data"
    }
   ],
   "source": [
    "from sklearn.decomposition import PCA, KernelPCA\n",
    "from sklearn.preprocessing import StandardScaler\n",
    "X = feat.drop(['label','index', 'f.prop'], axis=1)\n",
    "y = feat['label']\n",
    "\n",
    "scaler = StandardScaler()\n",
    "X = pd.DataFrame(scaler.fit_transform(X), columns= X.columns.values)\n",
    "# pca of features spaces \n",
    "pca = KernelPCA(n_components=2, kernel='linear')\n",
    "principalComponents_all = pca.fit_transform(X)\n",
    "\n",
    "\n",
    "fig = plt.figure(figsize=(8,5))\n",
    "color = ['darkorange' if x>0 else 'navy' for x in y]\n",
    "shape = ['d' if k>0 else 'd' for k in y]\n",
    "for x, l, c, m in zip(principalComponents_all[:,0], principalComponents_all[:,1], color, shape):\n",
    "    plt.scatter(x, l, alpha=0.8, c=c,marker=m)  \n",
    "    plt.title('Features')\n"
   ]
  },
  {
   "cell_type": "markdown",
   "metadata": {},
   "source": [
    "### Correlation Matrix"
   ]
  },
  {
   "cell_type": "code",
   "execution_count": 18,
   "metadata": {},
   "outputs": [
    {
     "data": {
      "text/plain": [
       "<matplotlib.axes._subplots.AxesSubplot at 0x1219c9b38>"
      ]
     },
     "execution_count": 18,
     "metadata": {},
     "output_type": "execute_result"
    },
    {
     "data": {
      "image/png": "[encoded data removed]",
      "text/plain": [
       "<matplotlib.figure.Figure at 0x1200ed048>"
      ]
     },
     "metadata": {
      "needs_background": "light"
     },
     "output_type": "display_data"
    }
   ],
   "source": [
    "import seaborn as sns\n",
    "X = feat.drop(['label','index', 'f.prop'], axis=1)\n",
    "y = feat['label']\n",
    "corr = X.corr()\n",
    "sns.heatmap(corr, \n",
    "        xticklabels=corr.columns,\n",
    "        yticklabels=corr.columns, annot=True, cmap=\"rocket\")"
   ]
  },
  {
   "cell_type": "code",
   "execution_count": null,
   "metadata": {},
   "outputs": [],
   "source": []
  },
  {
   "cell_type": "markdown",
   "metadata": {},
   "source": [
    "## Logistic Regression with L1 Reg"
   ]
  },
  {
   "cell_type": "code",
   "execution_count": 20,
   "metadata": {},
   "outputs": [
    {
     "ename": "NameError",
     "evalue": "name 'k_fold' is not defined",
     "output_type": "error",
     "traceback": [
      "\u001b[0;31m---------------------------------------------------------------------------\u001b[0m",
      "\u001b[0;31mNameError\u001b[0m                                 Traceback (most recent call last)",
      "\u001b[0;32m<ipython-input-20-d6a3b7420684>\u001b[0m in \u001b[0;36m<module>\u001b[0;34m\u001b[0m\n\u001b[1;32m     28\u001b[0m     \u001b[0mpredictionsBasedOnKFolds\u001b[0m \u001b[0;34m=\u001b[0m \u001b[0mpd\u001b[0m\u001b[0;34m.\u001b[0m\u001b[0mDataFrame\u001b[0m\u001b[0;34m(\u001b[0m\u001b[0mdata\u001b[0m\u001b[0;34m=\u001b[0m\u001b[0;34m[\u001b[0m\u001b[0;34m]\u001b[0m\u001b[0;34m,\u001b[0m\u001b[0mindex\u001b[0m\u001b[0;34m=\u001b[0m\u001b[0my_train\u001b[0m\u001b[0;34m.\u001b[0m\u001b[0mindex\u001b[0m\u001b[0;34m,\u001b[0m\u001b[0mcolumns\u001b[0m\u001b[0;34m=\u001b[0m\u001b[0;34m[\u001b[0m\u001b[0;36m0\u001b[0m\u001b[0;34m,\u001b[0m\u001b[0;36m1\u001b[0m\u001b[0;34m]\u001b[0m\u001b[0;34m)\u001b[0m\u001b[0;34m\u001b[0m\u001b[0m\n\u001b[1;32m     29\u001b[0m \u001b[0;34m\u001b[0m\u001b[0m\n\u001b[0;32m---> 30\u001b[0;31m     \u001b[0;32mfor\u001b[0m \u001b[0mtrain_index\u001b[0m\u001b[0;34m,\u001b[0m \u001b[0mtest_index\u001b[0m \u001b[0;32min\u001b[0m \u001b[0mk_fold\u001b[0m\u001b[0;34m.\u001b[0m\u001b[0msplit\u001b[0m\u001b[0;34m(\u001b[0m\u001b[0mX_train\u001b[0m\u001b[0;34m,\u001b[0m\u001b[0my_train\u001b[0m\u001b[0;34m)\u001b[0m\u001b[0;34m:\u001b[0m\u001b[0;34m\u001b[0m\u001b[0m\n\u001b[0m\u001b[1;32m     31\u001b[0m         \u001b[0mX_train_fold\u001b[0m\u001b[0;34m,\u001b[0m \u001b[0mX_cv_fold\u001b[0m \u001b[0;34m=\u001b[0m \u001b[0mX_train\u001b[0m\u001b[0;34m.\u001b[0m\u001b[0miloc\u001b[0m\u001b[0;34m[\u001b[0m\u001b[0mtrain_index\u001b[0m\u001b[0;34m,\u001b[0m\u001b[0;34m:\u001b[0m\u001b[0;34m]\u001b[0m\u001b[0;34m,\u001b[0m \u001b[0mX_train\u001b[0m\u001b[0;34m.\u001b[0m\u001b[0miloc\u001b[0m\u001b[0;34m[\u001b[0m\u001b[0mtest_index\u001b[0m\u001b[0;34m,\u001b[0m\u001b[0;34m:\u001b[0m\u001b[0;34m]\u001b[0m\u001b[0;34m\u001b[0m\u001b[0m\n\u001b[1;32m     32\u001b[0m         \u001b[0my_train_fold\u001b[0m\u001b[0;34m,\u001b[0m \u001b[0my_cv_fold\u001b[0m \u001b[0;34m=\u001b[0m \u001b[0my_train\u001b[0m\u001b[0;34m.\u001b[0m\u001b[0miloc\u001b[0m\u001b[0;34m[\u001b[0m\u001b[0mtrain_index\u001b[0m\u001b[0;34m]\u001b[0m\u001b[0;34m,\u001b[0m\u001b[0my_train\u001b[0m\u001b[0;34m.\u001b[0m\u001b[0miloc\u001b[0m\u001b[0;34m[\u001b[0m\u001b[0mtest_index\u001b[0m\u001b[0;34m]\u001b[0m\u001b[0;34m\u001b[0m\u001b[0m\n",
      "\u001b[0;31mNameError\u001b[0m: name 'k_fold' is not defined"
     ]
    }
   ],
   "source": [
    "# Logisitc Regression\n",
    "from sklearn.linear_model import LogisticRegression\n",
    "from sklearn.preprocessing import StandardScaler\n",
    "from sklearn.model_selection import train_test_split\n",
    "from sklearn.model_selection import StratifiedKFold\n",
    "from sklearn.metrics import precision_recall_curve, average_precision_score, log_loss\n",
    "from sklearn.metrics import roc_curve, auc, roc_auc_score, confusion_matrix, matthews_corrcoef\n",
    "X = feat.drop(['label','index','f.prop'], axis=1)\n",
    "y = feat['label']\n",
    "#Standardize the data \n",
    "scaler = StandardScaler()\n",
    "X = pd.DataFrame(scaler.fit_transform(X), columns= X.columns.values)\n",
    "X_train,  X_test, y_train, y_test = train_test_split(X,y,test_size=0.1,random_state=0,  shuffle=True)\n",
    "class_weight = 'balanced'\n",
    "penalty = 'l1'\n",
    "C= [50,10, 5, 1, 0.8, 0.5, 0.3, 0.1, 0.08, 0.05, 0.03, 0.01]\n",
    "n_jobs =1\n",
    "solver='liblinear'\n",
    "coefs = []\n",
    "areaUnderROC = []\n",
    "average_precision = []\n",
    "for c in C: \n",
    "    logReg = LogisticRegression(C=c,random_state=133,penalty = penalty, solver=solver, n_jobs=n_jobs,fit_intercept=True )\n",
    "\n",
    "    trainingScores = []\n",
    "    cvScores = []\n",
    "    \n",
    "    predictionsBasedOnKFolds = pd.DataFrame(data=[],index=y_train.index,columns=[0,1])\n",
    "\n",
    "    for train_index, test_index in k_fold.split(X_train,y_train):\n",
    "        X_train_fold, X_cv_fold = X_train.iloc[train_index,:], X_train.iloc[test_index,:]\n",
    "        y_train_fold, y_cv_fold = y_train.iloc[train_index],y_train.iloc[test_index]\n",
    "\n",
    "        logReg.fit(X_train_fold, y_train_fold)\n",
    "        loglossTraining = log_loss(y_train_fold,logReg.predict_proba(X_train_fold)[:,1])\n",
    "    \n",
    "\n",
    "        trainingScores.append(loglossTraining)\n",
    "\n",
    "        predictionsBasedOnKFolds.loc[X_cv_fold.index,:] = logReg.predict_proba(X_cv_fold)\n",
    "        loglossCV = log_loss(y_cv_fold, predictionsBasedOnKFolds.loc[X_cv_fold.index,1])\n",
    "        cvScores.append(loglossCV)\n",
    "        preds = pd.concat([y_train,predictionsBasedOnKFolds.loc[:,1]], axis=1)\n",
    "        preds.columns = ['trueLabel','prediction']\n",
    "        predictionsBasedOnKFoldsLogisticRegression = preds.copy()\n",
    "    fpr, tpr, thresholds = roc_curve(preds['trueLabel'],preds['prediction'])\n",
    "    average_precision.append(average_precision_score(preds['trueLabel'],\n",
    "                                            preds['prediction']))\n",
    "    areaUnderROC.append(auc(fpr, tpr))\n",
    "    \n",
    "    coefs.append(logReg.coef_)\n",
    "    \n",
    "coefs = pd.DataFrame(np.squeeze(np.asarray(coefs)), columns = X.columns)  \n",
    "coefs['C'] = C\n",
    "\n",
    "res = np.concatenate((np.array(areaUnderROC,ndmin=2),np.array(average_precision,ndmin=2)),axis=0)\n",
    "res = res.reshape(12,2)\n",
    "pred_res = pd.DataFrame(res, columns = ['AUC', 'Avg_Precision']) "
   ]
  },
  {
   "cell_type": "markdown",
   "metadata": {},
   "source": [
    "### Performance Plot for different C parameters"
   ]
  },
  {
   "cell_type": "code",
   "execution_count": null,
   "metadata": {},
   "outputs": [],
   "source": [
    "pred_res"
   ]
  },
  {
   "cell_type": "code",
   "execution_count": null,
   "metadata": {},
   "outputs": [],
   "source": [
    "fig = plt.figure()\n",
    "plt.plot(pred_res['AUC'], ls='-.', color='blue')\n",
    "plt.plot(pred_res['Avg_Precision'], ls='--',color='darkgreen' )\n",
    "plt.xticks(range(0,len(C)),C)\n",
    "plt.xlim(1.0)\n",
    "plt.legend(title='', loc='upper left', bbox_to_anchor=(1.05, 1))\n",
    "plt.xlabel('C parameter')\n",
    "plt.ylabel('Predicition Score')\n",
    "print('Max AUC at C: ',C[np.argmax(pred_res['AUC'])])\n",
    "print('Max Average Precision at C: ',C[np.argmax(pred_res['Avg_Precision'])])"
   ]
  },
  {
   "cell_type": "markdown",
   "metadata": {},
   "source": [
    "### L1 Regularization Plot Coefficients "
   ]
  },
  {
   "cell_type": "code",
   "execution_count": null,
   "metadata": {},
   "outputs": [],
   "source": [
    "coefs_plot = coefs.drop(['C'], axis=1)\n",
    "coefs_plot.plot()                 \n",
    "plt.xticks(range(0,len(C)),C)\n",
    "plt.legend(title='', loc='upper left', bbox_to_anchor=(1.05, 1))\n",
    "plt.xlabel('C parameter')\n",
    "plt.ylabel('Coefficient value')"
   ]
  },
  {
   "cell_type": "code",
   "execution_count": null,
   "metadata": {},
   "outputs": [],
   "source": [
    "zoom = coefs.iloc[5:,:].reset_index(drop=True)\n",
    "zoom.plot()\n",
    "plt.xticks(range(0,len(C[5:])),C[5:])\n",
    "plt.legend(title='', loc='upper left', bbox_to_anchor=(1.05, 1))\n",
    "plt.xlabel('C parameter')\n",
    "plt.ylabel('Coefficient value')"
   ]
  },
  {
   "cell_type": "code",
   "execution_count": null,
   "metadata": {},
   "outputs": [],
   "source": [
    "X = feat.drop(['label','index','f.prop', 'Variance', 'AR'], axis=1)\n",
    "y = feat['label']\n",
    "\n",
    "#Standardize the data \n",
    "scaler = StandardScaler()\n",
    "for f in X.columns:\n",
    "    #X = pd.DataFrame(scaler.fit_transform(X), columns= X.columns.values)\n",
    "    dat = tools.add_constant(X[f])\n",
    "    log_reg = sm.Logit(y, dat).fit()\n",
    "    print(log_reg.summary())\n",
    "  "
   ]
  },
  {
   "cell_type": "code",
   "execution_count": null,
   "metadata": {},
   "outputs": [],
   "source": []
  },
  {
   "cell_type": "code",
   "execution_count": null,
   "metadata": {},
   "outputs": [],
   "source": []
  },
  {
   "cell_type": "markdown",
   "metadata": {},
   "source": [
    "### Single SKlearn Log Regression RMSSD"
   ]
  },
  {
   "cell_type": "code",
   "execution_count": 31,
   "metadata": {},
   "outputs": [
    {
     "name": "stdout",
     "output_type": "stream",
     "text": [
      "Index(['RMSSD'], dtype='object')\n",
      "Matthews Corr Coef:  0.7428571428571429\n"
     ]
    },
    {
     "data": {
      "image/png": "[encoded data removed]",
      "text/plain": [
       "<matplotlib.figure.Figure at 0x1199e5320>"
      ]
     },
     "metadata": {
      "needs_background": "light"
     },
     "output_type": "display_data"
    },
    {
     "data": {
      "image/png": "[encoded data removed]",
      "text/plain": [
       "<matplotlib.figure.Figure at 0x119770208>"
      ]
     },
     "metadata": {
      "needs_background": "light"
     },
     "output_type": "display_data"
    }
   ],
   "source": [
    "from sklearn.linear_model import LogisticRegression \n",
    "from sklearn.model_selection import train_test_split\n",
    "from sklearn.model_selection import StratifiedKFold\n",
    "from sklearn.metrics import precision_recall_curve, average_precision_score, log_loss\n",
    "from sklearn.metrics import roc_curve, auc, roc_auc_score, confusion_matrix\n",
    "X = feat.drop(['label','index','f.prop', 'Variance', 'AR','Mean','IV','IS' ], axis=1)\n",
    "y = feat['label']\n",
    "print(X.columns)\n",
    "X_train,  X_test, y_train, y_test = train_test_split(X,y,test_size=0.1,random_state=0,  shuffle=True)\n",
    "k_fold = StratifiedKFold(n_splits=10, shuffle=True, random_state=123)\n",
    "\n",
    "\n",
    "# Logisitc Regression\n",
    "class_weight = 'balanced'\n",
    "penalty = 'l1'\n",
    "C=1\n",
    "n_jobs =1\n",
    "solver='liblinear'\n",
    "logReg = LogisticRegression(C=C,random_state=133,penalty = penalty, solver=solver, n_jobs=n_jobs, fit_intercept=True )\n",
    "\n",
    "trainingScores = []\n",
    "cvScores = []\n",
    "predictionsBasedOnKFolds = pd.DataFrame(data=[],index=y_train.index,columns=[0,1])\n",
    "\n",
    "for train_index, test_index in k_fold.split(X_train,y_train):\n",
    "    X_train_fold, X_cv_fold = X_train.iloc[train_index,:], X_train.iloc[test_index,:]\n",
    "    y_train_fold, y_cv_fold = y_train.iloc[train_index],y_train.iloc[test_index]\n",
    "\n",
    "    logReg.fit(X_train_fold, y_train_fold)\n",
    "    loglossTraining = log_loss(y_train_fold,logReg.predict_proba(X_train_fold)[:,1])\n",
    "    \n",
    "\n",
    "    trainingScores.append(loglossTraining)\n",
    "\n",
    "    predictionsBasedOnKFolds.loc[X_cv_fold.index,:] = logReg.predict_proba(X_cv_fold)\n",
    "    loglossCV = log_loss(y_cv_fold, predictionsBasedOnKFolds.loc[X_cv_fold.index,1])\n",
    "    cvScores.append(loglossCV)\n",
    "\n",
    "\n",
    "preds = pd.concat([y_train,predictionsBasedOnKFolds.loc[:,1]], axis=1)\n",
    "preds.columns = ['trueLabel','prediction']\n",
    "predictionsBasedOnKFoldsLogisticRegression = preds.copy()\n",
    "\n",
    "\n",
    "precision, recall, thresholds = precision_recall_curve(preds['trueLabel'],preds['prediction'])\n",
    "\n",
    "\n",
    "average_precision = average_precision_score(preds['trueLabel'],\n",
    "                                            preds['prediction'])\n",
    "\n",
    "plt.step(recall, precision, color='k', alpha=0.7, where='post')\n",
    "plt.fill_between(recall, precision, step='post', alpha=0.3, color='k')\n",
    "\n",
    "plt.xlabel('Recall')\n",
    "plt.ylabel('Precision')\n",
    "plt.ylim([0.0, 1.05])\n",
    "plt.xlim([0.0, 1.0])\n",
    "\n",
    "plt.title('PRC: Average Precision = {0:0.2f}'.format(\n",
    "          average_precision))\n",
    "\n",
    "fpr, tpr, thresholds = roc_curve(preds['trueLabel'],preds['prediction'])\n",
    "print('Matthews Corr Coef: ',matthews_corrcoef(preds['trueLabel'],preds['prediction'].astype(np.double).round()))\n",
    "areaUnderROC = auc(fpr, tpr)\n",
    "\n",
    "plt.figure()\n",
    "plt.plot(fpr, tpr, color='r', lw=2, label='ROC curve')\n",
    "plt.plot([0, 1], [0, 1], color='k', lw=2, linestyle='--')\n",
    "plt.xlim([0.0, 1.0])\n",
    "plt.ylim([0.0, 1.05])\n",
    "plt.xlabel('FPR')\n",
    "plt.ylabel('TPR')\n",
    "plt.title('ROC: AUC = {0:0.2f}'.format(areaUnderROC))\n",
    "plt.legend(loc=\"lower right\")\n",
    "plt.show()"
   ]
  },
  {
   "cell_type": "markdown",
   "metadata": {},
   "source": [
    "### Single SKlearn Log Regression IV"
   ]
  },
  {
   "cell_type": "code",
   "execution_count": 30,
   "metadata": {},
   "outputs": [
    {
     "name": "stdout",
     "output_type": "stream",
     "text": [
      "Index(['IV'], dtype='object')\n",
      "Matthews Corr Coef:  0.5242186517143345\n"
     ]
    },
    {
     "data": {
      "image/png": "[encoded data removed]",
      "text/plain": [
       "<matplotlib.figure.Figure at 0x119b8cd68>"
      ]
     },
     "metadata": {
      "needs_background": "light"
     },
     "output_type": "display_data"
    },
    {
     "data": {
      "image/png": "[encoded data removed]",
      "text/plain": [
       "<matplotlib.figure.Figure at 0x11954a358>"
      ]
     },
     "metadata": {
      "needs_background": "light"
     },
     "output_type": "display_data"
    }
   ],
   "source": [
    "from sklearn.linear_model import LogisticRegression \n",
    "from sklearn.model_selection import train_test_split\n",
    "from sklearn.model_selection import StratifiedKFold\n",
    "from sklearn.metrics import precision_recall_curve, average_precision_score, log_loss\n",
    "from sklearn.metrics import roc_curve, auc, roc_auc_score, confusion_matrix\n",
    "X = feat.drop(['label','index','f.prop', 'Variance', 'AR','Mean','RMSSD','IS' ], axis=1)\n",
    "y = feat['label']\n",
    "X_train,  X_test, y_train, y_test = train_test_split(X,y,test_size=0.1,random_state=0,  shuffle=True)\n",
    "k_fold = StratifiedKFold(n_splits=10, shuffle=True, random_state=123)\n",
    "print(X.columns)\n",
    "\n",
    "# Logisitc Regression\n",
    "class_weight = 'balanced'\n",
    "penalty = 'l1'\n",
    "C=1\n",
    "n_jobs =1\n",
    "solver='liblinear'\n",
    "logReg = LogisticRegression(C=C,random_state=133,penalty = penalty, solver=solver, n_jobs=n_jobs, fit_intercept=True )\n",
    "\n",
    "trainingScores = []\n",
    "cvScores = []\n",
    "predictionsBasedOnKFolds = pd.DataFrame(data=[],index=y_train.index,columns=[0,1])\n",
    "\n",
    "for train_index, test_index in k_fold.split(X_train,y_train):\n",
    "    X_train_fold, X_cv_fold = X_train.iloc[train_index,:], X_train.iloc[test_index,:]\n",
    "    y_train_fold, y_cv_fold = y_train.iloc[train_index],y_train.iloc[test_index]\n",
    "\n",
    "    logReg.fit(X_train_fold, y_train_fold)\n",
    "    loglossTraining = log_loss(y_train_fold,logReg.predict_proba(X_train_fold)[:,1])\n",
    "    \n",
    "\n",
    "    trainingScores.append(loglossTraining)\n",
    "\n",
    "    predictionsBasedOnKFolds.loc[X_cv_fold.index,:] = logReg.predict_proba(X_cv_fold)\n",
    "    loglossCV = log_loss(y_cv_fold, predictionsBasedOnKFolds.loc[X_cv_fold.index,1])\n",
    "    cvScores.append(loglossCV)\n",
    "\n",
    "\n",
    "preds = pd.concat([y_train,predictionsBasedOnKFolds.loc[:,1]], axis=1)\n",
    "preds.columns = ['trueLabel','prediction']\n",
    "predictionsBasedOnKFoldsLogisticRegression = preds.copy()\n",
    "\n",
    "\n",
    "precision, recall, thresholds = precision_recall_curve(preds['trueLabel'],preds['prediction'])\n",
    "\n",
    "\n",
    "average_precision = average_precision_score(preds['trueLabel'],\n",
    "                                            preds['prediction'])\n",
    "\n",
    "plt.step(recall, precision, color='k', alpha=0.7, where='post')\n",
    "plt.fill_between(recall, precision, step='post', alpha=0.3, color='k')\n",
    "\n",
    "plt.xlabel('Recall')\n",
    "plt.ylabel('Precision')\n",
    "plt.ylim([0.0, 1.05])\n",
    "plt.xlim([0.0, 1.0])\n",
    "\n",
    "plt.title('PRC: Average Precision = {0:0.2f}'.format(\n",
    "          average_precision))\n",
    "\n",
    "fpr, tpr, thresholds = roc_curve(preds['trueLabel'],preds['prediction'])\n",
    "print('Matthews Corr Coef: ',matthews_corrcoef(preds['trueLabel'],preds['prediction'].astype(np.double).round()))\n",
    "areaUnderROC = auc(fpr, tpr)\n",
    "\n",
    "plt.figure()\n",
    "plt.plot(fpr, tpr, color='r', lw=2, label='ROC curve')\n",
    "plt.plot([0, 1], [0, 1], color='k', lw=2, linestyle='--')\n",
    "plt.xlim([0.0, 1.0])\n",
    "plt.ylim([0.0, 1.05])\n",
    "plt.xlabel('FPR')\n",
    "plt.ylabel('TPR')\n",
    "plt.title('ROC: AUC = {0:0.2f}'.format(areaUnderROC))\n",
    "plt.legend(loc=\"lower right\")\n",
    "plt.show()"
   ]
  },
  {
   "cell_type": "markdown",
   "metadata": {},
   "source": [
    "### Single SKlearn Log Regression Mean"
   ]
  },
  {
   "cell_type": "code",
   "execution_count": 28,
   "metadata": {},
   "outputs": [
    {
     "name": "stdout",
     "output_type": "stream",
     "text": [
      "Index(['Mean'], dtype='object')\n",
      "Confusion matrix: \n",
      "[[26  2]\n",
      " [ 4 16]]\n",
      "Matthews Corr Coef:  0.741940826802374\n"
     ]
    },
    {
     "data": {
      "image/png": "[encoded data removed]",
      "text/plain": [
       "<matplotlib.figure.Figure at 0x1199de198>"
      ]
     },
     "metadata": {
      "needs_background": "light"
     },
     "output_type": "display_data"
    },
    {
     "data": {
      "image/png": "[encoded data removed]",
      "text/plain": [
       "<matplotlib.figure.Figure at 0x119a3bdd8>"
      ]
     },
     "metadata": {
      "needs_background": "light"
     },
     "output_type": "display_data"
    }
   ],
   "source": [
    "from sklearn.linear_model import LogisticRegression \n",
    "from sklearn.model_selection import train_test_split\n",
    "from sklearn.model_selection import StratifiedKFold\n",
    "from sklearn.metrics import precision_recall_curve, average_precision_score, log_loss\n",
    "from sklearn.metrics import roc_curve, auc, roc_auc_score, confusion_matrix, matthews_corrcoef\n",
    "X = feat.drop(['label','index','f.prop', 'Variance', 'IV','RMSSD','AR','IS' ], axis=1)\n",
    "y = feat['label']\n",
    "X_train,  X_test, y_train, y_test = train_test_split(X,y,test_size=0.1,random_state=0,  shuffle=True)\n",
    "k_fold = StratifiedKFold(n_splits=10, shuffle=True, random_state=123)\n",
    "print(X.columns)\n",
    "\n",
    "# Logisitc Regression\n",
    "class_weight = 'balanced'\n",
    "penalty = 'l1'\n",
    "C=1\n",
    "n_jobs =1\n",
    "solver='liblinear'\n",
    "logReg = LogisticRegression(C=C,random_state=133,penalty = penalty, solver=solver, n_jobs=n_jobs, fit_intercept=True )\n",
    "\n",
    "trainingScores = []\n",
    "cvScores = []\n",
    "predictionsBasedOnKFolds = pd.DataFrame(data=[],index=y_train.index,columns=[0,1])\n",
    "\n",
    "for train_index, test_index in k_fold.split(X_train,y_train):\n",
    "    X_train_fold, X_cv_fold = X_train.iloc[train_index,:], X_train.iloc[test_index,:]\n",
    "    y_train_fold, y_cv_fold = y_train.iloc[train_index],y_train.iloc[test_index]\n",
    "\n",
    "    logReg.fit(X_train_fold, y_train_fold)\n",
    "    loglossTraining = log_loss(y_train_fold,logReg.predict_proba(X_train_fold)[:,1])\n",
    "    \n",
    "\n",
    "    trainingScores.append(loglossTraining)\n",
    "\n",
    "    predictionsBasedOnKFolds.loc[X_cv_fold.index,:] = logReg.predict_proba(X_cv_fold)\n",
    "    loglossCV = log_loss(y_cv_fold, predictionsBasedOnKFolds.loc[X_cv_fold.index,1])\n",
    "    cvScores.append(loglossCV)\n",
    "\n",
    "\n",
    "preds = pd.concat([y_train,predictionsBasedOnKFolds.loc[:,1]], axis=1)\n",
    "preds.columns = ['trueLabel','prediction']\n",
    "predictionsBasedOnKFoldsLogisticRegression = preds.copy()\n",
    "\n",
    "\n",
    "precision, recall, thresholds = precision_recall_curve(preds['trueLabel'],preds['prediction'])\n",
    "\n",
    "\n",
    "average_precision = average_precision_score(preds['trueLabel'],\n",
    "                                            preds['prediction'])\n",
    "\n",
    "plt.step(recall, precision, color='k', alpha=0.7, where='post')\n",
    "plt.fill_between(recall, precision, step='post', alpha=0.3, color='k')\n",
    "\n",
    "plt.xlabel('Recall')\n",
    "plt.ylabel('Precision')\n",
    "plt.ylim([0.0, 1.05])\n",
    "plt.xlim([0.0, 1.0])\n",
    "\n",
    "plt.title('PRC: Average Precision = {0:0.2f}'.format(\n",
    "          average_precision))\n",
    "\n",
    "fpr, tpr, thresholds = roc_curve(preds['trueLabel'],preds['prediction'])\n",
    "print('Confusion matrix: ')\n",
    "print(confusion_matrix(preds['trueLabel'],preds['prediction'].astype(np.double).round()))\n",
    "print('Matthews Corr Coef: ',matthews_corrcoef(preds['trueLabel'],preds['prediction'].astype(np.double).round()))\n",
    "\n",
    "areaUnderROC = auc(fpr, tpr)\n",
    "\n",
    "plt.figure()\n",
    "plt.plot(fpr, tpr, color='r', lw=2, label='ROC curve')\n",
    "plt.plot([0, 1], [0, 1], color='k', lw=2, linestyle='--')\n",
    "plt.xlim([0.0, 1.0])\n",
    "plt.ylim([0.0, 1.05])\n",
    "plt.xlabel('FPR')\n",
    "plt.ylabel('TPR')\n",
    "plt.title('ROC: AUC = {0:0.2f}'.format(areaUnderROC))\n",
    "plt.legend(loc=\"lower right\")\n",
    "plt.show()"
   ]
  },
  {
   "cell_type": "code",
   "execution_count": 29,
   "metadata": {},
   "outputs": [
    {
     "name": "stdout",
     "output_type": "stream",
     "text": [
      "Precision: 0.7766355110599547\n",
      "Recall: 0.686904761904762\n",
      "Average Precision Test: 0.3333333333333333\n"
     ]
    },
    {
     "data": {
      "text/plain": [
       "Text(0.5,1,'PRC: Average Precision Test = 0.33')"
      ]
     },
     "execution_count": 29,
     "metadata": {},
     "output_type": "execute_result"
    },
    {
     "data": {
      "image/png": "[encoded data removed]",
      "text/plain": [
       "<matplotlib.figure.Figure at 0x11ff33ba8>"
      ]
     },
     "metadata": {
      "needs_background": "light"
     },
     "output_type": "display_data"
    }
   ],
   "source": [
    "print('Precision:', np.mean(precision))\n",
    "print('Recall:', np.mean(recall))\n",
    "\n",
    "confusion_matrix(y_test, logReg.predict(X_test))\n",
    "\n",
    "average_precision = average_precision_score(y_test,logReg.predict(X_test))\n",
    "\n",
    "\n",
    "print('Average Precision Test:',average_precision )\n",
    "precision, recall, thresholds = precision_recall_curve(y_test,logReg.predict(X_test))\n",
    "plt.step(recall, precision, color='k', alpha=0.7, where='post')\n",
    "plt.fill_between(recall, precision, step='post', alpha=0.3, color='k')\n",
    "\n",
    "plt.xlabel('Recall')\n",
    "plt.ylabel('Precision')\n",
    "plt.ylim([0.0, 1.05])\n",
    "plt.xlim([0.0, 1.0])\n",
    "\n",
    "plt.title('PRC: Average Precision Test = {0:0.2f}'.format(\n",
    "          average_precision))\n"
   ]
  },
  {
   "cell_type": "code",
   "execution_count": null,
   "metadata": {},
   "outputs": [],
   "source": []
  },
  {
   "cell_type": "code",
   "execution_count": null,
   "metadata": {},
   "outputs": [],
   "source": []
  }
 ],
 "metadata": {
  "kernelspec": {
   "display_name": "Python 3",
   "language": "python",
   "name": "python3"
  },
  "language_info": {
   "codemirror_mode": {
    "name": "ipython",
    "version": 3
   },
   "file_extension": ".py",
   "mimetype": "text/x-python",
   "name": "python",
   "nbconvert_exporter": "python",
   "pygments_lexer": "ipython3",
   "version": "3.6.0"
  }
 },
 "nbformat": 4,
 "nbformat_minor": 2
}
