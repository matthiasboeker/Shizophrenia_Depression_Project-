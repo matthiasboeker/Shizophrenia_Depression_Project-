{
 "cells": [
  {
   "cell_type": "code",
   "execution_count": 1,
   "metadata": {},
   "outputs": [],
   "source": [
    "import numpy as np\n",
    "import os\n",
    "import pandas as pd \n",
    "import matplotlib.pyplot as plt\n",
    "\n",
    "os.chdir('/Users/matthiasboeker/Desktop/Master_Thesis/Schizophrenia_Depression_Project')\n",
    "from Modules.func.support_functions import *"
   ]
  },
  {
   "cell_type": "code",
   "execution_count": 2,
   "metadata": {},
   "outputs": [],
   "source": [
    "shizophrenia_p, shizophrenia_c = load_data()\n",
    "#Reshape \n",
    "shizophrenia_p = [np.array(X).reshape(len(X), 1) for X in shizophrenia_p]\n",
    "shizophrenia_c = [np.array(X).reshape(len(X), 1) for X in shizophrenia_c]"
   ]
  },
  {
   "cell_type": "markdown",
   "metadata": {},
   "source": [
    "## Feature Extraction "
   ]
  },
  {
   "cell_type": "markdown",
   "metadata": {},
   "source": [
    "### Extract average activity and variablitiy "
   ]
  },
  {
   "cell_type": "code",
   "execution_count": 3,
   "metadata": {},
   "outputs": [],
   "source": [
    "means_p = np.array([np.mean(shizophrenia_p[i]) for i in range(0,len(shizophrenia_p))])\n",
    "means_c = np.array([np.mean(shizophrenia_c[i]) for i in range(0,len(shizophrenia_c))])\n",
    "var_p = np.array([np.var(shizophrenia_p[i]) for i in range(0,len(shizophrenia_p))])\n",
    "var_c = np.array([np.var(shizophrenia_c[i]) for i in range(0,len(shizophrenia_c))])"
   ]
  },
  {
   "cell_type": "markdown",
   "metadata": {},
   "source": [
    "### Extract 24h daily structure "
   ]
  },
  {
   "cell_type": "code",
   "execution_count": 4,
   "metadata": {},
   "outputs": [],
   "source": [
    "days_c = [np.array([shizophrenia_c[l][i*(60*24):(i+1)*(60*24)] for i in range(0,int(len(shizophrenia_c[l])/(60*24))-1)]) for l in range(0,len(shizophrenia_c))]\n",
    "days_p = [np.array([shizophrenia_p[l][i*(60*24):(i+1)*(60*24)] for i in range(0,int(len(shizophrenia_p[l])/(60*24))-1)]) for l in range(0,len(shizophrenia_p))]\n",
    "# Day mean and standard deviation\n",
    "day_mean_p = [np.mean(days_p[i], axis=0) for i in range(0,len(days_p))]\n",
    "day_mean_c = [np.mean(days_c[i], axis=0) for i in range(0,len(days_c))]\n",
    "prop_z_p = [np.mean([(days_p[i][j]==0).sum()/len(days_p[i][j]) for j in range(0,len(days_p[i]))]) for i in range(0,len(days_p))]\n",
    "prop_z_c = [np.mean([(days_c[i][j]==0).sum()/len(days_c[i][j]) for j in range(0,len(days_c[i]))]) for i in range(0,len(days_c))]"
   ]
  },
  {
   "cell_type": "markdown",
   "metadata": {},
   "source": [
    "### Extract 12h structure 9-21 day"
   ]
  },
  {
   "cell_type": "code",
   "execution_count": 5,
   "metadata": {},
   "outputs": [],
   "source": [
    "daily_c = [np.array([shizophrenia_c[l][i*(60*12):(i+1)*(60*12)] for i in range(0,int(len(shizophrenia_c[l])/(60*12))-1,2)]) for l in range(0,len(shizophrenia_c))]\n",
    "daily_p = [np.array([shizophrenia_p[l][i*(60*12):(i+1)*(60*12)] for i in range(0,int(len(shizophrenia_p[l])/(60*12))-1, 2)]) for l in range(0,len(shizophrenia_p))]\n",
    "# Daily mean and standard deviation\n",
    "daily_mean_p = [np.mean(daily_p[i], axis=0) for i in range(0,len(daily_p))]\n",
    "daily_mean_c = [np.mean(daily_c[i], axis=0) for i in range(0,len(daily_c))]\n",
    "daily_std_p = [np.std(daily_p[i], axis=0) for i in range(0,len(daily_p))]\n",
    "daily_std_c = [np.std(daily_c[i], axis=0) for i in range(0,len(daily_c))]"
   ]
  },
  {
   "cell_type": "markdown",
   "metadata": {},
   "source": [
    "### Extract 12h structure 21-9 night\n"
   ]
  },
  {
   "cell_type": "code",
   "execution_count": 6,
   "metadata": {},
   "outputs": [],
   "source": [
    "night_c = [np.array([shizophrenia_c[l][i*(60*12):(i+1)*(60*12)] for i in range(1,int(len(shizophrenia_c[l])/(60*12))-1,2)]) for l in range(0,len(shizophrenia_c))]\n",
    "night_p = [np.array([shizophrenia_p[l][i*(60*12):(i+1)*(60*12)] for i in range(1,int(len(shizophrenia_p[l])/(60*12))-1, 2)]) for l in range(0,len(shizophrenia_p))]\n",
    "# Nightly mean and standard deviation\n",
    "night_mean_p = [np.mean(night_p[i], axis=0) for i in range(0,len(night_p))]\n",
    "night_mean_c = [np.mean(night_c[i], axis=0) for i in range(0,len(night_c))]\n",
    "night_std_p = [np.std(night_p[i], axis=0) for i in range(0,len(night_p))]\n",
    "night_std_c = [np.std(night_c[i], axis=0) for i in range(0,len(night_c))]"
   ]
  },
  {
   "cell_type": "markdown",
   "metadata": {},
   "source": [
    "### Intradaily Variability "
   ]
  },
  {
   "cell_type": "code",
   "execution_count": 7,
   "metadata": {},
   "outputs": [],
   "source": [
    "#Squared Differenciate\n",
    "shizophrenia_c_nom = [(np.diff(shizophrenia_c[l],axis=0)[1:]**2).sum()*len(shizophrenia_c[l]) for l in range(0,len(shizophrenia_c))]\n",
    "shizophrenia_p_nom = [(np.diff(shizophrenia_p[l],axis=0)[1:]**2).sum()*len(shizophrenia_p[l]) for l in range(0,len(shizophrenia_p))]"
   ]
  },
  {
   "cell_type": "code",
   "execution_count": 8,
   "metadata": {},
   "outputs": [],
   "source": [
    "IV_c = [shizophrenia_c_nom[l]/((len(shizophrenia_c[l])-1)*var_c[l]) for l in range(0,len(shizophrenia_c))]\n",
    "IV_p = [shizophrenia_p_nom[l]/((len(shizophrenia_p[l])-1)*var_p[l]) for l in range(0,len(shizophrenia_p))]"
   ]
  },
  {
   "cell_type": "markdown",
   "metadata": {},
   "source": [
    "### Interday Stability"
   ]
  },
  {
   "cell_type": "code",
   "execution_count": 9,
   "metadata": {},
   "outputs": [],
   "source": [
    "# Get the hourly means\n",
    "hourly_mean_p = [np.array([np.mean(day_mean_p[l][i*(60):(i+1)*(60)]) for i in range(0,int(len(day_mean_p[l])/60))]) for l in range(0,len(day_mean_p))]\n",
    "hourly_mean_c = [np.array([np.mean(day_mean_c[l][i*(60):(i+1)*(60)]) for i in range(0,int(len(day_mean_c[l])/60))]) for l in range(0,len(day_mean_c))]\n",
    "\n"
   ]
  },
  {
   "cell_type": "code",
   "execution_count": 10,
   "metadata": {},
   "outputs": [],
   "source": [
    "IS_p = [len(shizophrenia_p[i])*((hourly_mean_p[i]-means_p[i])**2).sum()/(day_mean_p[i].shape[0]*var_p[i]) for i in range(0,len(shizophrenia_p))]   \n",
    "IS_c = [len(shizophrenia_c[i])*((hourly_mean_c[i]-means_c[i])**2).sum()/(day_mean_c[i].shape[0]*var_c[i]) for i in range(0,len(shizophrenia_c))]"
   ]
  },
  {
   "cell_type": "markdown",
   "metadata": {},
   "source": [
    "### Autocorrelation "
   ]
  },
  {
   "cell_type": "code",
   "execution_count": 11,
   "metadata": {},
   "outputs": [],
   "source": [
    "def autocorr(x):\n",
    "    result = np.correlate(x, x)\n",
    "    return result[result.size // 2:]"
   ]
  },
  {
   "cell_type": "code",
   "execution_count": 12,
   "metadata": {},
   "outputs": [],
   "source": [
    "ar_p = [np.array(autocorr(shizophrenia_p[i][:,0])) for i in range(0,len(shizophrenia_p))]\n",
    "ar_c = [np.array(autocorr(shizophrenia_c[i][:,0])) for i in range(0,len(shizophrenia_c))]\n"
   ]
  },
  {
   "cell_type": "markdown",
   "metadata": {},
   "source": [
    "### Creating Feature Matrix"
   ]
  },
  {
   "cell_type": "code",
   "execution_count": 13,
   "metadata": {},
   "outputs": [],
   "source": [
    "feat_p  = {'mean': means_p, 'variance': var_p,'f.prop':prop_z_p ,'IV':  IV_p,'IS':  IS_p, 'AR':  ar_p,'label': np.repeat(1, len(var_p))}\n",
    "feat_df_p = pd.DataFrame(data=feat_p)\n",
    "\n",
    "feat_c  = {'mean': means_c, 'variance': var_c,'f.prop':prop_z_c ,'IV':  IV_c, 'IS':  IS_c, 'AR':  ar_c,'label': np.repeat(0, len(var_c))}\n",
    "feat_df_c = pd.DataFrame(data=feat_c)\n",
    "\n",
    "feat = pd.concat([feat_df_p, feat_df_c], axis=0, sort=False)\n",
    "feat = feat.reset_index()\n"
   ]
  },
  {
   "cell_type": "code",
   "execution_count": 14,
   "metadata": {},
   "outputs": [
    {
     "data": {
      "image/png": "[encoded data removed]",
      "text/plain": [
       "<matplotlib.figure.Figure at 0x1177167f0>"
      ]
     },
     "metadata": {
      "needs_background": "light"
     },
     "output_type": "display_data"
    }
   ],
   "source": [
    "from sklearn.decomposition import PCA, KernelPCA\n",
    "from sklearn.preprocessing import StandardScaler\n",
    "X = feat.drop(['label','index'], axis=1)\n",
    "y = feat['label']\n",
    "\n",
    "scaler = StandardScaler()\n",
    "X = pd.DataFrame(scaler.fit_transform(X), columns= X.columns.values)\n",
    "# pca of features spaces \n",
    "pca = KernelPCA(n_components=4, kernel='linear')\n",
    "principalComponents_all = pca.fit_transform(X)\n",
    "\n",
    "\n",
    "fig = plt.figure(figsize=(8,5))\n",
    "color = ['darkorange' if x>0 else 'navy' for x in y]\n",
    "shape = ['d' if k>0 else 'd' for k in y]\n",
    "for x, l, c, m in zip(principalComponents_all[:,0], principalComponents_all[:,1], color, shape):\n",
    "    plt.scatter(x, l, alpha=0.8, c=c,marker=m)  \n",
    "    plt.title('Features')\n"
   ]
  },
  {
   "cell_type": "markdown",
   "metadata": {},
   "source": [
    "## Logistic Regression"
   ]
  },
  {
   "cell_type": "code",
   "execution_count": 15,
   "metadata": {},
   "outputs": [
    {
     "name": "stderr",
     "output_type": "stream",
     "text": [
      "/Library/Frameworks/Python.framework/Versions/3.6/lib/python3.6/site-packages/sklearn/svm/base.py:929: ConvergenceWarning: Liblinear failed to converge, increase the number of iterations.\n",
      "  \"the number of iterations.\", ConvergenceWarning)\n",
      "/Library/Frameworks/Python.framework/Versions/3.6/lib/python3.6/site-packages/sklearn/svm/base.py:929: ConvergenceWarning: Liblinear failed to converge, increase the number of iterations.\n",
      "  \"the number of iterations.\", ConvergenceWarning)\n"
     ]
    },
    {
     "data": {
      "image/png": "[encoded data removed]",
      "text/plain": [
       "<matplotlib.figure.Figure at 0x11c58a208>"
      ]
     },
     "metadata": {
      "needs_background": "light"
     },
     "output_type": "display_data"
    },
    {
     "data": {
      "image/png": "[encoded data removed]",
      "text/plain": [
       "<matplotlib.figure.Figure at 0x11ce3beb8>"
      ]
     },
     "metadata": {
      "needs_background": "light"
     },
     "output_type": "display_data"
    },
    {
     "name": "stdout",
     "output_type": "stream",
     "text": [
      "Precision: 0.7643067007313834\n",
      "Recall: 0.7239130434782609\n",
      "Average Precision Test: 0.6666666666666666\n"
     ]
    },
    {
     "data": {
      "text/plain": [
       "Text(0.5,1,'PRC: Average Precision Test = 0.67')"
      ]
     },
     "execution_count": 15,
     "metadata": {},
     "output_type": "execute_result"
    },
    {
     "data": {
      "image/png": "[encoded data removed]",
      "text/plain": [
       "<matplotlib.figure.Figure at 0x11da5e550>"
      ]
     },
     "metadata": {
      "needs_background": "light"
     },
     "output_type": "display_data"
    }
   ],
   "source": [
    "from sklearn.linear_model import LogisticRegression \n",
    "from sklearn.svm import SVC\n",
    "from sklearn.model_selection import train_test_split\n",
    "from sklearn.model_selection import StratifiedKFold\n",
    "from sklearn.metrics import precision_recall_curve, average_precision_score, log_loss\n",
    "from sklearn.metrics import roc_curve, auc, roc_auc_score, confusion_matrix\n",
    "\n",
    "X = feat.drop(['label','index'], axis=1)\n",
    "y = feat['label']\n",
    "\n",
    "X_train,  X_test, y_train, y_test = train_test_split(X,y,test_size=0.1,random_state=0,  shuffle=True)\n",
    "k_fold = StratifiedKFold(n_splits=10, shuffle=True, random_state=123)\n",
    "\n",
    "\n",
    "# Logisitc Regression\n",
    "class_weight = 'balanced'\n",
    "penalty = 'l1'\n",
    "C=1\n",
    "n_jobs =1\n",
    "solver='liblinear'\n",
    "logReg = LogisticRegression(C=C,random_state=133,penalty = penalty, solver=solver, n_jobs=n_jobs )\n",
    "\n",
    "trainingScores = []\n",
    "cvScores = []\n",
    "predictionsBasedOnKFolds = pd.DataFrame(data=[],index=y_train.index,columns=[0,1])\n",
    "\n",
    "for train_index, test_index in k_fold.split(X_train,y_train):\n",
    "    X_train_fold, X_cv_fold = X_train.iloc[train_index,:], X_train.iloc[test_index,:]\n",
    "    y_train_fold, y_cv_fold = y_train.iloc[train_index],y_train.iloc[test_index]\n",
    "\n",
    "    logReg.fit(X_train_fold, y_train_fold)\n",
    "    loglossTraining = log_loss(y_train_fold,logReg.predict_proba(X_train_fold)[:,1])\n",
    "    \n",
    "\n",
    "    trainingScores.append(loglossTraining)\n",
    "\n",
    "    predictionsBasedOnKFolds.loc[X_cv_fold.index,:] = logReg.predict_proba(X_cv_fold)\n",
    "    loglossCV = log_loss(y_cv_fold, predictionsBasedOnKFolds.loc[X_cv_fold.index,1])\n",
    "    cvScores.append(loglossCV)\n",
    "\n",
    "\n",
    "preds = pd.concat([y_train,predictionsBasedOnKFolds.loc[:,1]], axis=1)\n",
    "preds.columns = ['trueLabel','prediction']\n",
    "predictionsBasedOnKFoldsLogisticRegression = preds.copy()\n",
    "\n",
    "\n",
    "precision, recall, thresholds = precision_recall_curve(preds['trueLabel'],preds['prediction'])\n",
    "\n",
    "\n",
    "average_precision = average_precision_score(preds['trueLabel'],\n",
    "                                            preds['prediction'])\n",
    "\n",
    "plt.step(recall, precision, color='k', alpha=0.7, where='post')\n",
    "plt.fill_between(recall, precision, step='post', alpha=0.3, color='k')\n",
    "\n",
    "plt.xlabel('Recall')\n",
    "plt.ylabel('Precision')\n",
    "plt.ylim([0.0, 1.05])\n",
    "plt.xlim([0.0, 1.0])\n",
    "\n",
    "plt.title('PRC: Average Precision = {0:0.2f}'.format(\n",
    "          average_precision))\n",
    "\n",
    "fpr, tpr, thresholds = roc_curve(preds['trueLabel'],preds['prediction'])\n",
    "\n",
    "areaUnderROC = auc(fpr, tpr)\n",
    "\n",
    "plt.figure()\n",
    "plt.plot(fpr, tpr, color='r', lw=2, label='ROC curve')\n",
    "plt.plot([0, 1], [0, 1], color='k', lw=2, linestyle='--')\n",
    "plt.xlim([0.0, 1.0])\n",
    "plt.ylim([0.0, 1.05])\n",
    "plt.xlabel('FPR')\n",
    "plt.ylabel('TPR')\n",
    "plt.title('ROC: AUC = {0:0.2f}'.format(areaUnderROC))\n",
    "plt.legend(loc=\"lower right\")\n",
    "plt.show()\n",
    "print('Precision:', np.mean(precision))\n",
    "print('Recall:', np.mean(recall))\n",
    "\n",
    "confusion_matrix(y_test, logReg.predict(X_test))\n",
    "\n",
    "average_precision = average_precision_score(y_test,logReg.predict(X_test))\n",
    "\n",
    "\n",
    "print('Average Precision Test:',average_precision )\n",
    "precision, recall, thresholds = precision_recall_curve(y_test,logReg.predict(X_test))\n",
    "plt.step(recall, precision, color='k', alpha=0.7, where='post')\n",
    "plt.fill_between(recall, precision, step='post', alpha=0.3, color='k')\n",
    "\n",
    "plt.xlabel('Recall')\n",
    "plt.ylabel('Precision')\n",
    "plt.ylim([0.0, 1.05])\n",
    "plt.xlim([0.0, 1.0])\n",
    "\n",
    "plt.title('PRC: Average Precision Test = {0:0.2f}'.format(\n",
    "          average_precision))\n"
   ]
  },
  {
   "cell_type": "markdown",
   "metadata": {},
   "source": [
    "## Support Vector Machine"
   ]
  },
  {
   "cell_type": "code",
   "execution_count": null,
   "metadata": {},
   "outputs": [],
   "source": [
    "from sklearn.svm import SVC\n",
    "from sklearn.model_selection import train_test_split\n",
    "from sklearn.model_selection import StratifiedKFold\n",
    "from sklearn.metrics import precision_recall_curve, average_precision_score, log_loss\n",
    "from sklearn.metrics import roc_curve, auc, roc_auc_score, confusion_matrix\n",
    "X = feat.drop(['label','index'], axis=1)\n",
    "y = feat['label']\n",
    "\n",
    "X_train,  X_test, y_train, y_test = train_test_split(X,y,test_size=0.1,random_state=0,  shuffle=True)\n",
    "k_fold = StratifiedKFold(n_splits=10, shuffle=True, random_state=123)\n",
    "\n",
    "\n",
    "\n",
    "#Support vector machine \n",
    "kernel = 'linear'\n",
    "class_weight = 'balanced'\n",
    "decision_fun = 'ovr'\n",
    "clf = SVC(kernel=kernel, class_weight=class_weight, random_state=133,probability=True,decision_function_shape=decision_fun,shrinking=True)\n",
    "\n",
    "\n",
    "trainingScores = []\n",
    "cvScores = []\n",
    "predictionsBasedOnKFolds = pd.DataFrame(data=[],index=y_train.index,columns=[0,1])\n",
    "\n",
    "for train_index, test_index in k_fold.split(X_train,y_train):\n",
    "    X_train_fold, X_cv_fold = X_train.iloc[train_index,:], X_train.iloc[test_index,:]\n",
    "    y_train_fold, y_cv_fold = y_train.iloc[train_index],y_train.iloc[test_index]\n",
    "\n",
    "    clf.fit(X_train_fold, y_train_fold)\n",
    "    loglossTraining = log_loss(y_train_fold,clf.predict_proba(X_train_fold)[:,1])\n",
    "    \n",
    "\n",
    "    trainingScores.append(loglossTraining)\n",
    "\n",
    "    predictionsBasedOnKFolds.loc[X_cv_fold.index,:] = clf.predict_proba(X_cv_fold)\n",
    "    loglossCV = log_loss(y_cv_fold, predictionsBasedOnKFolds.loc[X_cv_fold.index,1])\n",
    "    cvScores.append(loglossCV)\n",
    "\n",
    "\n",
    "preds = pd.concat([y_train,predictionsBasedOnKFolds.loc[:,1]], axis=1)\n",
    "preds.columns = ['trueLabel','prediction']\n",
    "predictionsBasedOnKFoldsLogisticRegression = preds.copy()\n",
    "\n",
    "\n",
    "precision, recall, thresholds = precision_recall_curve(preds['trueLabel'],preds['prediction'])\n",
    "\n",
    "\n",
    "average_precision = average_precision_score(preds['trueLabel'],\n",
    "                                            preds['prediction'])\n",
    "\n",
    "plt.step(recall, precision, color='k', alpha=0.7, where='post')\n",
    "plt.fill_between(recall, precision, step='post', alpha=0.3, color='k')\n",
    "\n",
    "plt.xlabel('Recall')\n",
    "plt.ylabel('Precision')\n",
    "plt.ylim([0.0, 1.05])\n",
    "plt.xlim([0.0, 1.0])\n",
    "\n",
    "plt.title('PRC: Average Precision = {0:0.2f}'.format(\n",
    "          average_precision))\n",
    "\n",
    "fpr, tpr, thresholds = roc_curve(preds['trueLabel'],preds['prediction'])\n",
    "\n",
    "areaUnderROC = auc(fpr, tpr)\n",
    "\n",
    "plt.figure()\n",
    "plt.plot(fpr, tpr, color='r', lw=2, label='ROC curve')\n",
    "plt.plot([0, 1], [0, 1], color='k', lw=2, linestyle='--')\n",
    "plt.xlim([0.0, 1.0])\n",
    "plt.ylim([0.0, 1.05])\n",
    "plt.xlabel('FPR')\n",
    "plt.ylabel('TPR')\n",
    "plt.title('ROC: AUC = {0:0.2f}'.format(areaUnderROC))\n",
    "plt.legend(loc=\"lower right\")\n",
    "plt.show()\n",
    "print('Precision:', np.mean(precision))\n",
    "print('Recall:', np.mean(recall))\n",
    "\n",
    "confusion_matrix(y_test, clf.predict(X_test))\n",
    "\n",
    "average_precision = average_precision_score(y_test,clf.predict(X_test))\n",
    "\n",
    "\n",
    "print('Average Precision Test:',average_precision )\n",
    "precision, recall, thresholds = precision_recall_curve(y_test,clf.predict(X_test))\n",
    "plt.step(recall, precision, color='k', alpha=0.7, where='post')\n",
    "plt.fill_between(recall, precision, step='post', alpha=0.3, color='k')\n",
    "\n",
    "plt.xlabel('Recall')\n",
    "plt.ylabel('Precision')\n",
    "plt.ylim([0.0, 1.05])\n",
    "plt.xlim([0.0, 1.0])\n",
    "\n",
    "plt.title('PRC: Average Precision Test = {0:0.2f}'.format(\n",
    "          average_precision))\n",
    "\n",
    "\n",
    "\n"
   ]
  },
  {
   "cell_type": "markdown",
   "metadata": {},
   "source": [
    "### Random Forest Classification"
   ]
  },
  {
   "cell_type": "code",
   "execution_count": null,
   "metadata": {},
   "outputs": [],
   "source": [
    "from sklearn.ensemble import RandomForestClassifier\n",
    "from sklearn.model_selection import train_test_split\n",
    "from sklearn.model_selection import StratifiedKFold\n",
    "from sklearn.metrics import precision_recall_curve, average_precision_score, log_loss\n",
    "from sklearn.metrics import roc_curve, auc, roc_auc_score, confusion_matrix\n",
    "X = feat.drop(['label','index'], axis=1)\n",
    "y = feat['label']\n",
    "\n",
    "X_train,  X_test, y_train, y_test = train_test_split(X,y,test_size=0.1,random_state=0,  shuffle=True)\n",
    "k_fold = StratifiedKFold(n_splits=10, shuffle=True, random_state=123)\n",
    "\n",
    "\n",
    "\n",
    "#Support vector machine \n",
    "criterion = 'entropy'\n",
    "clf = RandomForestClassifier(criterion = criterion, random_state=133)\n",
    "\n",
    "\n",
    "trainingScores = []\n",
    "cvScores = []\n",
    "predictionsBasedOnKFolds = pd.DataFrame(data=[],index=y_train.index,columns=[0,1])\n",
    "\n",
    "for train_index, test_index in k_fold.split(X_train,y_train):\n",
    "    X_train_fold, X_cv_fold = X_train.iloc[train_index,:], X_train.iloc[test_index,:]\n",
    "    y_train_fold, y_cv_fold = y_train.iloc[train_index],y_train.iloc[test_index]\n",
    "\n",
    "    clf.fit(X_train_fold, y_train_fold)\n",
    "    loglossTraining = log_loss(y_train_fold,clf.predict_proba(X_train_fold)[:,1])\n",
    "    \n",
    "\n",
    "    trainingScores.append(loglossTraining)\n",
    "\n",
    "    predictionsBasedOnKFolds.loc[X_cv_fold.index,:] = clf.predict_proba(X_cv_fold)\n",
    "    loglossCV = log_loss(y_cv_fold, predictionsBasedOnKFolds.loc[X_cv_fold.index,1])\n",
    "    cvScores.append(loglossCV)\n",
    "\n",
    "\n",
    "preds = pd.concat([y_train,predictionsBasedOnKFolds.loc[:,1]], axis=1)\n",
    "preds.columns = ['trueLabel','prediction']\n",
    "predictionsBasedOnKFoldsLogisticRegression = preds.copy()\n",
    "\n",
    "\n",
    "precision, recall, thresholds = precision_recall_curve(preds['trueLabel'],preds['prediction'])\n",
    "\n",
    "\n",
    "average_precision = average_precision_score(preds['trueLabel'],\n",
    "                                            preds['prediction'])\n",
    "\n",
    "plt.step(recall, precision, color='k', alpha=0.7, where='post')\n",
    "plt.fill_between(recall, precision, step='post', alpha=0.3, color='k')\n",
    "\n",
    "plt.xlabel('Recall')\n",
    "plt.ylabel('Precision')\n",
    "plt.ylim([0.0, 1.05])\n",
    "plt.xlim([0.0, 1.0])\n",
    "\n",
    "plt.title('PRC: Average Precision = {0:0.2f}'.format(\n",
    "          average_precision))\n",
    "\n",
    "fpr, tpr, thresholds = roc_curve(preds['trueLabel'],preds['prediction'])\n",
    "\n",
    "areaUnderROC = auc(fpr, tpr)\n",
    "\n",
    "plt.figure()\n",
    "plt.plot(fpr, tpr, color='r', lw=2, label='ROC curve')\n",
    "plt.plot([0, 1], [0, 1], color='k', lw=2, linestyle='--')\n",
    "plt.xlim([0.0, 1.0])\n",
    "plt.ylim([0.0, 1.05])\n",
    "plt.xlabel('FPR')\n",
    "plt.ylabel('TPR')\n",
    "plt.title('ROC: AUC = {0:0.2f}'.format(areaUnderROC))\n",
    "plt.legend(loc=\"lower right\")\n",
    "plt.show()\n",
    "print('Precision:', np.mean(precision))\n",
    "print('Recall:', np.mean(recall))\n",
    "\n",
    "confusion_matrix(y_test, clf.predict(X_test))\n",
    "\n",
    "average_precision = average_precision_score(y_test,clf.predict(X_test))\n",
    "\n",
    "\n",
    "print('Average Precision Test:',average_precision )\n",
    "precision, recall, thresholds = precision_recall_curve(y_test,clf.predict(X_test))\n",
    "plt.step(recall, precision, color='k', alpha=0.7, where='post')\n",
    "plt.fill_between(recall, precision, step='post', alpha=0.3, color='k')\n",
    "\n",
    "plt.xlabel('Recall')\n",
    "plt.ylabel('Precision')\n",
    "plt.ylim([0.0, 1.05])\n",
    "plt.xlim([0.0, 1.0])\n",
    "\n",
    "plt.title('PRC: Average Precision Test = {0:0.2f}'.format(\n",
    "          average_precision))\n",
    "\n",
    "\n",
    "\n"
   ]
  },
  {
   "cell_type": "code",
   "execution_count": null,
   "metadata": {},
   "outputs": [],
   "source": [
    "y_test"
   ]
  },
  {
   "cell_type": "code",
   "execution_count": null,
   "metadata": {},
   "outputs": [],
   "source": []
  }
 ],
 "metadata": {
  "kernelspec": {
   "display_name": "Python 3",
   "language": "python",
   "name": "python3"
  },
  "language_info": {
   "codemirror_mode": {
    "name": "ipython",
    "version": 3
   },
   "file_extension": ".py",
   "mimetype": "text/x-python",
   "name": "python",
   "nbconvert_exporter": "python",
   "pygments_lexer": "ipython3",
   "version": "3.6.0"
  }
 },
 "nbformat": 4,
 "nbformat_minor": 2
}
