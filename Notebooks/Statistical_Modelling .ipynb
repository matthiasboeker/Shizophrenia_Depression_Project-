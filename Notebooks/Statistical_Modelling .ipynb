{
 "cells": [
  {
   "cell_type": "code",
   "execution_count": 1,
   "metadata": {},
   "outputs": [],
   "source": [
    "import numpy as np\n",
    "import os\n",
    "import pandas as pd \n",
    "import matplotlib.pyplot as plt\n",
    "\n",
    "os.chdir('/Users/matthiasboeker/Desktop/Master_Thesis/Schizophrenia_Depression_Project')\n",
    "from Modules.func.support_functions import *"
   ]
  },
  {
   "cell_type": "code",
   "execution_count": 2,
   "metadata": {},
   "outputs": [],
   "source": [
    "shizophrenia_p, shizophrenia_c = load_data()\n",
    "#Reshape \n",
    "shizophrenia_p = [np.array(X).reshape(len(X), 1) for X in shizophrenia_p]\n",
    "shizophrenia_c = [np.array(X).reshape(len(X), 1) for X in shizophrenia_c]"
   ]
  },
  {
   "cell_type": "markdown",
   "metadata": {},
   "source": [
    "## Feature Extraction "
   ]
  },
  {
   "cell_type": "markdown",
   "metadata": {},
   "source": [
    "### Extract average activity and variablitiy "
   ]
  },
  {
   "cell_type": "code",
   "execution_count": 3,
   "metadata": {},
   "outputs": [],
   "source": [
    "means_p = np.array([np.mean(shizophrenia_p[i]) for i in range(0,len(shizophrenia_p))])\n",
    "means_c = np.array([np.mean(shizophrenia_c[i]) for i in range(0,len(shizophrenia_c))])\n",
    "var_p = np.array([np.var(shizophrenia_p[i]) for i in range(0,len(shizophrenia_p))])\n",
    "var_c = np.array([np.var(shizophrenia_c[i]) for i in range(0,len(shizophrenia_c))])"
   ]
  },
  {
   "cell_type": "markdown",
   "metadata": {},
   "source": [
    "### Extract 24h daily structure "
   ]
  },
  {
   "cell_type": "code",
   "execution_count": 4,
   "metadata": {},
   "outputs": [],
   "source": [
    "days_c = [np.array([shizophrenia_c[l][i*(60*24):(i+1)*(60*24)] for i in range(0,int(len(shizophrenia_c[l])/(60*24))-1)]) for l in range(0,len(shizophrenia_c))]\n",
    "days_p = [np.array([shizophrenia_p[l][i*(60*24):(i+1)*(60*24)] for i in range(0,int(len(shizophrenia_p[l])/(60*24))-1)]) for l in range(0,len(shizophrenia_p))]\n",
    "# Day mean and standard deviation\n",
    "day_mean_p = [np.mean(days_p[i], axis=0) for i in range(0,len(days_p))]\n",
    "day_mean_c = [np.mean(days_c[i], axis=0) for i in range(0,len(days_c))]\n",
    "prop_z_p = [np.mean([(days_p[i][j]==0).sum()/len(days_p[i][j]) for j in range(0,len(days_p[i]))]) for i in range(0,len(days_p))]\n",
    "prop_z_c = [np.mean([(days_c[i][j]==0).sum()/len(days_c[i][j]) for j in range(0,len(days_c[i]))]) for i in range(0,len(days_c))]"
   ]
  },
  {
   "cell_type": "markdown",
   "metadata": {},
   "source": [
    "### Extract 12h structure 9-21 day"
   ]
  },
  {
   "cell_type": "code",
   "execution_count": 5,
   "metadata": {},
   "outputs": [],
   "source": [
    "daily_c = [np.array([shizophrenia_c[l][i*(60*12):(i+1)*(60*12)] for i in range(0,int(len(shizophrenia_c[l])/(60*12))-1,2)]) for l in range(0,len(shizophrenia_c))]\n",
    "daily_p = [np.array([shizophrenia_p[l][i*(60*12):(i+1)*(60*12)] for i in range(0,int(len(shizophrenia_p[l])/(60*12))-1, 2)]) for l in range(0,len(shizophrenia_p))]\n",
    "# Daily mean and standard deviation\n",
    "daily_mean_p = [np.mean(daily_p[i], axis=0) for i in range(0,len(daily_p))]\n",
    "daily_mean_c = [np.mean(daily_c[i], axis=0) for i in range(0,len(daily_c))]\n",
    "daily_std_p = [np.std(daily_p[i], axis=0) for i in range(0,len(daily_p))]\n",
    "daily_std_c = [np.std(daily_c[i], axis=0) for i in range(0,len(daily_c))]"
   ]
  },
  {
   "cell_type": "markdown",
   "metadata": {},
   "source": [
    "### Extract 12h structure 21-9 night\n"
   ]
  },
  {
   "cell_type": "code",
   "execution_count": 6,
   "metadata": {},
   "outputs": [],
   "source": [
    "night_c = [np.array([shizophrenia_c[l][i*(60*12):(i+1)*(60*12)] for i in range(1,int(len(shizophrenia_c[l])/(60*12))-1,2)]) for l in range(0,len(shizophrenia_c))]\n",
    "night_p = [np.array([shizophrenia_p[l][i*(60*12):(i+1)*(60*12)] for i in range(1,int(len(shizophrenia_p[l])/(60*12))-1, 2)]) for l in range(0,len(shizophrenia_p))]\n",
    "# Nightly mean and standard deviation\n",
    "night_mean_p = [np.mean(night_p[i], axis=0) for i in range(0,len(night_p))]\n",
    "night_mean_c = [np.mean(night_c[i], axis=0) for i in range(0,len(night_c))]\n",
    "night_std_p = [np.std(night_p[i], axis=0) for i in range(0,len(night_p))]\n",
    "night_std_c = [np.std(night_c[i], axis=0) for i in range(0,len(night_c))]"
   ]
  },
  {
   "cell_type": "markdown",
   "metadata": {},
   "source": [
    "### Intradaily Variability "
   ]
  },
  {
   "cell_type": "code",
   "execution_count": 7,
   "metadata": {},
   "outputs": [],
   "source": [
    "#Squared Differenciate\n",
    "shizophrenia_c_nom = [(np.diff(shizophrenia_c[l],axis=0)[1:]**2).sum()*len(shizophrenia_c[l]) for l in range(0,len(shizophrenia_c))]\n",
    "shizophrenia_p_nom = [(np.diff(shizophrenia_p[l],axis=0)[1:]**2).sum()*len(shizophrenia_p[l]) for l in range(0,len(shizophrenia_p))]"
   ]
  },
  {
   "cell_type": "code",
   "execution_count": 8,
   "metadata": {},
   "outputs": [],
   "source": [
    "IV_c = [shizophrenia_c_nom[l]/((len(shizophrenia_c[l])-1)*var_c[l]) for l in range(0,len(shizophrenia_c))]\n",
    "IV_p = [shizophrenia_p_nom[l]/((len(shizophrenia_p[l])-1)*var_p[l]) for l in range(0,len(shizophrenia_p))]"
   ]
  },
  {
   "cell_type": "markdown",
   "metadata": {},
   "source": [
    "### Interday Stability"
   ]
  },
  {
   "cell_type": "code",
   "execution_count": 9,
   "metadata": {},
   "outputs": [],
   "source": [
    "# Get the hourly means\n",
    "hourly_mean_p = [np.array([np.mean(day_mean_p[l][i*(60):(i+1)*(60)]) for i in range(0,int(len(day_mean_p[l])/60))]) for l in range(0,len(day_mean_p))]\n",
    "hourly_mean_c = [np.array([np.mean(day_mean_c[l][i*(60):(i+1)*(60)]) for i in range(0,int(len(day_mean_c[l])/60))]) for l in range(0,len(day_mean_c))]\n",
    "\n"
   ]
  },
  {
   "cell_type": "code",
   "execution_count": 10,
   "metadata": {},
   "outputs": [],
   "source": [
    "IS_p = [len(shizophrenia_p[i])*((hourly_mean_p[i]-means_p[i])**2).sum()/(day_mean_p[i].shape[0]*var_p[i]) for i in range(0,len(shizophrenia_p))]   \n",
    "IS_c = [len(shizophrenia_c[i])*((hourly_mean_c[i]-means_c[i])**2).sum()/(day_mean_c[i].shape[0]*var_c[i]) for i in range(0,len(shizophrenia_c))]"
   ]
  },
  {
   "cell_type": "markdown",
   "metadata": {},
   "source": [
    "### Autocorrelation "
   ]
  },
  {
   "cell_type": "code",
   "execution_count": 58,
   "metadata": {},
   "outputs": [],
   "source": [
    "def autocorr(x):\n",
    "    result = np.correlate(x, x)\n",
    "    return result[result.size // 2:]"
   ]
  },
  {
   "cell_type": "code",
   "execution_count": 66,
   "metadata": {},
   "outputs": [],
   "source": [
    "ar_p = np.squeeze(np.array([autocorr(shizophrenia_p[i][:,0]) for i in range(0,len(shizophrenia_p))]).reshape(1,-1))\n",
    "ar_c = np.squeeze(np.array([autocorr(shizophrenia_c[i][:,0]) for i in range(0,len(shizophrenia_c))]).reshape(1,-1))\n"
   ]
  },
  {
   "cell_type": "code",
   "execution_count": 268,
   "metadata": {},
   "outputs": [],
   "source": [
    "from statsmodels.tsa.stattools import acf, pacf\n",
    "lags = acf(shizophrenia_p[10], nlags=1500)"
   ]
  },
  {
   "cell_type": "markdown",
   "metadata": {},
   "source": [
    "### Root Mean Square of successive differences"
   ]
  },
  {
   "cell_type": "code",
   "execution_count": 37,
   "metadata": {},
   "outputs": [],
   "source": [
    "rmssd_p = np.array([np.sqrt((np.diff(shizophrenia_p[i],axis=0)**2).sum()/(len(shizophrenia_p[i])-1)) for i in range(0,len(shizophrenia_p))])\n",
    "rmssd_c = np.array([np.sqrt((np.diff(shizophrenia_c[i],axis=0)**2).sum()/(len(shizophrenia_c[i])-1)) for i in range(0,len(shizophrenia_c))])"
   ]
  },
  {
   "cell_type": "markdown",
   "metadata": {},
   "source": [
    "### Creating Feature Matrix"
   ]
  },
  {
   "cell_type": "code",
   "execution_count": 347,
   "metadata": {},
   "outputs": [],
   "source": [
    "feat_p  = {'Mean': means_p, 'Variance': var_p,'f.prop':prop_z_p ,'IV':  IV_p,'IS':  IS_p, 'AR':  ar_p,'RMSSD': rmssd_p ,'label': np.repeat(1, len(var_p))}\n",
    "feat_df_p = pd.DataFrame(data=feat_p)\n",
    "\n",
    "feat_c  = {'Mean': means_c, 'Variance': var_c,'f.prop':prop_z_c ,'IV':  IV_c, 'IS':  IS_c, 'AR':  ar_c,'RMSSD': rmssd_c , 'label': np.repeat(0, len(var_c))}\n",
    "feat_df_c = pd.DataFrame(data=feat_c)\n",
    "\n",
    "feat = pd.concat([feat_df_p, feat_df_c], axis=0, sort=False)\n",
    "feat = feat.reset_index()\n"
   ]
  },
  {
   "cell_type": "code",
   "execution_count": 134,
   "metadata": {},
   "outputs": [
    {
     "data": {
      "image/png": "[encoded data removed]",
      "text/plain": [
       "<matplotlib.figure.Figure at 0x11acf5c18>"
      ]
     },
     "metadata": {
      "needs_background": "light"
     },
     "output_type": "display_data"
    }
   ],
   "source": [
    "from sklearn.decomposition import PCA, KernelPCA\n",
    "from sklearn.preprocessing import StandardScaler\n",
    "X = feat.drop(['label','index', 'f.prop'], axis=1)\n",
    "y = feat['label']\n",
    "\n",
    "scaler = StandardScaler()\n",
    "X = pd.DataFrame(scaler.fit_transform(X), columns= X.columns.values)\n",
    "# pca of features spaces \n",
    "pca = KernelPCA(n_components=2, kernel='linear')\n",
    "principalComponents_all = pca.fit_transform(X)\n",
    "\n",
    "\n",
    "fig = plt.figure(figsize=(8,5))\n",
    "color = ['darkorange' if x>0 else 'navy' for x in y]\n",
    "shape = ['d' if k>0 else 'd' for k in y]\n",
    "for x, l, c, m in zip(principalComponents_all[:,0], principalComponents_all[:,1], color, shape):\n",
    "    plt.scatter(x, l, alpha=0.8, c=c,marker=m)  \n",
    "    plt.title('Features')\n"
   ]
  },
  {
   "cell_type": "markdown",
   "metadata": {},
   "source": [
    "### Correlation Matrix"
   ]
  },
  {
   "cell_type": "code",
   "execution_count": 180,
   "metadata": {},
   "outputs": [
    {
     "name": "stdout",
     "output_type": "stream",
     "text": [
      "              mean  variance        IV        IS        AR     rmssd\n",
      "mean      1.000000  0.923876 -0.467956  0.223444  0.916893  0.942384\n",
      "variance  0.923876  1.000000 -0.466782  0.111338  0.946412  0.917714\n",
      "IV       -0.467956 -0.466782  1.000000 -0.025374 -0.294695 -0.328856\n",
      "IS        0.223444  0.111338 -0.025374  1.000000  0.260134  0.092458\n",
      "AR        0.916893  0.946412 -0.294695  0.260134  1.000000  0.882069\n",
      "rmssd     0.942384  0.917714 -0.328856  0.092458  0.882069  1.000000\n"
     ]
    }
   ],
   "source": [
    "X = feat.drop(['label','index', 'f.prop'], axis=1)\n",
    "y = feat['label']\n",
    "print(X.corr())"
   ]
  },
  {
   "cell_type": "markdown",
   "metadata": {},
   "source": [
    "## Logistic Regression with L1 Reg"
   ]
  },
  {
   "cell_type": "code",
   "execution_count": 427,
   "metadata": {},
   "outputs": [],
   "source": [
    "# Logisitc Regression\n",
    "from sklearn.linear_model import LogisticRegression \n",
    "from sklearn.model_selection import train_test_split\n",
    "from sklearn.model_selection import StratifiedKFold\n",
    "X = feat.drop(['label','index','f.prop'], axis=1)\n",
    "y = feat['label']\n",
    "#Standardize the data \n",
    "scaler = StandardScaler()\n",
    "X = pd.DataFrame(scaler.fit_transform(X), columns= X.columns.values)\n",
    "X_train,  X_test, y_train, y_test = train_test_split(X,y,test_size=0.1,random_state=0,  shuffle=True)\n",
    "class_weight = 'balanced'\n",
    "penalty = 'l1'\n",
    "C= [50,10, 5, 1, 0.8, 0.5, 0.3, 0.1, 0.08, 0.05, 0.03, 0.01]\n",
    "n_jobs =1\n",
    "solver='liblinear'\n",
    "coefs = []\n",
    "areaUnderROC = []\n",
    "average_precision = []\n",
    "for c in C: \n",
    "    logReg = LogisticRegression(C=c,random_state=133,penalty = penalty, solver=solver, n_jobs=n_jobs,fit_intercept=True )\n",
    "\n",
    "    trainingScores = []\n",
    "    cvScores = []\n",
    "    \n",
    "    predictionsBasedOnKFolds = pd.DataFrame(data=[],index=y_train.index,columns=[0,1])\n",
    "\n",
    "    for train_index, test_index in k_fold.split(X_train,y_train):\n",
    "        X_train_fold, X_cv_fold = X_train.iloc[train_index,:], X_train.iloc[test_index,:]\n",
    "        y_train_fold, y_cv_fold = y_train.iloc[train_index],y_train.iloc[test_index]\n",
    "\n",
    "        logReg.fit(X_train_fold, y_train_fold)\n",
    "        loglossTraining = log_loss(y_train_fold,logReg.predict_proba(X_train_fold)[:,1])\n",
    "    \n",
    "\n",
    "        trainingScores.append(loglossTraining)\n",
    "\n",
    "        predictionsBasedOnKFolds.loc[X_cv_fold.index,:] = logReg.predict_proba(X_cv_fold)\n",
    "        loglossCV = log_loss(y_cv_fold, predictionsBasedOnKFolds.loc[X_cv_fold.index,1])\n",
    "        cvScores.append(loglossCV)\n",
    "        preds = pd.concat([y_train,predictionsBasedOnKFolds.loc[:,1]], axis=1)\n",
    "        preds.columns = ['trueLabel','prediction']\n",
    "        predictionsBasedOnKFoldsLogisticRegression = preds.copy()\n",
    "    fpr, tpr, thresholds = roc_curve(preds['trueLabel'],preds['prediction'])\n",
    "    average_precision.append(average_precision_score(preds['trueLabel'],\n",
    "                                            preds['prediction']))\n",
    "    areaUnderROC.append(auc(fpr, tpr))\n",
    "    \n",
    "    coefs.append(logReg.coef_)\n",
    "    \n",
    "coefs = pd.DataFrame(np.squeeze(np.asarray(coefs)), columns = X.columns)  \n",
    "coefs['C'] = C\n",
    "\n",
    "res = np.concatenate((np.array(areaUnderROC,ndmin=2),np.array(average_precision,ndmin=2)),axis=0)\n",
    "res = res.reshape(12,2)\n",
    "pred_res = pd.DataFrame(res, columns = ['AUC', 'Avg_Precision']) "
   ]
  },
  {
   "cell_type": "markdown",
   "metadata": {},
   "source": [
    "### Performance Plot for different C parameters"
   ]
  },
  {
   "cell_type": "code",
   "execution_count": 428,
   "metadata": {},
   "outputs": [
    {
     "data": {
      "text/html": [
       "<div>\n",
       "<style scoped>\n",
       "    .dataframe tbody tr th:only-of-type {\n",
       "        vertical-align: middle;\n",
       "    }\n",
       "\n",
       "    .dataframe tbody tr th {\n",
       "        vertical-align: top;\n",
       "    }\n",
       "\n",
       "    .dataframe thead th {\n",
       "        text-align: right;\n",
       "    }\n",
       "</style>\n",
       "<table border=\"1\" class=\"dataframe\">\n",
       "  <thead>\n",
       "    <tr style=\"text-align: right;\">\n",
       "      <th></th>\n",
       "      <th>AUC</th>\n",
       "      <th>Avg_Precision</th>\n",
       "    </tr>\n",
       "  </thead>\n",
       "  <tbody>\n",
       "    <tr>\n",
       "      <th>0</th>\n",
       "      <td>0.916071</td>\n",
       "      <td>0.919643</td>\n",
       "    </tr>\n",
       "    <tr>\n",
       "      <th>1</th>\n",
       "      <td>0.921429</td>\n",
       "      <td>0.923214</td>\n",
       "    </tr>\n",
       "    <tr>\n",
       "      <th>2</th>\n",
       "      <td>0.921429</td>\n",
       "      <td>0.919643</td>\n",
       "    </tr>\n",
       "    <tr>\n",
       "      <th>3</th>\n",
       "      <td>0.917857</td>\n",
       "      <td>0.898214</td>\n",
       "    </tr>\n",
       "    <tr>\n",
       "      <th>4</th>\n",
       "      <td>0.873214</td>\n",
       "      <td>0.500000</td>\n",
       "    </tr>\n",
       "    <tr>\n",
       "      <th>5</th>\n",
       "      <td>0.500000</td>\n",
       "      <td>0.500000</td>\n",
       "    </tr>\n",
       "    <tr>\n",
       "      <th>6</th>\n",
       "      <td>0.927114</td>\n",
       "      <td>0.932767</td>\n",
       "    </tr>\n",
       "    <tr>\n",
       "      <th>7</th>\n",
       "      <td>0.931824</td>\n",
       "      <td>0.928379</td>\n",
       "    </tr>\n",
       "    <tr>\n",
       "      <th>8</th>\n",
       "      <td>0.927421</td>\n",
       "      <td>0.923347</td>\n",
       "    </tr>\n",
       "    <tr>\n",
       "      <th>9</th>\n",
       "      <td>0.916656</td>\n",
       "      <td>0.886183</td>\n",
       "    </tr>\n",
       "    <tr>\n",
       "      <th>10</th>\n",
       "      <td>0.844406</td>\n",
       "      <td>0.416667</td>\n",
       "    </tr>\n",
       "    <tr>\n",
       "      <th>11</th>\n",
       "      <td>0.416667</td>\n",
       "      <td>0.416667</td>\n",
       "    </tr>\n",
       "  </tbody>\n",
       "</table>\n",
       "</div>"
      ],
      "text/plain": [
       "         AUC  Avg_Precision\n",
       "0   0.916071       0.919643\n",
       "1   0.921429       0.923214\n",
       "2   0.921429       0.919643\n",
       "3   0.917857       0.898214\n",
       "4   0.873214       0.500000\n",
       "5   0.500000       0.500000\n",
       "6   0.927114       0.932767\n",
       "7   0.931824       0.928379\n",
       "8   0.927421       0.923347\n",
       "9   0.916656       0.886183\n",
       "10  0.844406       0.416667\n",
       "11  0.416667       0.416667"
      ]
     },
     "execution_count": 428,
     "metadata": {},
     "output_type": "execute_result"
    }
   ],
   "source": [
    "pred_res"
   ]
  },
  {
   "cell_type": "code",
   "execution_count": 429,
   "metadata": {},
   "outputs": [
    {
     "name": "stderr",
     "output_type": "stream",
     "text": [
      "/Library/Frameworks/Python.framework/Versions/3.6/lib/python3.6/site-packages/numpy/core/fromnumeric.py:56: FutureWarning: \n",
      "The current behaviour of 'Series.argmax' is deprecated, use 'idxmax'\n",
      "instead.\n",
      "The behavior of 'argmax' will be corrected to return the positional\n",
      "maximum in the future. For now, use 'series.values.argmax' or\n",
      "'np.argmax(np.array(values))' to get the position of the maximum\n",
      "row.\n",
      "  return getattr(obj, method)(*args, **kwds)\n"
     ]
    },
    {
     "name": "stdout",
     "output_type": "stream",
     "text": [
      "Max AUC at C:  0.1\n",
      "Max Average Precision at C:  0.3\n"
     ]
    },
    {
     "data": {
      "image/png": "[encoded data removed]",
      "text/plain": [
       "<matplotlib.figure.Figure at 0x129788f98>"
      ]
     },
     "metadata": {
      "needs_background": "light"
     },
     "output_type": "display_data"
    }
   ],
   "source": [
    "pred_res.plot()\n",
    "plt.xticks(range(0,len(C)),C)\n",
    "plt.legend(title='', loc='upper left', bbox_to_anchor=(1.05, 1))\n",
    "plt.xlabel('C parameter')\n",
    "plt.ylabel('Predicition Score')\n",
    "print('Max AUC at C: ',C[np.argmax(pred_res['AUC'])])\n",
    "print('Max Average Precision at C: ',C[np.argmax(pred_res['Avg_Precision'])])"
   ]
  },
  {
   "cell_type": "markdown",
   "metadata": {},
   "source": [
    "### L1 Regularization Plot Coefficients "
   ]
  },
  {
   "cell_type": "code",
   "execution_count": 430,
   "metadata": {},
   "outputs": [
    {
     "data": {
      "text/plain": [
       "Text(0,0.5,'Coefficient value')"
      ]
     },
     "execution_count": 430,
     "metadata": {},
     "output_type": "execute_result"
    },
    {
     "data": {
      "image/png": "[encoded data removed]",
      "text/plain": [
       "<matplotlib.figure.Figure at 0x12b0b04a8>"
      ]
     },
     "metadata": {
      "needs_background": "light"
     },
     "output_type": "display_data"
    }
   ],
   "source": [
    "coefs_plot = coefs.drop(['C'], axis=1)\n",
    "coefs_plot.plot()                 \n",
    "plt.xticks(range(0,len(C)),C)\n",
    "plt.legend(title='', loc='upper left', bbox_to_anchor=(1.05, 1))\n",
    "plt.xlabel('C parameter')\n",
    "plt.ylabel('Coefficient value')"
   ]
  },
  {
   "cell_type": "code",
   "execution_count": 431,
   "metadata": {},
   "outputs": [
    {
     "data": {
      "text/plain": [
       "Text(0,0.5,'Coefficient value')"
      ]
     },
     "execution_count": 431,
     "metadata": {},
     "output_type": "execute_result"
    },
    {
     "data": {
      "image/png": "[encoded data removed]",
      "text/plain": [
       "<matplotlib.figure.Figure at 0x12b24f908>"
      ]
     },
     "metadata": {
      "needs_background": "light"
     },
     "output_type": "display_data"
    }
   ],
   "source": [
    "zoom = coefs.iloc[5:,:].reset_index(drop=True)\n",
    "zoom.plot()\n",
    "plt.xticks(range(0,len(C[5:])),C[5:])\n",
    "plt.legend(title='', loc='upper left', bbox_to_anchor=(1.05, 1))\n",
    "plt.xlabel('C parameter')\n",
    "plt.ylabel('Coefficient value')"
   ]
  },
  {
   "cell_type": "code",
   "execution_count": 418,
   "metadata": {},
   "outputs": [
    {
     "data": {
      "text/html": [
       "<div>\n",
       "<style scoped>\n",
       "    .dataframe tbody tr th:only-of-type {\n",
       "        vertical-align: middle;\n",
       "    }\n",
       "\n",
       "    .dataframe tbody tr th {\n",
       "        vertical-align: top;\n",
       "    }\n",
       "\n",
       "    .dataframe thead th {\n",
       "        text-align: right;\n",
       "    }\n",
       "</style>\n",
       "<table border=\"1\" class=\"dataframe\">\n",
       "  <thead>\n",
       "    <tr style=\"text-align: right;\">\n",
       "      <th></th>\n",
       "      <th>Mean</th>\n",
       "      <th>Variance</th>\n",
       "      <th>IV</th>\n",
       "      <th>IS</th>\n",
       "      <th>AR</th>\n",
       "      <th>RMSSD</th>\n",
       "      <th>C</th>\n",
       "    </tr>\n",
       "  </thead>\n",
       "  <tbody>\n",
       "    <tr>\n",
       "      <th>0</th>\n",
       "      <td>3.326861</td>\n",
       "      <td>6.621356</td>\n",
       "      <td>3.621100</td>\n",
       "      <td>1.747152</td>\n",
       "      <td>-5.253233</td>\n",
       "      <td>-7.954884</td>\n",
       "      <td>50.00</td>\n",
       "    </tr>\n",
       "    <tr>\n",
       "      <th>1</th>\n",
       "      <td>0.000000</td>\n",
       "      <td>0.000000</td>\n",
       "      <td>1.422064</td>\n",
       "      <td>1.587529</td>\n",
       "      <td>-0.850947</td>\n",
       "      <td>-2.851779</td>\n",
       "      <td>10.00</td>\n",
       "    </tr>\n",
       "    <tr>\n",
       "      <th>2</th>\n",
       "      <td>0.000000</td>\n",
       "      <td>0.000000</td>\n",
       "      <td>1.304775</td>\n",
       "      <td>1.397248</td>\n",
       "      <td>-0.693832</td>\n",
       "      <td>-2.743926</td>\n",
       "      <td>5.00</td>\n",
       "    </tr>\n",
       "    <tr>\n",
       "      <th>3</th>\n",
       "      <td>0.000000</td>\n",
       "      <td>0.000000</td>\n",
       "      <td>0.834411</td>\n",
       "      <td>0.585060</td>\n",
       "      <td>0.000000</td>\n",
       "      <td>-2.338600</td>\n",
       "      <td>1.00</td>\n",
       "    </tr>\n",
       "    <tr>\n",
       "      <th>4</th>\n",
       "      <td>0.000000</td>\n",
       "      <td>0.000000</td>\n",
       "      <td>0.760537</td>\n",
       "      <td>0.483431</td>\n",
       "      <td>0.000000</td>\n",
       "      <td>-2.179461</td>\n",
       "      <td>0.80</td>\n",
       "    </tr>\n",
       "    <tr>\n",
       "      <th>5</th>\n",
       "      <td>0.000000</td>\n",
       "      <td>0.000000</td>\n",
       "      <td>0.601523</td>\n",
       "      <td>0.267610</td>\n",
       "      <td>0.000000</td>\n",
       "      <td>-1.838850</td>\n",
       "      <td>0.50</td>\n",
       "    </tr>\n",
       "    <tr>\n",
       "      <th>6</th>\n",
       "      <td>0.000000</td>\n",
       "      <td>0.000000</td>\n",
       "      <td>0.418293</td>\n",
       "      <td>0.025786</td>\n",
       "      <td>0.000000</td>\n",
       "      <td>-1.454787</td>\n",
       "      <td>0.30</td>\n",
       "    </tr>\n",
       "    <tr>\n",
       "      <th>7</th>\n",
       "      <td>-0.267732</td>\n",
       "      <td>0.000000</td>\n",
       "      <td>0.000000</td>\n",
       "      <td>0.000000</td>\n",
       "      <td>0.000000</td>\n",
       "      <td>-0.264023</td>\n",
       "      <td>0.10</td>\n",
       "    </tr>\n",
       "    <tr>\n",
       "      <th>8</th>\n",
       "      <td>-0.243390</td>\n",
       "      <td>0.000000</td>\n",
       "      <td>0.000000</td>\n",
       "      <td>0.000000</td>\n",
       "      <td>0.000000</td>\n",
       "      <td>-0.015826</td>\n",
       "      <td>0.08</td>\n",
       "    </tr>\n",
       "    <tr>\n",
       "      <th>9</th>\n",
       "      <td>0.000000</td>\n",
       "      <td>0.000000</td>\n",
       "      <td>0.000000</td>\n",
       "      <td>0.000000</td>\n",
       "      <td>0.000000</td>\n",
       "      <td>0.000000</td>\n",
       "      <td>0.05</td>\n",
       "    </tr>\n",
       "    <tr>\n",
       "      <th>10</th>\n",
       "      <td>0.000000</td>\n",
       "      <td>0.000000</td>\n",
       "      <td>0.000000</td>\n",
       "      <td>0.000000</td>\n",
       "      <td>0.000000</td>\n",
       "      <td>0.000000</td>\n",
       "      <td>0.03</td>\n",
       "    </tr>\n",
       "    <tr>\n",
       "      <th>11</th>\n",
       "      <td>0.000000</td>\n",
       "      <td>0.000000</td>\n",
       "      <td>0.000000</td>\n",
       "      <td>0.000000</td>\n",
       "      <td>0.000000</td>\n",
       "      <td>0.000000</td>\n",
       "      <td>0.01</td>\n",
       "    </tr>\n",
       "  </tbody>\n",
       "</table>\n",
       "</div>"
      ],
      "text/plain": [
       "        Mean  Variance        IV        IS        AR     RMSSD      C\n",
       "0   3.326861  6.621356  3.621100  1.747152 -5.253233 -7.954884  50.00\n",
       "1   0.000000  0.000000  1.422064  1.587529 -0.850947 -2.851779  10.00\n",
       "2   0.000000  0.000000  1.304775  1.397248 -0.693832 -2.743926   5.00\n",
       "3   0.000000  0.000000  0.834411  0.585060  0.000000 -2.338600   1.00\n",
       "4   0.000000  0.000000  0.760537  0.483431  0.000000 -2.179461   0.80\n",
       "5   0.000000  0.000000  0.601523  0.267610  0.000000 -1.838850   0.50\n",
       "6   0.000000  0.000000  0.418293  0.025786  0.000000 -1.454787   0.30\n",
       "7  -0.267732  0.000000  0.000000  0.000000  0.000000 -0.264023   0.10\n",
       "8  -0.243390  0.000000  0.000000  0.000000  0.000000 -0.015826   0.08\n",
       "9   0.000000  0.000000  0.000000  0.000000  0.000000  0.000000   0.05\n",
       "10  0.000000  0.000000  0.000000  0.000000  0.000000  0.000000   0.03\n",
       "11  0.000000  0.000000  0.000000  0.000000  0.000000  0.000000   0.01"
      ]
     },
     "execution_count": 418,
     "metadata": {},
     "output_type": "execute_result"
    }
   ],
   "source": [
    "coefs"
   ]
  },
  {
   "cell_type": "code",
   "execution_count": 432,
   "metadata": {},
   "outputs": [
    {
     "name": "stdout",
     "output_type": "stream",
     "text": [
      "Optimization terminated successfully.\n",
      "         Current function value: 0.381288\n",
      "         Iterations 7\n",
      "                           Logit Regression Results                           \n",
      "==============================================================================\n",
      "Dep. Variable:                  label   No. Observations:                   54\n",
      "Model:                          Logit   Df Residuals:                       52\n",
      "Method:                           MLE   Df Model:                            1\n",
      "Date:                Sat, 31 Oct 2020   Pseudo R-squ.:                  0.4359\n",
      "Time:                        17:12:52   Log-Likelihood:                -20.590\n",
      "converged:                       True   LL-Null:                       -36.499\n",
      "Covariance Type:            nonrobust   LLR p-value:                 1.693e-08\n",
      "==============================================================================\n",
      "                 coef    std err          z      P>|z|      [0.025      0.975]\n",
      "------------------------------------------------------------------------------\n",
      "const          4.9701      1.385      3.589      0.000       2.256       7.685\n",
      "Mean          -0.0259      0.007     -3.762      0.000      -0.039      -0.012\n",
      "==============================================================================\n",
      "Optimization terminated successfully.\n",
      "         Current function value: 0.511899\n",
      "         Iterations 6\n",
      "                           Logit Regression Results                           \n",
      "==============================================================================\n",
      "Dep. Variable:                  label   No. Observations:                   54\n",
      "Model:                          Logit   Df Residuals:                       52\n",
      "Method:                           MLE   Df Model:                            1\n",
      "Date:                Sat, 31 Oct 2020   Pseudo R-squ.:                  0.2426\n",
      "Time:                        17:12:52   Log-Likelihood:                -27.643\n",
      "converged:                       True   LL-Null:                       -36.499\n",
      "Covariance Type:            nonrobust   LLR p-value:                 2.570e-05\n",
      "==============================================================================\n",
      "                 coef    std err          z      P>|z|      [0.025      0.975]\n",
      "------------------------------------------------------------------------------\n",
      "const         -6.1089      1.785     -3.423      0.001      -9.607      -2.611\n",
      "IV             0.0006      0.000      3.268      0.001       0.000       0.001\n",
      "==============================================================================\n",
      "Optimization terminated successfully.\n",
      "         Current function value: 0.671418\n",
      "         Iterations 4\n",
      "                           Logit Regression Results                           \n",
      "==============================================================================\n",
      "Dep. Variable:                  label   No. Observations:                   54\n",
      "Model:                          Logit   Df Residuals:                       52\n",
      "Method:                           MLE   Df Model:                            1\n",
      "Date:                Sat, 31 Oct 2020   Pseudo R-squ.:                0.006633\n",
      "Time:                        17:12:52   Log-Likelihood:                -36.257\n",
      "converged:                       True   LL-Null:                       -36.499\n",
      "Covariance Type:            nonrobust   LLR p-value:                    0.4865\n",
      "==============================================================================\n",
      "                 coef    std err          z      P>|z|      [0.025      0.975]\n",
      "------------------------------------------------------------------------------\n",
      "const         -0.8445      0.735     -1.149      0.251      -2.285       0.597\n",
      "IS             0.0090      0.013      0.694      0.488      -0.016       0.034\n",
      "==============================================================================\n",
      "Optimization terminated successfully.\n",
      "         Current function value: 0.408287\n",
      "         Iterations 7\n",
      "                           Logit Regression Results                           \n",
      "==============================================================================\n",
      "Dep. Variable:                  label   No. Observations:                   54\n",
      "Model:                          Logit   Df Residuals:                       52\n",
      "Method:                           MLE   Df Model:                            1\n",
      "Date:                Sat, 31 Oct 2020   Pseudo R-squ.:                  0.3959\n",
      "Time:                        17:12:52   Log-Likelihood:                -22.047\n",
      "converged:                       True   LL-Null:                       -36.499\n",
      "Covariance Type:            nonrobust   LLR p-value:                 7.612e-08\n",
      "==============================================================================\n",
      "                 coef    std err          z      P>|z|      [0.025      0.975]\n",
      "------------------------------------------------------------------------------\n",
      "const          6.8224      1.892      3.606      0.000       3.114      10.530\n",
      "RMSSD         -0.0311      0.008     -3.783      0.000      -0.047      -0.015\n",
      "==============================================================================\n"
     ]
    },
    {
     "name": "stderr",
     "output_type": "stream",
     "text": [
      "/Library/Frameworks/Python.framework/Versions/3.6/lib/python3.6/site-packages/numpy/core/fromnumeric.py:2389: FutureWarning: Method .ptp is deprecated and will be removed in a future version. Use numpy.ptp instead.\n",
      "  return ptp(axis=axis, out=out, **kwargs)\n"
     ]
    }
   ],
   "source": [
    "X = feat.drop(['label','index','f.prop', 'Variance', 'AR'], axis=1)\n",
    "y = feat['label']\n",
    "\n",
    "#Standardize the data \n",
    "scaler = StandardScaler()\n",
    "for f in X.columns:\n",
    "    #X = pd.DataFrame(scaler.fit_transform(X), columns= X.columns.values)\n",
    "    dat = tools.add_constant(X[f])\n",
    "    log_reg = sm.Logit(y, dat).fit()\n",
    "    print(log_reg.summary())\n",
    "  "
   ]
  },
  {
   "cell_type": "code",
   "execution_count": null,
   "metadata": {},
   "outputs": [],
   "source": []
  },
  {
   "cell_type": "code",
   "execution_count": null,
   "metadata": {},
   "outputs": [],
   "source": []
  },
  {
   "cell_type": "markdown",
   "metadata": {},
   "source": [
    "### Single SKlearn Log Regression RMSSD"
   ]
  },
  {
   "cell_type": "code",
   "execution_count": 438,
   "metadata": {},
   "outputs": [
    {
     "name": "stdout",
     "output_type": "stream",
     "text": [
      "Index(['RMSSD'], dtype='object')\n"
     ]
    },
    {
     "data": {
      "image/png": "[encoded data removed]",
      "text/plain": [
       "<matplotlib.figure.Figure at 0x12b34f1d0>"
      ]
     },
     "metadata": {
      "needs_background": "light"
     },
     "output_type": "display_data"
    },
    {
     "data": {
      "image/png": "[encoded data removed]",
      "text/plain": [
       "<matplotlib.figure.Figure at 0x1204ce780>"
      ]
     },
     "metadata": {
      "needs_background": "light"
     },
     "output_type": "display_data"
    }
   ],
   "source": [
    "from sklearn.linear_model import LogisticRegression \n",
    "from sklearn.model_selection import train_test_split\n",
    "from sklearn.model_selection import StratifiedKFold\n",
    "from sklearn.metrics import precision_recall_curve, average_precision_score, log_loss\n",
    "from sklearn.metrics import roc_curve, auc, roc_auc_score, confusion_matrix\n",
    "X = feat.drop(['label','index','f.prop', 'Variance', 'AR','Mean','IV','IS' ], axis=1)\n",
    "y = feat['label']\n",
    "print(X.columns)\n",
    "X_train,  X_test, y_train, y_test = train_test_split(X,y,test_size=0.1,random_state=0,  shuffle=True)\n",
    "k_fold = StratifiedKFold(n_splits=10, shuffle=True, random_state=123)\n",
    "\n",
    "\n",
    "# Logisitc Regression\n",
    "class_weight = 'balanced'\n",
    "penalty = 'l1'\n",
    "C=1\n",
    "n_jobs =1\n",
    "solver='liblinear'\n",
    "logReg = LogisticRegression(C=C,random_state=133,penalty = penalty, solver=solver, n_jobs=n_jobs, fit_intercept=True )\n",
    "\n",
    "trainingScores = []\n",
    "cvScores = []\n",
    "predictionsBasedOnKFolds = pd.DataFrame(data=[],index=y_train.index,columns=[0,1])\n",
    "\n",
    "for train_index, test_index in k_fold.split(X_train,y_train):\n",
    "    X_train_fold, X_cv_fold = X_train.iloc[train_index,:], X_train.iloc[test_index,:]\n",
    "    y_train_fold, y_cv_fold = y_train.iloc[train_index],y_train.iloc[test_index]\n",
    "\n",
    "    logReg.fit(X_train_fold, y_train_fold)\n",
    "    loglossTraining = log_loss(y_train_fold,logReg.predict_proba(X_train_fold)[:,1])\n",
    "    \n",
    "\n",
    "    trainingScores.append(loglossTraining)\n",
    "\n",
    "    predictionsBasedOnKFolds.loc[X_cv_fold.index,:] = logReg.predict_proba(X_cv_fold)\n",
    "    loglossCV = log_loss(y_cv_fold, predictionsBasedOnKFolds.loc[X_cv_fold.index,1])\n",
    "    cvScores.append(loglossCV)\n",
    "\n",
    "\n",
    "preds = pd.concat([y_train,predictionsBasedOnKFolds.loc[:,1]], axis=1)\n",
    "preds.columns = ['trueLabel','prediction']\n",
    "predictionsBasedOnKFoldsLogisticRegression = preds.copy()\n",
    "\n",
    "\n",
    "precision, recall, thresholds = precision_recall_curve(preds['trueLabel'],preds['prediction'])\n",
    "\n",
    "\n",
    "average_precision = average_precision_score(preds['trueLabel'],\n",
    "                                            preds['prediction'])\n",
    "\n",
    "plt.step(recall, precision, color='k', alpha=0.7, where='post')\n",
    "plt.fill_between(recall, precision, step='post', alpha=0.3, color='k')\n",
    "\n",
    "plt.xlabel('Recall')\n",
    "plt.ylabel('Precision')\n",
    "plt.ylim([0.0, 1.05])\n",
    "plt.xlim([0.0, 1.0])\n",
    "\n",
    "plt.title('PRC: Average Precision = {0:0.2f}'.format(\n",
    "          average_precision))\n",
    "\n",
    "fpr, tpr, thresholds = roc_curve(preds['trueLabel'],preds['prediction'])\n",
    "\n",
    "areaUnderROC = auc(fpr, tpr)\n",
    "\n",
    "plt.figure()\n",
    "plt.plot(fpr, tpr, color='r', lw=2, label='ROC curve')\n",
    "plt.plot([0, 1], [0, 1], color='k', lw=2, linestyle='--')\n",
    "plt.xlim([0.0, 1.0])\n",
    "plt.ylim([0.0, 1.05])\n",
    "plt.xlabel('FPR')\n",
    "plt.ylabel('TPR')\n",
    "plt.title('ROC: AUC = {0:0.2f}'.format(areaUnderROC))\n",
    "plt.legend(loc=\"lower right\")\n",
    "plt.show()"
   ]
  },
  {
   "cell_type": "markdown",
   "metadata": {},
   "source": [
    "### Single SKlearn Log Regression IV"
   ]
  },
  {
   "cell_type": "code",
   "execution_count": 439,
   "metadata": {},
   "outputs": [
    {
     "name": "stdout",
     "output_type": "stream",
     "text": [
      "Index(['IV'], dtype='object')\n"
     ]
    },
    {
     "data": {
      "image/png": "[encoded data removed]",
      "text/plain": [
       "<matplotlib.figure.Figure at 0x120827be0>"
      ]
     },
     "metadata": {
      "needs_background": "light"
     },
     "output_type": "display_data"
    },
    {
     "data": {
      "image/png": "[encoded data removed]",
      "text/plain": [
       "<matplotlib.figure.Figure at 0x12b5d2470>"
      ]
     },
     "metadata": {
      "needs_background": "light"
     },
     "output_type": "display_data"
    }
   ],
   "source": [
    "from sklearn.linear_model import LogisticRegression \n",
    "from sklearn.model_selection import train_test_split\n",
    "from sklearn.model_selection import StratifiedKFold\n",
    "from sklearn.metrics import precision_recall_curve, average_precision_score, log_loss\n",
    "from sklearn.metrics import roc_curve, auc, roc_auc_score, confusion_matrix\n",
    "X = feat.drop(['label','index','f.prop', 'Variance', 'AR','Mean','RMSSD','IS' ], axis=1)\n",
    "y = feat['label']\n",
    "X_train,  X_test, y_train, y_test = train_test_split(X,y,test_size=0.1,random_state=0,  shuffle=True)\n",
    "k_fold = StratifiedKFold(n_splits=10, shuffle=True, random_state=123)\n",
    "print(X.columns)\n",
    "\n",
    "# Logisitc Regression\n",
    "class_weight = 'balanced'\n",
    "penalty = 'l1'\n",
    "C=1\n",
    "n_jobs =1\n",
    "solver='liblinear'\n",
    "logReg = LogisticRegression(C=C,random_state=133,penalty = penalty, solver=solver, n_jobs=n_jobs, fit_intercept=True )\n",
    "\n",
    "trainingScores = []\n",
    "cvScores = []\n",
    "predictionsBasedOnKFolds = pd.DataFrame(data=[],index=y_train.index,columns=[0,1])\n",
    "\n",
    "for train_index, test_index in k_fold.split(X_train,y_train):\n",
    "    X_train_fold, X_cv_fold = X_train.iloc[train_index,:], X_train.iloc[test_index,:]\n",
    "    y_train_fold, y_cv_fold = y_train.iloc[train_index],y_train.iloc[test_index]\n",
    "\n",
    "    logReg.fit(X_train_fold, y_train_fold)\n",
    "    loglossTraining = log_loss(y_train_fold,logReg.predict_proba(X_train_fold)[:,1])\n",
    "    \n",
    "\n",
    "    trainingScores.append(loglossTraining)\n",
    "\n",
    "    predictionsBasedOnKFolds.loc[X_cv_fold.index,:] = logReg.predict_proba(X_cv_fold)\n",
    "    loglossCV = log_loss(y_cv_fold, predictionsBasedOnKFolds.loc[X_cv_fold.index,1])\n",
    "    cvScores.append(loglossCV)\n",
    "\n",
    "\n",
    "preds = pd.concat([y_train,predictionsBasedOnKFolds.loc[:,1]], axis=1)\n",
    "preds.columns = ['trueLabel','prediction']\n",
    "predictionsBasedOnKFoldsLogisticRegression = preds.copy()\n",
    "\n",
    "\n",
    "precision, recall, thresholds = precision_recall_curve(preds['trueLabel'],preds['prediction'])\n",
    "\n",
    "\n",
    "average_precision = average_precision_score(preds['trueLabel'],\n",
    "                                            preds['prediction'])\n",
    "\n",
    "plt.step(recall, precision, color='k', alpha=0.7, where='post')\n",
    "plt.fill_between(recall, precision, step='post', alpha=0.3, color='k')\n",
    "\n",
    "plt.xlabel('Recall')\n",
    "plt.ylabel('Precision')\n",
    "plt.ylim([0.0, 1.05])\n",
    "plt.xlim([0.0, 1.0])\n",
    "\n",
    "plt.title('PRC: Average Precision = {0:0.2f}'.format(\n",
    "          average_precision))\n",
    "\n",
    "fpr, tpr, thresholds = roc_curve(preds['trueLabel'],preds['prediction'])\n",
    "\n",
    "areaUnderROC = auc(fpr, tpr)\n",
    "\n",
    "plt.figure()\n",
    "plt.plot(fpr, tpr, color='r', lw=2, label='ROC curve')\n",
    "plt.plot([0, 1], [0, 1], color='k', lw=2, linestyle='--')\n",
    "plt.xlim([0.0, 1.0])\n",
    "plt.ylim([0.0, 1.05])\n",
    "plt.xlabel('FPR')\n",
    "plt.ylabel('TPR')\n",
    "plt.title('ROC: AUC = {0:0.2f}'.format(areaUnderROC))\n",
    "plt.legend(loc=\"lower right\")\n",
    "plt.show()"
   ]
  },
  {
   "cell_type": "markdown",
   "metadata": {},
   "source": [
    "### Single SKlearn Log Regression Mean"
   ]
  },
  {
   "cell_type": "code",
   "execution_count": 440,
   "metadata": {},
   "outputs": [
    {
     "name": "stdout",
     "output_type": "stream",
     "text": [
      "Index(['Mean', 'IV'], dtype='object')\n"
     ]
    },
    {
     "data": {
      "image/png": "[encoded data removed]",
      "text/plain": [
       "<matplotlib.figure.Figure at 0x1296102e8>"
      ]
     },
     "metadata": {
      "needs_background": "light"
     },
     "output_type": "display_data"
    },
    {
     "data": {
      "image/png": "[encoded data removed]",
      "text/plain": [
       "<matplotlib.figure.Figure at 0x12bb1af60>"
      ]
     },
     "metadata": {
      "needs_background": "light"
     },
     "output_type": "display_data"
    }
   ],
   "source": [
    "from sklearn.linear_model import LogisticRegression \n",
    "from sklearn.model_selection import train_test_split\n",
    "from sklearn.model_selection import StratifiedKFold\n",
    "from sklearn.metrics import precision_recall_curve, average_precision_score, log_loss\n",
    "from sklearn.metrics import roc_curve, auc, roc_auc_score, confusion_matrix\n",
    "X = feat.drop(['label','index','f.prop', 'Variance', 'AR','RMSSD','IS' ], axis=1)\n",
    "y = feat['label']\n",
    "X_train,  X_test, y_train, y_test = train_test_split(X,y,test_size=0.1,random_state=0,  shuffle=True)\n",
    "k_fold = StratifiedKFold(n_splits=10, shuffle=True, random_state=123)\n",
    "print(X.columns)\n",
    "\n",
    "# Logisitc Regression\n",
    "class_weight = 'balanced'\n",
    "penalty = 'l1'\n",
    "C=1\n",
    "n_jobs =1\n",
    "solver='liblinear'\n",
    "logReg = LogisticRegression(C=C,random_state=133,penalty = penalty, solver=solver, n_jobs=n_jobs, fit_intercept=True )\n",
    "\n",
    "trainingScores = []\n",
    "cvScores = []\n",
    "predictionsBasedOnKFolds = pd.DataFrame(data=[],index=y_train.index,columns=[0,1])\n",
    "\n",
    "for train_index, test_index in k_fold.split(X_train,y_train):\n",
    "    X_train_fold, X_cv_fold = X_train.iloc[train_index,:], X_train.iloc[test_index,:]\n",
    "    y_train_fold, y_cv_fold = y_train.iloc[train_index],y_train.iloc[test_index]\n",
    "\n",
    "    logReg.fit(X_train_fold, y_train_fold)\n",
    "    loglossTraining = log_loss(y_train_fold,logReg.predict_proba(X_train_fold)[:,1])\n",
    "    \n",
    "\n",
    "    trainingScores.append(loglossTraining)\n",
    "\n",
    "    predictionsBasedOnKFolds.loc[X_cv_fold.index,:] = logReg.predict_proba(X_cv_fold)\n",
    "    loglossCV = log_loss(y_cv_fold, predictionsBasedOnKFolds.loc[X_cv_fold.index,1])\n",
    "    cvScores.append(loglossCV)\n",
    "\n",
    "\n",
    "preds = pd.concat([y_train,predictionsBasedOnKFolds.loc[:,1]], axis=1)\n",
    "preds.columns = ['trueLabel','prediction']\n",
    "predictionsBasedOnKFoldsLogisticRegression = preds.copy()\n",
    "\n",
    "\n",
    "precision, recall, thresholds = precision_recall_curve(preds['trueLabel'],preds['prediction'])\n",
    "\n",
    "\n",
    "average_precision = average_precision_score(preds['trueLabel'],\n",
    "                                            preds['prediction'])\n",
    "\n",
    "plt.step(recall, precision, color='k', alpha=0.7, where='post')\n",
    "plt.fill_between(recall, precision, step='post', alpha=0.3, color='k')\n",
    "\n",
    "plt.xlabel('Recall')\n",
    "plt.ylabel('Precision')\n",
    "plt.ylim([0.0, 1.05])\n",
    "plt.xlim([0.0, 1.0])\n",
    "\n",
    "plt.title('PRC: Average Precision = {0:0.2f}'.format(\n",
    "          average_precision))\n",
    "\n",
    "fpr, tpr, thresholds = roc_curve(preds['trueLabel'],preds['prediction'])\n",
    "\n",
    "areaUnderROC = auc(fpr, tpr)\n",
    "\n",
    "plt.figure()\n",
    "plt.plot(fpr, tpr, color='r', lw=2, label='ROC curve')\n",
    "plt.plot([0, 1], [0, 1], color='k', lw=2, linestyle='--')\n",
    "plt.xlim([0.0, 1.0])\n",
    "plt.ylim([0.0, 1.05])\n",
    "plt.xlabel('FPR')\n",
    "plt.ylabel('TPR')\n",
    "plt.title('ROC: AUC = {0:0.2f}'.format(areaUnderROC))\n",
    "plt.legend(loc=\"lower right\")\n",
    "plt.show()"
   ]
  },
  {
   "cell_type": "code",
   "execution_count": 443,
   "metadata": {},
   "outputs": [
    {
     "ename": "KeyError",
     "evalue": "\"None of [Index(['Mean'], dtype='object')] are in the [columns]\"",
     "output_type": "error",
     "traceback": [
      "\u001b[0;31m---------------------------------------------------------------------------\u001b[0m",
      "\u001b[0;31mKeyError\u001b[0m                                  Traceback (most recent call last)",
      "\u001b[0;32m<ipython-input-443-3f4e6063debf>\u001b[0m in \u001b[0;36m<module>\u001b[0;34m\u001b[0m\n\u001b[0;32m----> 1\u001b[0;31m \u001b[0mX\u001b[0m\u001b[0;34m[\u001b[0m\u001b[0;34m[\u001b[0m\u001b[0;34m'Mean'\u001b[0m\u001b[0;34m]\u001b[0m\u001b[0;34m]\u001b[0m\u001b[0;34m\u001b[0m\u001b[0m\n\u001b[0m",
      "\u001b[0;32m/Library/Frameworks/Python.framework/Versions/3.6/lib/python3.6/site-packages/pandas/core/frame.py\u001b[0m in \u001b[0;36m__getitem__\u001b[0;34m(self, key)\u001b[0m\n\u001b[1;32m   2999\u001b[0m             \u001b[0;32mif\u001b[0m \u001b[0mis_iterator\u001b[0m\u001b[0;34m(\u001b[0m\u001b[0mkey\u001b[0m\u001b[0;34m)\u001b[0m\u001b[0;34m:\u001b[0m\u001b[0;34m\u001b[0m\u001b[0m\n\u001b[1;32m   3000\u001b[0m                 \u001b[0mkey\u001b[0m \u001b[0;34m=\u001b[0m \u001b[0mlist\u001b[0m\u001b[0;34m(\u001b[0m\u001b[0mkey\u001b[0m\u001b[0;34m)\u001b[0m\u001b[0;34m\u001b[0m\u001b[0m\n\u001b[0;32m-> 3001\u001b[0;31m             \u001b[0mindexer\u001b[0m \u001b[0;34m=\u001b[0m \u001b[0mself\u001b[0m\u001b[0;34m.\u001b[0m\u001b[0mloc\u001b[0m\u001b[0;34m.\u001b[0m\u001b[0m_convert_to_indexer\u001b[0m\u001b[0;34m(\u001b[0m\u001b[0mkey\u001b[0m\u001b[0;34m,\u001b[0m \u001b[0maxis\u001b[0m\u001b[0;34m=\u001b[0m\u001b[0;36m1\u001b[0m\u001b[0;34m,\u001b[0m \u001b[0mraise_missing\u001b[0m\u001b[0;34m=\u001b[0m\u001b[0;32mTrue\u001b[0m\u001b[0;34m)\u001b[0m\u001b[0;34m\u001b[0m\u001b[0m\n\u001b[0m\u001b[1;32m   3002\u001b[0m \u001b[0;34m\u001b[0m\u001b[0m\n\u001b[1;32m   3003\u001b[0m         \u001b[0;31m# take() does not accept boolean indexers\u001b[0m\u001b[0;34m\u001b[0m\u001b[0;34m\u001b[0m\u001b[0m\n",
      "\u001b[0;32m/Library/Frameworks/Python.framework/Versions/3.6/lib/python3.6/site-packages/pandas/core/indexing.py\u001b[0m in \u001b[0;36m_convert_to_indexer\u001b[0;34m(self, obj, axis, is_setter, raise_missing)\u001b[0m\n\u001b[1;32m   1283\u001b[0m                 \u001b[0;31m# When setting, missing keys are not allowed, even with .loc:\u001b[0m\u001b[0;34m\u001b[0m\u001b[0;34m\u001b[0m\u001b[0m\n\u001b[1;32m   1284\u001b[0m                 \u001b[0mkwargs\u001b[0m \u001b[0;34m=\u001b[0m \u001b[0;34m{\u001b[0m\u001b[0;34m\"raise_missing\"\u001b[0m\u001b[0;34m:\u001b[0m \u001b[0;32mTrue\u001b[0m \u001b[0;32mif\u001b[0m \u001b[0mis_setter\u001b[0m \u001b[0;32melse\u001b[0m \u001b[0mraise_missing\u001b[0m\u001b[0;34m}\u001b[0m\u001b[0;34m\u001b[0m\u001b[0m\n\u001b[0;32m-> 1285\u001b[0;31m                 \u001b[0;32mreturn\u001b[0m \u001b[0mself\u001b[0m\u001b[0;34m.\u001b[0m\u001b[0m_get_listlike_indexer\u001b[0m\u001b[0;34m(\u001b[0m\u001b[0mobj\u001b[0m\u001b[0;34m,\u001b[0m \u001b[0maxis\u001b[0m\u001b[0;34m,\u001b[0m \u001b[0;34m**\u001b[0m\u001b[0mkwargs\u001b[0m\u001b[0;34m)\u001b[0m\u001b[0;34m[\u001b[0m\u001b[0;36m1\u001b[0m\u001b[0;34m]\u001b[0m\u001b[0;34m\u001b[0m\u001b[0m\n\u001b[0m\u001b[1;32m   1286\u001b[0m         \u001b[0;32melse\u001b[0m\u001b[0;34m:\u001b[0m\u001b[0;34m\u001b[0m\u001b[0m\n\u001b[1;32m   1287\u001b[0m             \u001b[0;32mtry\u001b[0m\u001b[0;34m:\u001b[0m\u001b[0;34m\u001b[0m\u001b[0m\n",
      "\u001b[0;32m/Library/Frameworks/Python.framework/Versions/3.6/lib/python3.6/site-packages/pandas/core/indexing.py\u001b[0m in \u001b[0;36m_get_listlike_indexer\u001b[0;34m(self, key, axis, raise_missing)\u001b[0m\n\u001b[1;32m   1090\u001b[0m \u001b[0;34m\u001b[0m\u001b[0m\n\u001b[1;32m   1091\u001b[0m         self._validate_read_indexer(\n\u001b[0;32m-> 1092\u001b[0;31m             \u001b[0mkeyarr\u001b[0m\u001b[0;34m,\u001b[0m \u001b[0mindexer\u001b[0m\u001b[0;34m,\u001b[0m \u001b[0mo\u001b[0m\u001b[0;34m.\u001b[0m\u001b[0m_get_axis_number\u001b[0m\u001b[0;34m(\u001b[0m\u001b[0maxis\u001b[0m\u001b[0;34m)\u001b[0m\u001b[0;34m,\u001b[0m \u001b[0mraise_missing\u001b[0m\u001b[0;34m=\u001b[0m\u001b[0mraise_missing\u001b[0m\u001b[0;34m\u001b[0m\u001b[0m\n\u001b[0m\u001b[1;32m   1093\u001b[0m         )\n\u001b[1;32m   1094\u001b[0m         \u001b[0;32mreturn\u001b[0m \u001b[0mkeyarr\u001b[0m\u001b[0;34m,\u001b[0m \u001b[0mindexer\u001b[0m\u001b[0;34m\u001b[0m\u001b[0m\n",
      "\u001b[0;32m/Library/Frameworks/Python.framework/Versions/3.6/lib/python3.6/site-packages/pandas/core/indexing.py\u001b[0m in \u001b[0;36m_validate_read_indexer\u001b[0;34m(self, key, indexer, axis, raise_missing)\u001b[0m\n\u001b[1;32m   1175\u001b[0m                 raise KeyError(\n\u001b[1;32m   1176\u001b[0m                     \"None of [{key}] are in the [{axis}]\".format(\n\u001b[0;32m-> 1177\u001b[0;31m                         \u001b[0mkey\u001b[0m\u001b[0;34m=\u001b[0m\u001b[0mkey\u001b[0m\u001b[0;34m,\u001b[0m \u001b[0maxis\u001b[0m\u001b[0;34m=\u001b[0m\u001b[0mself\u001b[0m\u001b[0;34m.\u001b[0m\u001b[0mobj\u001b[0m\u001b[0;34m.\u001b[0m\u001b[0m_get_axis_name\u001b[0m\u001b[0;34m(\u001b[0m\u001b[0maxis\u001b[0m\u001b[0;34m)\u001b[0m\u001b[0;34m\u001b[0m\u001b[0m\n\u001b[0m\u001b[1;32m   1178\u001b[0m                     )\n\u001b[1;32m   1179\u001b[0m                 )\n",
      "\u001b[0;31mKeyError\u001b[0m: \"None of [Index(['Mean'], dtype='object')] are in the [columns]\""
     ]
    }
   ],
   "source": [
    "X[['Mean']]"
   ]
  },
  {
   "cell_type": "code",
   "execution_count": 444,
   "metadata": {},
   "outputs": [
    {
     "name": "stdout",
     "output_type": "stream",
     "text": [
      "Optimization terminated successfully.\n",
      "         Current function value: 0.381288\n",
      "         Iterations 7\n"
     ]
    },
    {
     "name": "stderr",
     "output_type": "stream",
     "text": [
      "/Library/Frameworks/Python.framework/Versions/3.6/lib/python3.6/site-packages/numpy/core/fromnumeric.py:2389: FutureWarning: Method .ptp is deprecated and will be removed in a future version. Use numpy.ptp instead.\n",
      "  return ptp(axis=axis, out=out, **kwargs)\n"
     ]
    },
    {
     "ename": "LinAlgError",
     "evalue": "Singular matrix",
     "output_type": "error",
     "traceback": [
      "\u001b[0;31m---------------------------------------------------------------------------\u001b[0m",
      "\u001b[0;31mLinAlgError\u001b[0m                               Traceback (most recent call last)",
      "\u001b[0;32m<ipython-input-444-fa4dd05bded4>\u001b[0m in \u001b[0;36m<module>\u001b[0;34m\u001b[0m\n\u001b[1;32m      7\u001b[0m     \u001b[0;31m#X = pd.DataFrame(scaler.fit_transform(X), columns= X.columns.values)\u001b[0m\u001b[0;34m\u001b[0m\u001b[0;34m\u001b[0m\u001b[0m\n\u001b[1;32m      8\u001b[0m     \u001b[0mdat\u001b[0m \u001b[0;34m=\u001b[0m \u001b[0mtools\u001b[0m\u001b[0;34m.\u001b[0m\u001b[0madd_constant\u001b[0m\u001b[0;34m(\u001b[0m\u001b[0mX\u001b[0m\u001b[0;34m[\u001b[0m\u001b[0;34m[\u001b[0m\u001b[0;34m'Mean'\u001b[0m\u001b[0;34m,\u001b[0m \u001b[0mf\u001b[0m\u001b[0;34m]\u001b[0m\u001b[0;34m]\u001b[0m\u001b[0;34m)\u001b[0m\u001b[0;34m\u001b[0m\u001b[0m\n\u001b[0;32m----> 9\u001b[0;31m     \u001b[0mlog_reg\u001b[0m \u001b[0;34m=\u001b[0m \u001b[0msm\u001b[0m\u001b[0;34m.\u001b[0m\u001b[0mLogit\u001b[0m\u001b[0;34m(\u001b[0m\u001b[0my\u001b[0m\u001b[0;34m,\u001b[0m \u001b[0mdat\u001b[0m\u001b[0;34m)\u001b[0m\u001b[0;34m.\u001b[0m\u001b[0mfit\u001b[0m\u001b[0;34m(\u001b[0m\u001b[0;34m)\u001b[0m\u001b[0;34m\u001b[0m\u001b[0m\n\u001b[0m\u001b[1;32m     10\u001b[0m     \u001b[0mprint\u001b[0m\u001b[0;34m(\u001b[0m\u001b[0mlog_reg\u001b[0m\u001b[0;34m.\u001b[0m\u001b[0msummary\u001b[0m\u001b[0;34m(\u001b[0m\u001b[0;34m)\u001b[0m\u001b[0;34m)\u001b[0m\u001b[0;34m\u001b[0m\u001b[0m\n\u001b[1;32m     11\u001b[0m \u001b[0;34m\u001b[0m\u001b[0m\n",
      "\u001b[0;32m/Library/Frameworks/Python.framework/Versions/3.6/lib/python3.6/site-packages/statsmodels/discrete/discrete_model.py\u001b[0m in \u001b[0;36mfit\u001b[0;34m(self, start_params, method, maxiter, full_output, disp, callback, **kwargs)\u001b[0m\n\u001b[1;32m   1911\u001b[0m         bnryfit = super(Logit, self).fit(start_params=start_params,\n\u001b[1;32m   1912\u001b[0m                 \u001b[0mmethod\u001b[0m\u001b[0;34m=\u001b[0m\u001b[0mmethod\u001b[0m\u001b[0;34m,\u001b[0m \u001b[0mmaxiter\u001b[0m\u001b[0;34m=\u001b[0m\u001b[0mmaxiter\u001b[0m\u001b[0;34m,\u001b[0m \u001b[0mfull_output\u001b[0m\u001b[0;34m=\u001b[0m\u001b[0mfull_output\u001b[0m\u001b[0;34m,\u001b[0m\u001b[0;34m\u001b[0m\u001b[0m\n\u001b[0;32m-> 1913\u001b[0;31m                 disp=disp, callback=callback, **kwargs)\n\u001b[0m\u001b[1;32m   1914\u001b[0m \u001b[0;34m\u001b[0m\u001b[0m\n\u001b[1;32m   1915\u001b[0m         \u001b[0mdiscretefit\u001b[0m \u001b[0;34m=\u001b[0m \u001b[0mLogitResults\u001b[0m\u001b[0;34m(\u001b[0m\u001b[0mself\u001b[0m\u001b[0;34m,\u001b[0m \u001b[0mbnryfit\u001b[0m\u001b[0;34m)\u001b[0m\u001b[0;34m\u001b[0m\u001b[0m\n",
      "\u001b[0;32m/Library/Frameworks/Python.framework/Versions/3.6/lib/python3.6/site-packages/statsmodels/discrete/discrete_model.py\u001b[0m in \u001b[0;36mfit\u001b[0;34m(self, start_params, method, maxiter, full_output, disp, callback, **kwargs)\u001b[0m\n\u001b[1;32m    214\u001b[0m             \u001b[0mstart_params\u001b[0m\u001b[0;34m=\u001b[0m\u001b[0mstart_params\u001b[0m\u001b[0;34m,\u001b[0m\u001b[0;34m\u001b[0m\u001b[0m\n\u001b[1;32m    215\u001b[0m             \u001b[0mmethod\u001b[0m\u001b[0;34m=\u001b[0m\u001b[0mmethod\u001b[0m\u001b[0;34m,\u001b[0m \u001b[0mmaxiter\u001b[0m\u001b[0;34m=\u001b[0m\u001b[0mmaxiter\u001b[0m\u001b[0;34m,\u001b[0m \u001b[0mfull_output\u001b[0m\u001b[0;34m=\u001b[0m\u001b[0mfull_output\u001b[0m\u001b[0;34m,\u001b[0m\u001b[0;34m\u001b[0m\u001b[0m\n\u001b[0;32m--> 216\u001b[0;31m             disp=disp, callback=callback, **kwargs)\n\u001b[0m\u001b[1;32m    217\u001b[0m \u001b[0;34m\u001b[0m\u001b[0m\n\u001b[1;32m    218\u001b[0m         \u001b[0;32mreturn\u001b[0m \u001b[0mmlefit\u001b[0m  \u001b[0;31m# It is up to subclasses to wrap results\u001b[0m\u001b[0;34m\u001b[0m\u001b[0m\n",
      "\u001b[0;32m/Library/Frameworks/Python.framework/Versions/3.6/lib/python3.6/site-packages/statsmodels/base/model.py\u001b[0m in \u001b[0;36mfit\u001b[0;34m(self, start_params, method, maxiter, full_output, disp, fargs, callback, retall, skip_hessian, **kwargs)\u001b[0m\n\u001b[1;32m    531\u001b[0m             \u001b[0mHinv\u001b[0m \u001b[0;34m=\u001b[0m \u001b[0mcov_params_func\u001b[0m\u001b[0;34m(\u001b[0m\u001b[0mself\u001b[0m\u001b[0;34m,\u001b[0m \u001b[0mxopt\u001b[0m\u001b[0;34m,\u001b[0m \u001b[0mretvals\u001b[0m\u001b[0;34m)\u001b[0m\u001b[0;34m\u001b[0m\u001b[0m\n\u001b[1;32m    532\u001b[0m         \u001b[0;32melif\u001b[0m \u001b[0mmethod\u001b[0m \u001b[0;34m==\u001b[0m \u001b[0;34m'newton'\u001b[0m \u001b[0;32mand\u001b[0m \u001b[0mfull_output\u001b[0m\u001b[0;34m:\u001b[0m\u001b[0;34m\u001b[0m\u001b[0m\n\u001b[0;32m--> 533\u001b[0;31m             \u001b[0mHinv\u001b[0m \u001b[0;34m=\u001b[0m \u001b[0mnp\u001b[0m\u001b[0;34m.\u001b[0m\u001b[0mlinalg\u001b[0m\u001b[0;34m.\u001b[0m\u001b[0minv\u001b[0m\u001b[0;34m(\u001b[0m\u001b[0;34m-\u001b[0m\u001b[0mretvals\u001b[0m\u001b[0;34m[\u001b[0m\u001b[0;34m'Hessian'\u001b[0m\u001b[0;34m]\u001b[0m\u001b[0;34m)\u001b[0m \u001b[0;34m/\u001b[0m \u001b[0mnobs\u001b[0m\u001b[0;34m\u001b[0m\u001b[0m\n\u001b[0m\u001b[1;32m    534\u001b[0m         \u001b[0;32melif\u001b[0m \u001b[0;32mnot\u001b[0m \u001b[0mskip_hessian\u001b[0m\u001b[0;34m:\u001b[0m\u001b[0;34m\u001b[0m\u001b[0m\n\u001b[1;32m    535\u001b[0m             \u001b[0mH\u001b[0m \u001b[0;34m=\u001b[0m \u001b[0;34m-\u001b[0m\u001b[0;36m1\u001b[0m \u001b[0;34m*\u001b[0m \u001b[0mself\u001b[0m\u001b[0;34m.\u001b[0m\u001b[0mhessian\u001b[0m\u001b[0;34m(\u001b[0m\u001b[0mxopt\u001b[0m\u001b[0;34m)\u001b[0m\u001b[0;34m\u001b[0m\u001b[0m\n",
      "\u001b[0;32m/Library/Frameworks/Python.framework/Versions/3.6/lib/python3.6/site-packages/numpy/linalg/linalg.py\u001b[0m in \u001b[0;36minv\u001b[0;34m(a)\u001b[0m\n\u001b[1;32m    549\u001b[0m     \u001b[0msignature\u001b[0m \u001b[0;34m=\u001b[0m \u001b[0;34m'D->D'\u001b[0m \u001b[0;32mif\u001b[0m \u001b[0misComplexType\u001b[0m\u001b[0;34m(\u001b[0m\u001b[0mt\u001b[0m\u001b[0;34m)\u001b[0m \u001b[0;32melse\u001b[0m \u001b[0;34m'd->d'\u001b[0m\u001b[0;34m\u001b[0m\u001b[0m\n\u001b[1;32m    550\u001b[0m     \u001b[0mextobj\u001b[0m \u001b[0;34m=\u001b[0m \u001b[0mget_linalg_error_extobj\u001b[0m\u001b[0;34m(\u001b[0m\u001b[0m_raise_linalgerror_singular\u001b[0m\u001b[0;34m)\u001b[0m\u001b[0;34m\u001b[0m\u001b[0m\n\u001b[0;32m--> 551\u001b[0;31m     \u001b[0mainv\u001b[0m \u001b[0;34m=\u001b[0m \u001b[0m_umath_linalg\u001b[0m\u001b[0;34m.\u001b[0m\u001b[0minv\u001b[0m\u001b[0;34m(\u001b[0m\u001b[0ma\u001b[0m\u001b[0;34m,\u001b[0m \u001b[0msignature\u001b[0m\u001b[0;34m=\u001b[0m\u001b[0msignature\u001b[0m\u001b[0;34m,\u001b[0m \u001b[0mextobj\u001b[0m\u001b[0;34m=\u001b[0m\u001b[0mextobj\u001b[0m\u001b[0;34m)\u001b[0m\u001b[0;34m\u001b[0m\u001b[0m\n\u001b[0m\u001b[1;32m    552\u001b[0m     \u001b[0;32mreturn\u001b[0m \u001b[0mwrap\u001b[0m\u001b[0;34m(\u001b[0m\u001b[0mainv\u001b[0m\u001b[0;34m.\u001b[0m\u001b[0mastype\u001b[0m\u001b[0;34m(\u001b[0m\u001b[0mresult_t\u001b[0m\u001b[0;34m,\u001b[0m \u001b[0mcopy\u001b[0m\u001b[0;34m=\u001b[0m\u001b[0;32mFalse\u001b[0m\u001b[0;34m)\u001b[0m\u001b[0;34m)\u001b[0m\u001b[0;34m\u001b[0m\u001b[0m\n\u001b[1;32m    553\u001b[0m \u001b[0;34m\u001b[0m\u001b[0m\n",
      "\u001b[0;32m/Library/Frameworks/Python.framework/Versions/3.6/lib/python3.6/site-packages/numpy/linalg/linalg.py\u001b[0m in \u001b[0;36m_raise_linalgerror_singular\u001b[0;34m(err, flag)\u001b[0m\n\u001b[1;32m     95\u001b[0m \u001b[0;34m\u001b[0m\u001b[0m\n\u001b[1;32m     96\u001b[0m \u001b[0;32mdef\u001b[0m \u001b[0m_raise_linalgerror_singular\u001b[0m\u001b[0;34m(\u001b[0m\u001b[0merr\u001b[0m\u001b[0;34m,\u001b[0m \u001b[0mflag\u001b[0m\u001b[0;34m)\u001b[0m\u001b[0;34m:\u001b[0m\u001b[0;34m\u001b[0m\u001b[0m\n\u001b[0;32m---> 97\u001b[0;31m     \u001b[0;32mraise\u001b[0m \u001b[0mLinAlgError\u001b[0m\u001b[0;34m(\u001b[0m\u001b[0;34m\"Singular matrix\"\u001b[0m\u001b[0;34m)\u001b[0m\u001b[0;34m\u001b[0m\u001b[0m\n\u001b[0m\u001b[1;32m     98\u001b[0m \u001b[0;34m\u001b[0m\u001b[0m\n\u001b[1;32m     99\u001b[0m \u001b[0;32mdef\u001b[0m \u001b[0m_raise_linalgerror_nonposdef\u001b[0m\u001b[0;34m(\u001b[0m\u001b[0merr\u001b[0m\u001b[0;34m,\u001b[0m \u001b[0mflag\u001b[0m\u001b[0;34m)\u001b[0m\u001b[0;34m:\u001b[0m\u001b[0;34m\u001b[0m\u001b[0m\n",
      "\u001b[0;31mLinAlgError\u001b[0m: Singular matrix"
     ]
    }
   ],
   "source": [
    "X = feat.drop(['label','index','f.prop', 'Variance', 'AR', 'IS'], axis=1)\n",
    "y = feat['label']\n",
    "pot\n",
    "#Standardize the data \n",
    "scaler = StandardScaler()\n",
    "for f in X.columns:\n",
    "    #X = pd.DataFrame(scaler.fit_transform(X), columns= X.columns.values)\n",
    "    dat = tools.add_constant(X[['Mean', f]])\n",
    "    log_reg = sm.Logit(y, dat).fit()\n",
    "    print(log_reg.summary())\n",
    "  "
   ]
  },
  {
   "cell_type": "code",
   "execution_count": null,
   "metadata": {},
   "outputs": [],
   "source": [
    "print('Precision:', np.mean(precision))\n",
    "print('Recall:', np.mean(recall))\n",
    "\n",
    "confusion_matrix(y_test, logReg.predict(X_test))\n",
    "\n",
    "average_precision = average_precision_score(y_test,logReg.predict(X_test))\n",
    "\n",
    "\n",
    "print('Average Precision Test:',average_precision )\n",
    "precision, recall, thresholds = precision_recall_curve(y_test,logReg.predict(X_test))\n",
    "plt.step(recall, precision, color='k', alpha=0.7, where='post')\n",
    "plt.fill_between(recall, precision, step='post', alpha=0.3, color='k')\n",
    "\n",
    "plt.xlabel('Recall')\n",
    "plt.ylabel('Precision')\n",
    "plt.ylim([0.0, 1.05])\n",
    "plt.xlim([0.0, 1.0])\n",
    "\n",
    "plt.title('PRC: Average Precision Test = {0:0.2f}'.format(\n",
    "          average_precision))\n"
   ]
  }
 ],
 "metadata": {
  "kernelspec": {
   "display_name": "Python 3",
   "language": "python",
   "name": "python3"
  },
  "language_info": {
   "codemirror_mode": {
    "name": "ipython",
    "version": 3
   },
   "file_extension": ".py",
   "mimetype": "text/x-python",
   "name": "python",
   "nbconvert_exporter": "python",
   "pygments_lexer": "ipython3",
   "version": "3.6.0"
  }
 },
 "nbformat": 4,
 "nbformat_minor": 2
}
